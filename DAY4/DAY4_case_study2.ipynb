{
  "nbformat": 4,
  "nbformat_minor": 0,
  "metadata": {
    "colab": {
      "name": "DAY4 case study2.ipynb",
      "provenance": [],
      "collapsed_sections": [],
      "authorship_tag": "ABX9TyPXn52jgq3lajm+q25v5eu9",
      "include_colab_link": true
    },
    "kernelspec": {
      "name": "python3",
      "display_name": "Python 3"
    }
  },
  "cells": [
    {
      "cell_type": "markdown",
      "metadata": {
        "id": "view-in-github",
        "colab_type": "text"
      },
      "source": [
        "<a href=\"https://colab.research.google.com/github/atish-shanbhag/Python_Programming_in_DA_and_ML/blob/master/DAY4/DAY4_case_study2.ipynb\" target=\"_parent\"><img src=\"https://colab.research.google.com/assets/colab-badge.svg\" alt=\"Open In Colab\"/></a>"
      ]
    },
    {
      "cell_type": "markdown",
      "metadata": {
        "id": "0cz3WKUfBRb3",
        "colab_type": "text"
      },
      "source": [
        "#CASE STUDY - 2"
      ]
    },
    {
      "cell_type": "markdown",
      "metadata": {
        "id": "YuBzhwtIBNzD",
        "colab_type": "text"
      },
      "source": [
        "#Data munging and EDA can be performed as given in the PDF -Day 4 Session 1 Data Munging Manipulation Explonatory analysis worked out examples and Exercises. In addition to it, you can work on the following extra Explorations using matplotlib\n",
        "\n",
        "#Application Income Vs married\n",
        "\n",
        "#Deponents Vs married\n",
        "\n",
        "#Loan History Vs Gender"
      ]
    },
    {
      "cell_type": "code",
      "metadata": {
        "id": "HQhCL7YuAMcm",
        "colab_type": "code",
        "colab": {}
      },
      "source": [
        "import pandas as pd\n",
        "import numpy as np\n",
        "import matplotlib.pyplot as plt"
      ],
      "execution_count": 3,
      "outputs": []
    },
    {
      "cell_type": "markdown",
      "metadata": {
        "id": "gcdHoFyHASQT",
        "colab_type": "text"
      },
      "source": [
        "#Reading the dataset in a dataframe using Pandas"
      ]
    },
    {
      "cell_type": "code",
      "metadata": {
        "id": "KgfYm06TASih",
        "colab_type": "code",
        "colab": {
          "base_uri": "https://localhost:8080/",
          "height": 84
        },
        "outputId": "98454172-fc6b-4c84-bb5b-f48559585a6e"
      },
      "source": [
        "df = pd.read_csv(\"train.csv\") \n",
        "df.head(10)\n",
        "df.describe()\n",
        "df['Property_Area'].value_counts()"
      ],
      "execution_count": 4,
      "outputs": [
        {
          "output_type": "execute_result",
          "data": {
            "text/plain": [
              "Semiurban    233\n",
              "Urban        202\n",
              "Rural        179\n",
              "Name: Property_Area, dtype: int64"
            ]
          },
          "metadata": {
            "tags": []
          },
          "execution_count": 4
        }
      ]
    },
    {
      "cell_type": "markdown",
      "metadata": {
        "id": "Vs3cUmjLAavK",
        "colab_type": "text"
      },
      "source": [
        "#Visualize Applicant Income"
      ]
    },
    {
      "cell_type": "code",
      "metadata": {
        "id": "sn7jzlKMAbCa",
        "colab_type": "code",
        "colab": {
          "base_uri": "https://localhost:8080/",
          "height": 566
        },
        "outputId": "acce3ce5-7472-4be8-9ddd-cffed1595fc1"
      },
      "source": [
        "df['ApplicantIncome'].hist(bins=50)\n",
        "df.boxplot(column='ApplicantIncome', by = 'Education')"
      ],
      "execution_count": 5,
      "outputs": [
        {
          "output_type": "execute_result",
          "data": {
            "text/plain": [
              "<matplotlib.axes._subplots.AxesSubplot at 0x7fcc2a972dd8>"
            ]
          },
          "metadata": {
            "tags": []
          },
          "execution_count": 5
        },
        {
          "output_type": "display_data",
          "data": {
            "image/png": "[encoded data removed]",
            "text/plain": [
              "<Figure size 432x288 with 1 Axes>"
            ]
          },
          "metadata": {
            "tags": [],
            "needs_background": "light"
          }
        },
        {
          "output_type": "display_data",
          "data": {
            "image/png": "[encoded data removed]",
            "text/plain": [
              "<Figure size 432x288 with 1 Axes>"
            ]
          },
          "metadata": {
            "tags": [],
            "needs_background": "light"
          }
        }
      ]
    },
    {
      "cell_type": "markdown",
      "metadata": {
        "id": "EUuU7WtZAikm",
        "colab_type": "text"
      },
      "source": [
        "#Visualize Loan Amount"
      ]
    },
    {
      "cell_type": "code",
      "metadata": {
        "id": "qXEfNRchAi43",
        "colab_type": "code",
        "colab": {
          "base_uri": "https://localhost:8080/",
          "height": 281
        },
        "outputId": "4ab48f7d-bf1c-4c0e-b8b1-467ebde38324"
      },
      "source": [
        "df['LoanAmount'].hist(bins=50)"
      ],
      "execution_count": 6,
      "outputs": [
        {
          "output_type": "execute_result",
          "data": {
            "text/plain": [
              "<matplotlib.axes._subplots.AxesSubplot at 0x7fcc2a92b2e8>"
            ]
          },
          "metadata": {
            "tags": []
          },
          "execution_count": 6
        },
        {
          "output_type": "display_data",
          "data": {
            "image/png": "[encoded data removed]",
            "text/plain": [
              "<Figure size 432x288 with 1 Axes>"
            ]
          },
          "metadata": {
            "tags": [],
            "needs_background": "light"
          }
        }
      ]
    },
    {
      "cell_type": "markdown",
      "metadata": {
        "id": "-GfBdZU3AqFT",
        "colab_type": "text"
      },
      "source": [
        "#Data Manipulation"
      ]
    },
    {
      "cell_type": "code",
      "metadata": {
        "id": "ENe3uSWsAqV4",
        "colab_type": "code",
        "colab": {
          "base_uri": "https://localhost:8080/",
          "height": 251
        },
        "outputId": "9d209e9b-79ce-4bbd-f9e2-d5a6c4aa4591"
      },
      "source": [
        "temp1 = df['Credit_History'].value_counts(ascending=True)\n",
        "temp2 = df.pivot_table(values='Loan_Status',index=['Credit_History'],aggfunc=lambda x: x.map({'Y':1,'N':0}).mean())\n",
        "print('Frequency Table for Credit History:')\n",
        "print(temp1)\n",
        "\n",
        "print('\\nProbility of getting loan for each Credit History class:')\n",
        "print(temp2)\n",
        "\n",
        "temp3 = df['Married'].value_counts(ascending=True)\n",
        "temp4 = df.pivot_table(values='Loan_Status',index=['Married'],aggfunc=lambda x: x.map({'Y':1,'N':0}).mean())\n",
        "print('Frequency Table for Married History:')\n",
        "print(temp3)"
      ],
      "execution_count": 7,
      "outputs": [
        {
          "output_type": "stream",
          "text": [
            "Frequency Table for Credit History:\n",
            "0.0     89\n",
            "1.0    475\n",
            "Name: Credit_History, dtype: int64\n",
            "\n",
            "Probility of getting loan for each Credit History class:\n",
            "                Loan_Status\n",
            "Credit_History             \n",
            "0.0                0.078652\n",
            "1.0                0.795789\n",
            "Frequency Table for Married History:\n",
            "No     213\n",
            "Yes    398\n",
            "Name: Married, dtype: int64\n"
          ],
          "name": "stdout"
        }
      ]
    },
    {
      "cell_type": "markdown",
      "metadata": {
        "id": "ve8UxoP9AxOX",
        "colab_type": "text"
      },
      "source": [
        "#Visualize chances of getting loan"
      ]
    },
    {
      "cell_type": "code",
      "metadata": {
        "id": "5WCx7aqMAxf-",
        "colab_type": "code",
        "colab": {
          "base_uri": "https://localhost:8080/",
          "height": 588
        },
        "outputId": "da38a08d-21da-4d71-b4d3-d570adee488f"
      },
      "source": [
        "fig = plt.figure(figsize=(8,4))\n",
        "ax1 = fig.add_subplot(121)\n",
        "ax1.set_xlabel('Credit_History')\n",
        "ax1.set_ylabel('Count of Applicants')\n",
        "ax1.set_title(\"Applicants by Credit_History\")\n",
        "temp1.plot(kind='bar')\n",
        "\n",
        "ax2 = fig.add_subplot(122)\n",
        "temp2.plot(kind = 'bar')\n",
        "ax2.set_xlabel('Credit_History')\n",
        "ax2.set_ylabel('Probability of getting loan')\n",
        "ax2.set_title(\"Probability of getting loan by credit history\")"
      ],
      "execution_count": 8,
      "outputs": [
        {
          "output_type": "execute_result",
          "data": {
            "text/plain": [
              "Text(0.5, 1.0, 'Probability of getting loan by credit history')"
            ]
          },
          "metadata": {
            "tags": []
          },
          "execution_count": 8
        },
        {
          "output_type": "display_data",
          "data": {
            "image/png": "[encoded data removed]",
            "text/plain": [
              "<Figure size 576x288 with 2 Axes>"
            ]
          },
          "metadata": {
            "tags": [],
            "needs_background": "light"
          }
        },
        {
          "output_type": "display_data",
          "data": {
            "image/png": "[encoded data removed]",
            "text/plain": [
              "<Figure size 432x288 with 1 Axes>"
            ]
          },
          "metadata": {
            "tags": [],
            "needs_background": "light"
          }
        }
      ]
    },
    {
      "cell_type": "markdown",
      "metadata": {
        "id": "qb7zLT6iA5pX",
        "colab_type": "text"
      },
      "source": [
        "#Visualize chances of getting loan -- Married"
      ]
    },
    {
      "cell_type": "code",
      "metadata": {
        "id": "ZY3DuIMHA54I",
        "colab_type": "code",
        "colab": {
          "base_uri": "https://localhost:8080/",
          "height": 585
        },
        "outputId": "16d7e702-4b58-4da3-f877-afb2acb4279f"
      },
      "source": [
        "fig = plt.figure(figsize=(8,4))\n",
        "ax1 = fig.add_subplot(121)\n",
        "ax1.set_xlabel('Married status')\n",
        "ax1.set_ylabel('Loan status')\n",
        "ax1.set_title(\"Applicants by Married status\")\n",
        "temp3.plot(kind='bar')\n",
        "\n",
        "ax2 = fig.add_subplot(122)\n",
        "temp4.plot(kind = 'bar')\n",
        "ax2.set_xlabel('Married status')\n",
        "ax2.set_ylabel('Probability of getting loan')\n",
        "ax2.set_title(\"Probability of getting loan by married status\")"
      ],
      "execution_count": 9,
      "outputs": [
        {
          "output_type": "execute_result",
          "data": {
            "text/plain": [
              "Text(0.5, 1.0, 'Probability of getting loan by married status')"
            ]
          },
          "metadata": {
            "tags": []
          },
          "execution_count": 9
        },
        {
          "output_type": "display_data",
          "data": {
            "image/png": "[encoded data removed]",
            "text/plain": [
              "<Figure size 576x288 with 2 Axes>"
            ]
          },
          "metadata": {
            "tags": [],
            "needs_background": "light"
          }
        },
        {
          "output_type": "display_data",
          "data": {
            "image/png": "[encoded data removed]",
            "text/plain": [
              "<Figure size 432x288 with 1 Axes>"
            ]
          },
          "metadata": {
            "tags": [],
            "needs_background": "light"
          }
        }
      ]
    },
    {
      "cell_type": "markdown",
      "metadata": {
        "id": "bD_Uda5bBCqx",
        "colab_type": "text"
      },
      "source": [
        "#Check missing values"
      ]
    },
    {
      "cell_type": "code",
      "metadata": {
        "id": "7EsZdQurBC8N",
        "colab_type": "code",
        "colab": {
          "base_uri": "https://localhost:8080/",
          "height": 251
        },
        "outputId": "bc39a0f9-dff7-463b-dc59-98025fd29869"
      },
      "source": [
        "df.apply(lambda x: sum(x.isnull()), axis=0)"
      ],
      "execution_count": 10,
      "outputs": [
        {
          "output_type": "execute_result",
          "data": {
            "text/plain": [
              "Loan_ID               0\n",
              "Gender               13\n",
              "Married               3\n",
              "Dependents           15\n",
              "Education             0\n",
              "Self_Employed        32\n",
              "ApplicantIncome       0\n",
              "CoapplicantIncome     0\n",
              "LoanAmount           22\n",
              "Loan_Amount_Term     14\n",
              "Credit_History       50\n",
              "Property_Area         0\n",
              "Loan_Status           0\n",
              "dtype: int64"
            ]
          },
          "metadata": {
            "tags": []
          },
          "execution_count": 10
        }
      ]
    }
  ]
}