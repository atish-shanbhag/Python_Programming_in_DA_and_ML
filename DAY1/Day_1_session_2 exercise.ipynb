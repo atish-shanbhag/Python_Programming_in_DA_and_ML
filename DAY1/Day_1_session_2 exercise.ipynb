{
  "nbformat": 4,
  "nbformat_minor": 0,
  "metadata": {
    "colab": {
      "name": "Day 2 session 2.ipynb",
      "provenance": [],
      "authorship_tag": "ABX9TyNu4e5d8ZLsuZ2QjWhDZUXb",
      "include_colab_link": true
    },
    "kernelspec": {
      "name": "python3",
      "display_name": "Python 3"
    }
  },
  "cells": [
    {
      "cell_type": "markdown",
      "metadata": {
        "id": "view-in-github",
        "colab_type": "text"
      },
      "source": [
        "<a href=\"https://colab.research.google.com/github/sinchana514/Python_Programming_in_DA_and_ML/blob/master/Day_1_session_2%20exercise.ipynb\" target=\"_parent\"><img src=\"https://colab.research.google.com/assets/colab-badge.svg\" alt=\"Open In Colab\"/></a>"
      ]
    },
    {
      "cell_type": "markdown",
      "metadata": {
        "id": "P_Ezy6wt1-oz",
        "colab_type": "text"
      },
      "source": [
        "Write a program to print the triangle"
      ]
    },
    {
      "cell_type": "code",
      "metadata": {
        "id": "SxM4k7Mj2AU_",
        "colab_type": "code",
        "outputId": "53b86eca-74c6-460c-d917-00e44c9c00c4",
        "colab": {
          "base_uri": "https://localhost:8080/",
          "height": 118
        }
      },
      "source": [
        "n=int(input(\"Enter number:\"));\n",
        "for i in range(n+1):\n",
        "    c=i\n",
        "    for j in range(1,i+1):\n",
        "        print(c, end=\" \")\n",
        "        c=c+1\n",
        "    print('')"
      ],
      "execution_count": 0,
      "outputs": [
        {
          "output_type": "stream",
          "text": [
            "Enter number:4\n",
            "\n",
            "1 \n",
            "2 3 \n",
            "3 4 5 \n",
            "4 5 6 7 \n"
          ],
          "name": "stdout"
        }
      ]
    },
    {
      "cell_type": "markdown",
      "metadata": {
        "id": "weOGi2tA2V3Z",
        "colab_type": "text"
      },
      "source": [
        "Write a program to print the triangle"
      ]
    },
    {
      "cell_type": "code",
      "metadata": {
        "id": "zljRogiz2WIU",
        "colab_type": "code",
        "outputId": "5b6cc5a7-f331-4d75-af5d-543cda85097b",
        "colab": {
          "base_uri": "https://localhost:8080/",
          "height": 118
        }
      },
      "source": [
        "n=int(input(\"Enter number:\"));\n",
        "for i in range(n+1):\n",
        "    for j in range(i):\n",
        "        print ('* ', end=\"\")\n",
        "    print('')"
      ],
      "execution_count": 0,
      "outputs": [
        {
          "output_type": "stream",
          "text": [
            "Enter number:4\n",
            "\n",
            "* \n",
            "* * \n",
            "* * * \n",
            "* * * * \n"
          ],
          "name": "stdout"
        }
      ]
    },
    {
      "cell_type": "markdown",
      "metadata": {
        "id": "5TYjrECs2gwa",
        "colab_type": "text"
      },
      "source": [
        "Write a program to print the triangle"
      ]
    },
    {
      "cell_type": "code",
      "metadata": {
        "id": "QsS48dtZ2hKS",
        "colab_type": "code",
        "outputId": "0de011c9-195c-4b92-81df-b01d699868bc",
        "colab": {
          "base_uri": "https://localhost:8080/",
          "height": 134
        }
      },
      "source": [
        "n=int(input(\"Enter number:\"));\n",
        "for i in range(n+1):\n",
        "    c=n-i+1\n",
        "    for j in range(n,n-i,-1):\n",
        "        print(c, end=\" \")\n",
        "        c=c+1\n",
        "    print('')"
      ],
      "execution_count": 0,
      "outputs": [
        {
          "output_type": "stream",
          "text": [
            "Enter number:5\n",
            "\n",
            "5 \n",
            "4 5 \n",
            "3 4 5 \n",
            "2 3 4 5 \n",
            "1 2 3 4 5 \n"
          ],
          "name": "stdout"
        }
      ]
    },
    {
      "cell_type": "markdown",
      "metadata": {
        "id": "diK89q5U2s76",
        "colab_type": "text"
      },
      "source": [
        "Write a program to print the triangle"
      ]
    },
    {
      "cell_type": "code",
      "metadata": {
        "id": "b-DpKRnZ2tKC",
        "colab_type": "code",
        "outputId": "42e106e8-dd6f-4c55-ca98-36cd4f5fb576",
        "colab": {
          "base_uri": "https://localhost:8080/",
          "height": 118
        }
      },
      "source": [
        "n=int(input(\"Enter number:\"));\n",
        "for i in range(n,0,-1):\n",
        "    for j in range(i,0,-1):\n",
        "        print(j, end=\" \")\n",
        "    print('')"
      ],
      "execution_count": 0,
      "outputs": [
        {
          "output_type": "stream",
          "text": [
            "Enter number:5\n",
            "5 4 3 2 1 \n",
            "4 3 2 1 \n",
            "3 2 1 \n",
            "2 1 \n",
            "1 \n"
          ],
          "name": "stdout"
        }
      ]
    },
    {
      "cell_type": "markdown",
      "metadata": {
        "id": "w4BwwjDC261e",
        "colab_type": "text"
      },
      "source": [
        "\n",
        "Write a program to print the triangle"
      ]
    },
    {
      "cell_type": "code",
      "metadata": {
        "id": "ZR2vE__h27Nu",
        "colab_type": "code",
        "outputId": "d687ed6d-2711-4a00-f399-ba7f31a01241",
        "colab": {
          "base_uri": "https://localhost:8080/",
          "height": 151
        }
      },
      "source": [
        "n=int(input(\"Enter number:\"));\n",
        "for i in range(n):\n",
        "    for j in range(i+1,n+1,1):\n",
        "        print(j, end=\" \")\n",
        "    print('')\n",
        "for i in range(2,n+1):\n",
        "    c=n-i+1\n",
        "    for j in range(n,n-i,-1):\n",
        "        print(c, end=\" \")\n",
        "        c=c+1\n",
        "    print('')"
      ],
      "execution_count": 0,
      "outputs": [
        {
          "output_type": "stream",
          "text": [
            "Enter number:4\n",
            "1 2 3 4 \n",
            "2 3 4 \n",
            "3 4 \n",
            "4 \n",
            "3 4 \n",
            "2 3 4 \n",
            "1 2 3 4 \n"
          ],
          "name": "stdout"
        }
      ]
    },
    {
      "cell_type": "markdown",
      "metadata": {
        "id": "Iz0nQPlw3F7m",
        "colab_type": "text"
      },
      "source": [
        "Find the length of a string without using len functions"
      ]
    },
    {
      "cell_type": "code",
      "metadata": {
        "id": "HU2Czfzr3GKP",
        "colab_type": "code",
        "outputId": "1b056f74-fc9d-4638-a349-39db873ca5c3",
        "colab": {
          "base_uri": "https://localhost:8080/",
          "height": 50
        }
      },
      "source": [
        "\n",
        "str = input(\"Enter a string: \")\n",
        "counter = 0\n",
        "for s in str:\n",
        "      counter = counter+1\n",
        "print(\"Length of the input string is:\", counter)"
      ],
      "execution_count": 0,
      "outputs": [
        {
          "output_type": "stream",
          "text": [
            "Enter a string: hello world\n",
            "Length of the input string is: 11\n"
          ],
          "name": "stdout"
        }
      ]
    },
    {
      "cell_type": "markdown",
      "metadata": {
        "id": "G5WiaHfl3Non",
        "colab_type": "text"
      },
      "source": [
        "Find the no of words and characters in a string"
      ]
    },
    {
      "cell_type": "code",
      "metadata": {
        "id": "WmscXbM83N3Q",
        "colab_type": "code",
        "outputId": "90203a8e-1d43-4d73-cdab-36785dc1238d",
        "colab": {
          "base_uri": "https://localhost:8080/",
          "height": 101
        }
      },
      "source": [
        "string=input(\"Enter string:\")\n",
        "char=0\n",
        "word=1\n",
        "for i in string:\n",
        "      char=char+1\n",
        "      if(i==' '):\n",
        "            word=word+1\n",
        "print(\"Number of words in the string:\")\n",
        "print(word)\n",
        "print(\"Number of characters in the string:\")\n",
        "print(char)"
      ],
      "execution_count": 0,
      "outputs": [
        {
          "output_type": "stream",
          "text": [
            "Enter string:My name is sinchana\n",
            "Number of words in the string:\n",
            "4\n",
            "Number of characters in the string:\n",
            "19\n"
          ],
          "name": "stdout"
        }
      ]
    },
    {
      "cell_type": "markdown",
      "metadata": {
        "id": "b4N7T60J3h7b",
        "colab_type": "text"
      },
      "source": [
        "Find the no of occurrences of a word in a string"
      ]
    },
    {
      "cell_type": "code",
      "metadata": {
        "id": "CnlJ_nZh3iNz",
        "colab_type": "code",
        "outputId": "69b07249-73c1-4211-f521-5709ae79ee31",
        "colab": {
          "base_uri": "https://localhost:8080/",
          "height": 67
        }
      },
      "source": [
        "string = input(\"Enter string:\")\n",
        "substring = input(\"Enter substring:\")\n",
        "count = string.count(substring)\n",
        "print(\"The count is:\", count)"
      ],
      "execution_count": 0,
      "outputs": [
        {
          "output_type": "stream",
          "text": [
            "Enter string:Sinchana\n",
            "Enter substring:Rao\n",
            "The count is: 0\n"
          ],
          "name": "stdout"
        }
      ]
    }
  ]
}