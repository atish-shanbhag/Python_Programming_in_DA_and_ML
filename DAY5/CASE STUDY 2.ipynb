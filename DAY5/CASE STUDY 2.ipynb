{
  "nbformat": 4,
  "nbformat_minor": 0,
  "metadata": {
    "kernelspec": {
      "display_name": "Python 3",
      "language": "python",
      "name": "python3"
    },
    "language_info": {
      "codemirror_mode": {
        "name": "ipython",
        "version": 3
      },
      "file_extension": ".py",
      "mimetype": "text/x-python",
      "name": "python",
      "nbconvert_exporter": "python",
      "pygments_lexer": "ipython3",
      "version": "3.6.5"
    },
    "colab": {
      "name": "titanic.ipynb",
      "provenance": [],
      "collapsed_sections": [],
      "include_colab_link": true
    }
  },
  "cells": [
    {
      "cell_type": "markdown",
      "metadata": {
        "id": "view-in-github",
        "colab_type": "text"
      },
      "source": [
        "<a href=\"https://colab.research.google.com/github/atish-shanbhag/Python_Programming_in_DA_and_ML/blob/master/DAY5/CASE%20STUDY%202.ipynb\" target=\"_parent\"><img src=\"https://colab.research.google.com/assets/colab-badge.svg\" alt=\"Open In Colab\"/></a>"
      ]
    },
    {
      "cell_type": "markdown",
      "metadata": {
        "id": "Iq_WeZt2WjEx",
        "colab_type": "text"
      },
      "source": [
        "# TITANIC SURVIVOR PREDICTION.\n",
        "\n",
        "#CASE STUDY 2"
        "#View Final Solution in answer.csv"
      ]
    },
    {
      "cell_type": "code",
      "metadata": {
        "id": "OfF116o6WjE3",
        "colab_type": "code",
        "colab": {}
      },
      "source": [
        "# Ignore  the warnings\n",
        "import warnings\n",
        "warnings.filterwarnings('always')\n",
        "warnings.filterwarnings('ignore')\n",
        "\n",
        "# data visualisation and manipulation\n",
        "import numpy as np\n",
        "import pandas as pd\n",
        "import matplotlib.pyplot as plt\n",
        "from matplotlib import style\n",
        "import seaborn as sns\n",
        "\n",
        "#configure\n",
        "# sets matplotlib to inline and displays graphs below the corressponding cell.\n",
        "% matplotlib inline  \n",
        "style.use('fivethirtyeight')\n",
        "sns.set(style='whitegrid',color_codes=True)\n",
        "\n",
        "#import the necessary modelling algos.\n",
        "from sklearn.linear_model import LogisticRegression\n",
        "from sklearn.svm import LinearSVC\n",
        "from sklearn.svm import SVC\n",
        "from sklearn.neighbors import KNeighborsClassifier\n",
        "from sklearn.ensemble import RandomForestClassifier\n",
        "from sklearn.tree import DecisionTreeClassifier\n",
        "from sklearn.ensemble import GradientBoostingClassifier\n",
        "from sklearn.naive_bayes import GaussianNB\n",
        "\n",
        "#model selection\n",
        "from sklearn.model_selection import train_test_split\n",
        "from sklearn.model_selection import KFold\n",
        "from sklearn.metrics import accuracy_score\n",
        "from sklearn.model_selection import GridSearchCV"
      ],
      "execution_count": 1,
      "outputs": []
    },
    {
      "cell_type": "code",
      "metadata": {
        "id": "YQWiv-IPWjFH",
        "colab_type": "code",
        "colab": {}
      },
      "source": [
        "train=pd.read_csv(r'/content/train.csv')\n",
        "#train.head()\n",
        "test=pd.read_csv(r'/content/test.csv')\n",
        "#test.head()\n",
        "df=train.copy()\n",
        "#df.head()\n",
        "test_df=test.copy()\n",
        "#test_df.head()"
      ],
      "execution_count": 3,
      "outputs": []
    },
    {
      "cell_type": "code",
      "metadata": {
        "id": "Z1468fv8WjFT",
        "colab_type": "code",
        "colab": {
          "base_uri": "https://localhost:8080/",
          "height": 33
        },
        "outputId": "ee606933-0fec-452d-e124-6d5ef6d89d49"
      },
      "source": [
        "# now data exploration begins.\n",
        "\n",
        "df.head()\n",
        "df.index\n",
        "df.columns\n",
        "df.shape"
      ],
      "execution_count": 4,
      "outputs": [
        {
          "output_type": "execute_result",
          "data": {
            "text/plain": [
              "(891, 12)"
            ]
          },
          "metadata": {
            "tags": []
          },
          "execution_count": 4
        }
      ]
    },
    {
      "cell_type": "markdown",
      "metadata": {
        "id": "p8NXXe5BWjFj",
        "colab_type": "text"
      },
      "source": [
        "###### the training dataset has 891 rows or training examples and 12 columns or features.Actually one of these is 'Survived' which is our target variable."
      ]
    },
    {
      "cell_type": "code",
      "metadata": {
        "id": "6rc7CkDLWjFm",
        "colab_type": "code",
        "colab": {
          "base_uri": "https://localhost:8080/",
          "height": 286
        },
        "outputId": "67d45fda-23a6-4676-e495-b0186b8dff05"
      },
      "source": [
        "df.describe()  # displays different descriptive measures of the numerical features."
      ],
      "execution_count": 5,
      "outputs": [
        {
          "output_type": "execute_result",
          "data": {
            "text/html": [
              "<div>\n",
              "<style scoped>\n",
              "    .dataframe tbody tr th:only-of-type {\n",
              "        vertical-align: middle;\n",
              "    }\n",
              "\n",
              "    .dataframe tbody tr th {\n",
              "        vertical-align: top;\n",
              "    }\n",
              "\n",
              "    .dataframe thead th {\n",
              "        text-align: right;\n",
              "    }\n",
              "</style>\n",
              "<table border=\"1\" class=\"dataframe\">\n",
              "  <thead>\n",
              "    <tr style=\"text-align: right;\">\n",
              "      <th></th>\n",
              "      <th>PassengerId</th>\n",
              "      <th>Survived</th>\n",
              "      <th>Pclass</th>\n",
              "      <th>Age</th>\n",
              "      <th>SibSp</th>\n",
              "      <th>Parch</th>\n",
              "      <th>Fare</th>\n",
              "    </tr>\n",
              "  </thead>\n",
              "  <tbody>\n",
              "    <tr>\n",
              "      <th>count</th>\n",
              "      <td>891.000000</td>\n",
              "      <td>891.000000</td>\n",
              "      <td>891.000000</td>\n",
              "      <td>714.000000</td>\n",
              "      <td>891.000000</td>\n",
              "      <td>891.000000</td>\n",
              "      <td>891.000000</td>\n",
              "    </tr>\n",
              "    <tr>\n",
              "      <th>mean</th>\n",
              "      <td>446.000000</td>\n",
              "      <td>0.383838</td>\n",
              "      <td>2.308642</td>\n",
              "      <td>29.699118</td>\n",
              "      <td>0.523008</td>\n",
              "      <td>0.381594</td>\n",
              "      <td>32.204208</td>\n",
              "    </tr>\n",
              "    <tr>\n",
              "      <th>std</th>\n",
              "      <td>257.353842</td>\n",
              "      <td>0.486592</td>\n",
              "      <td>0.836071</td>\n",
              "      <td>14.526497</td>\n",
              "      <td>1.102743</td>\n",
              "      <td>0.806057</td>\n",
              "      <td>49.693429</td>\n",
              "    </tr>\n",
              "    <tr>\n",
              "      <th>min</th>\n",
              "      <td>1.000000</td>\n",
              "      <td>0.000000</td>\n",
              "      <td>1.000000</td>\n",
              "      <td>0.420000</td>\n",
              "      <td>0.000000</td>\n",
              "      <td>0.000000</td>\n",
              "      <td>0.000000</td>\n",
              "    </tr>\n",
              "    <tr>\n",
              "      <th>25%</th>\n",
              "      <td>223.500000</td>\n",
              "      <td>0.000000</td>\n",
              "      <td>2.000000</td>\n",
              "      <td>20.125000</td>\n",
              "      <td>0.000000</td>\n",
              "      <td>0.000000</td>\n",
              "      <td>7.910400</td>\n",
              "    </tr>\n",
              "    <tr>\n",
              "      <th>50%</th>\n",
              "      <td>446.000000</td>\n",
              "      <td>0.000000</td>\n",
              "      <td>3.000000</td>\n",
              "      <td>28.000000</td>\n",
              "      <td>0.000000</td>\n",
              "      <td>0.000000</td>\n",
              "      <td>14.454200</td>\n",
              "    </tr>\n",
              "    <tr>\n",
              "      <th>75%</th>\n",
              "      <td>668.500000</td>\n",
              "      <td>1.000000</td>\n",
              "      <td>3.000000</td>\n",
              "      <td>38.000000</td>\n",
              "      <td>1.000000</td>\n",
              "      <td>0.000000</td>\n",
              "      <td>31.000000</td>\n",
              "    </tr>\n",
              "    <tr>\n",
              "      <th>max</th>\n",
              "      <td>891.000000</td>\n",
              "      <td>1.000000</td>\n",
              "      <td>3.000000</td>\n",
              "      <td>80.000000</td>\n",
              "      <td>8.000000</td>\n",
              "      <td>6.000000</td>\n",
              "      <td>512.329200</td>\n",
              "    </tr>\n",
              "  </tbody>\n",
              "</table>\n",
              "</div>"
            ],
            "text/plain": [
              "       PassengerId    Survived      Pclass  ...       SibSp       Parch        Fare\n",
              "count   891.000000  891.000000  891.000000  ...  891.000000  891.000000  891.000000\n",
              "mean    446.000000    0.383838    2.308642  ...    0.523008    0.381594   32.204208\n",
              "std     257.353842    0.486592    0.836071  ...    1.102743    0.806057   49.693429\n",
              "min       1.000000    0.000000    1.000000  ...    0.000000    0.000000    0.000000\n",
              "25%     223.500000    0.000000    2.000000  ...    0.000000    0.000000    7.910400\n",
              "50%     446.000000    0.000000    3.000000  ...    0.000000    0.000000   14.454200\n",
              "75%     668.500000    1.000000    3.000000  ...    1.000000    0.000000   31.000000\n",
              "max     891.000000    1.000000    3.000000  ...    8.000000    6.000000  512.329200\n",
              "\n",
              "[8 rows x 7 columns]"
            ]
          },
          "metadata": {
            "tags": []
          },
          "execution_count": 5
        }
      ]
    },
    {
      "cell_type": "markdown",
      "metadata": {
        "id": "83mPxGguWjFz",
        "colab_type": "text"
      },
      "source": [
        " \n",
        "######  some observations\n",
        "\n",
        "age has less than 891 implies that it has some missing(Nan) values.\n",
        "\n",
        "the mean of survived indicates that only 38% people survived and rest died.    \n",
        "\n",
        "also the age varies from 0.42 to 80. Age less than 1 yr is represented as decimal.\n",
        "\n",
        "50% denotes the median value of features."
      ]
    },
    {
      "cell_type": "code",
      "metadata": {
        "id": "2z03hPH9WjF2",
        "colab_type": "code",
        "colab": {
          "base_uri": "https://localhost:8080/",
          "height": 334
        },
        "outputId": "57af4f8a-c260-4c3b-d294-baa9d76936fa"
      },
      "source": [
        "df.info() # age and cabin both have missing values. also emabarked has some nan values.\n",
        "# can also use .isnull().sum() to get the count of missing values"
      ],
      "execution_count": 8,
      "outputs": [
        {
          "output_type": "stream",
          "text": [
            "<class 'pandas.core.frame.DataFrame'>\n",
            "RangeIndex: 891 entries, 0 to 890\n",
            "Data columns (total 12 columns):\n",
            " #   Column       Non-Null Count  Dtype  \n",
            "---  ------       --------------  -----  \n",
            " 0   PassengerId  891 non-null    int64  \n",
            " 1   Survived     891 non-null    int64  \n",
            " 2   Pclass       891 non-null    int64  \n",
            " 3   Name         891 non-null    object \n",
            " 4   Sex          891 non-null    object \n",
            " 5   Age          714 non-null    float64\n",
            " 6   SibSp        891 non-null    int64  \n",
            " 7   Parch        891 non-null    int64  \n",
            " 8   Ticket       891 non-null    object \n",
            " 9   Fare         891 non-null    float64\n",
            " 10  Cabin        204 non-null    object \n",
            " 11  Embarked     889 non-null    object \n",
            "dtypes: float64(2), int64(5), object(5)\n",
            "memory usage: 83.7+ KB\n"
          ],
          "name": "stdout"
        }
      ]
    },
    {
      "cell_type": "code",
      "metadata": {
        "id": "ry77k6SGWjGC",
        "colab_type": "code",
        "colab": {
          "base_uri": "https://localhost:8080/",
          "height": 196
        },
        "outputId": "b7785e19-54b1-4225-9df1-1484a7151e56"
      },
      "source": [
        "df.head()"
      ],
      "execution_count": 9,
      "outputs": [
        {
          "output_type": "execute_result",
          "data": {
            "text/html": [
              "<div>\n",
              "<style scoped>\n",
              "    .dataframe tbody tr th:only-of-type {\n",
              "        vertical-align: middle;\n",
              "    }\n",
              "\n",
              "    .dataframe tbody tr th {\n",
              "        vertical-align: top;\n",
              "    }\n",
              "\n",
              "    .dataframe thead th {\n",
              "        text-align: right;\n",
              "    }\n",
              "</style>\n",
              "<table border=\"1\" class=\"dataframe\">\n",
              "  <thead>\n",
              "    <tr style=\"text-align: right;\">\n",
              "      <th></th>\n",
              "      <th>PassengerId</th>\n",
              "      <th>Survived</th>\n",
              "      <th>Pclass</th>\n",
              "      <th>Name</th>\n",
              "      <th>Sex</th>\n",
              "      <th>Age</th>\n",
              "      <th>SibSp</th>\n",
              "      <th>Parch</th>\n",
              "      <th>Ticket</th>\n",
              "      <th>Fare</th>\n",
              "      <th>Cabin</th>\n",
              "      <th>Embarked</th>\n",
              "    </tr>\n",
              "  </thead>\n",
              "  <tbody>\n",
              "    <tr>\n",
              "      <th>0</th>\n",
              "      <td>1</td>\n",
              "      <td>0</td>\n",
              "      <td>3</td>\n",
              "      <td>Braund, Mr. Owen Harris</td>\n",
              "      <td>male</td>\n",
              "      <td>22.0</td>\n",
              "      <td>1</td>\n",
              "      <td>0</td>\n",
              "      <td>A/5 21171</td>\n",
              "      <td>7.2500</td>\n",
              "      <td>NaN</td>\n",
              "      <td>S</td>\n",
              "    </tr>\n",
              "    <tr>\n",
              "      <th>1</th>\n",
              "      <td>2</td>\n",
              "      <td>1</td>\n",
              "      <td>1</td>\n",
              "      <td>Cumings, Mrs. John Bradley (Florence Briggs Th...</td>\n",
              "      <td>female</td>\n",
              "      <td>38.0</td>\n",
              "      <td>1</td>\n",
              "      <td>0</td>\n",
              "      <td>PC 17599</td>\n",
              "      <td>71.2833</td>\n",
              "      <td>C85</td>\n",
              "      <td>C</td>\n",
              "    </tr>\n",
              "    <tr>\n",
              "      <th>2</th>\n",
              "      <td>3</td>\n",
              "      <td>1</td>\n",
              "      <td>3</td>\n",
              "      <td>Heikkinen, Miss. Laina</td>\n",
              "      <td>female</td>\n",
              "      <td>26.0</td>\n",
              "      <td>0</td>\n",
              "      <td>0</td>\n",
              "      <td>STON/O2. 3101282</td>\n",
              "      <td>7.9250</td>\n",
              "      <td>NaN</td>\n",
              "      <td>S</td>\n",
              "    </tr>\n",
              "    <tr>\n",
              "      <th>3</th>\n",
              "      <td>4</td>\n",
              "      <td>1</td>\n",
              "      <td>1</td>\n",
              "      <td>Futrelle, Mrs. Jacques Heath (Lily May Peel)</td>\n",
              "      <td>female</td>\n",
              "      <td>35.0</td>\n",
              "      <td>1</td>\n",
              "      <td>0</td>\n",
              "      <td>113803</td>\n",
              "      <td>53.1000</td>\n",
              "      <td>C123</td>\n",
              "      <td>S</td>\n",
              "    </tr>\n",
              "    <tr>\n",
              "      <th>4</th>\n",
              "      <td>5</td>\n",
              "      <td>0</td>\n",
              "      <td>3</td>\n",
              "      <td>Allen, Mr. William Henry</td>\n",
              "      <td>male</td>\n",
              "      <td>35.0</td>\n",
              "      <td>0</td>\n",
              "      <td>0</td>\n",
              "      <td>373450</td>\n",
              "      <td>8.0500</td>\n",
              "      <td>NaN</td>\n",
              "      <td>S</td>\n",
              "    </tr>\n",
              "  </tbody>\n",
              "</table>\n",
              "</div>"
            ],
            "text/plain": [
              "   PassengerId  Survived  Pclass  ...     Fare Cabin  Embarked\n",
              "0            1         0       3  ...   7.2500   NaN         S\n",
              "1            2         1       1  ...  71.2833   C85         C\n",
              "2            3         1       3  ...   7.9250   NaN         S\n",
              "3            4         1       1  ...  53.1000  C123         S\n",
              "4            5         0       3  ...   8.0500   NaN         S\n",
              "\n",
              "[5 rows x 12 columns]"
            ]
          },
          "metadata": {
            "tags": []
          },
          "execution_count": 9
        }
      ]
    },
    {
      "cell_type": "markdown",
      "metadata": {
        "id": "rietaV7qWjGM",
        "colab_type": "text"
      },
      "source": [
        "###### some key points about features\n",
        "\n",
        "survived is the target variable that we have to predict. 0 means die and 1 means survival.\n",
        "\n",
        "now the relevant features include--\n",
        "\n",
        "Pclass:  \n",
        "\n",
        "Sex:\n",
        "\n",
        "Age:\n",
        "\n",
        "Fare:\n",
        "\n",
        "Embarked:"
      ]
    },
    {
      "cell_type": "code",
      "metadata": {
        "id": "NBXyU0n8WjGS",
        "colab_type": "code",
        "colab": {
          "base_uri": "https://localhost:8080/",
          "height": 84
        },
        "outputId": "af171c32-f44a-4644-b605-db10bad3d2bf"
      },
      "source": [
        " df.groupby('Survived').Survived.count() # of the given examples 549 people died while only 342 survived."
      ],
      "execution_count": 10,
      "outputs": [
        {
          "output_type": "execute_result",
          "data": {
            "text/plain": [
              "Survived\n",
              "0    549\n",
              "1    342\n",
              "Name: Survived, dtype: int64"
            ]
          },
          "metadata": {
            "tags": []
          },
          "execution_count": 10
        }
      ]
    },
    {
      "cell_type": "code",
      "metadata": {
        "id": "cLTSwawgWjGd",
        "colab_type": "code",
        "colab": {
          "base_uri": "https://localhost:8080/",
          "height": 385
        },
        "outputId": "ebc987c7-8105-4179-e1e6-1ff8584c143a"
      },
      "source": [
        "sns.factorplot(x='Survived',data=df,kind='count',palette=['#ff4125','#006400'],size=5,aspect=1)"
      ],
      "execution_count": 11,
      "outputs": [
        {
          "output_type": "execute_result",
          "data": {
            "text/plain": [
              "<seaborn.axisgrid.FacetGrid at 0x7f25f36990b8>"
            ]
          },
          "metadata": {
            "tags": []
          },
          "execution_count": 11
        },
        {
          "output_type": "display_data",
          "data": {
            "image/png": "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\n",
            "text/plain": [
              "<Figure size 360x360 with 1 Axes>"
            ]
          },
          "metadata": {
            "tags": [],
            "needs_background": "light"
          }
        }
      ]
    },
    {
      "cell_type": "code",
      "metadata": {
        "id": "cwxCzxLuWjGp",
        "colab_type": "code",
        "colab": {
          "base_uri": "https://localhost:8080/",
          "height": 166
        },
        "outputId": "b2a50688-e1c9-46f7-f50b-d4b1efcc3747"
      },
      "source": [
        "# consider 'Sex' feature.\n",
        "df[df.Survived==1].groupby('Sex').Survived.count()\n",
        "pd.crosstab(index=[df.Sex],columns=[df.Survived],margins=True) # set normalize=True to view %."
      ],
      "execution_count": 12,
      "outputs": [
        {
          "output_type": "execute_result",
          "data": {
            "text/html": [
              "<div>\n",
              "<style scoped>\n",
              "    .dataframe tbody tr th:only-of-type {\n",
              "        vertical-align: middle;\n",
              "    }\n",
              "\n",
              "    .dataframe tbody tr th {\n",
              "        vertical-align: top;\n",
              "    }\n",
              "\n",
              "    .dataframe thead th {\n",
              "        text-align: right;\n",
              "    }\n",
              "</style>\n",
              "<table border=\"1\" class=\"dataframe\">\n",
              "  <thead>\n",
              "    <tr style=\"text-align: right;\">\n",
              "      <th>Survived</th>\n",
              "      <th>0</th>\n",
              "      <th>1</th>\n",
              "      <th>All</th>\n",
              "    </tr>\n",
              "    <tr>\n",
              "      <th>Sex</th>\n",
              "      <th></th>\n",
              "      <th></th>\n",
              "      <th></th>\n",
              "    </tr>\n",
              "  </thead>\n",
              "  <tbody>\n",
              "    <tr>\n",
              "      <th>female</th>\n",
              "      <td>81</td>\n",
              "      <td>233</td>\n",
              "      <td>314</td>\n",
              "    </tr>\n",
              "    <tr>\n",
              "      <th>male</th>\n",
              "      <td>468</td>\n",
              "      <td>109</td>\n",
              "      <td>577</td>\n",
              "    </tr>\n",
              "    <tr>\n",
              "      <th>All</th>\n",
              "      <td>549</td>\n",
              "      <td>342</td>\n",
              "      <td>891</td>\n",
              "    </tr>\n",
              "  </tbody>\n",
              "</table>\n",
              "</div>"
            ],
            "text/plain": [
              "Survived    0    1  All\n",
              "Sex                    \n",
              "female     81  233  314\n",
              "male      468  109  577\n",
              "All       549  342  891"
            ]
          },
          "metadata": {
            "tags": []
          },
          "execution_count": 12
        }
      ]
    },
    {
      "cell_type": "markdown",
      "metadata": {
        "id": "yZAQL-2cWjG3",
        "colab_type": "text"
      },
      "source": [
        "###### 233 female survived while only 109 males. This clearly shows that more females survived than males did. the following graph clearly shows the picture."
      ]
    },
    {
      "cell_type": "code",
      "metadata": {
        "id": "Dw0akhyoWjG5",
        "colab_type": "code",
        "colab": {
          "base_uri": "https://localhost:8080/",
          "height": 385
        },
        "outputId": "6018309b-f976-48c6-e33c-6c481f85ab8d"
      },
      "source": [
        "sns.factorplot(x='Survived',data=df,hue='Sex',palette=['#0000ff','#FFB6C1'],kind='count',size=5,aspect=1)"
      ],
      "execution_count": 13,
      "outputs": [
        {
          "output_type": "execute_result",
          "data": {
            "text/plain": [
              "<seaborn.axisgrid.FacetGrid at 0x7f25f380db00>"
            ]
          },
          "metadata": {
            "tags": []
          },
          "execution_count": 13
        },
        {
          "output_type": "display_data",
          "data": {
            "image/png": "iVBORw0KGgoAAAANSUhEUgAAAbwAAAFgCAYAAADATMyLAAAABHNCSVQICAgIfAhkiAAAAAlwSFlzAAALEgAACxIB0t1+/AAAADh0RVh0U29mdHdhcmUAbWF0cGxvdGxpYiB2ZXJzaW9uMy4yLjEsIGh0dHA6Ly9tYXRwbG90bGliLm9yZy+j8jraAAAWcUlEQVR4nO3de5RedX3v8fck6BCoVASEck3amq8tQ7UZldSiVRdeeixotbYLitTTcxSwlVbrrdYLtmI54mktbU7B2wKlRMvqUinSc7TtQaUeLA5Qz2j8QrsmNOEi4SJeSkKZmf6xd2RIM5N5Js9l8nzfr7VmPfPs3758n6w8+WT/9t6/38js7CySJA27FYMuQJKkfjDwJEklGHiSpBIMPElSCfsNuoBemZiY2A84Gtg6Pj7+8KDrkSQN1tAGHk3YTY2NjQ26DklaqpFBFzBM7NKUJJVg4EmSSjDwJEklGHiSpBIMPElSCQaeJKkEA0+SVIKBJ0kqwcCTJJVg4EmSSjDwJEklGHiSpBIMPElSCQaeJKkEA28eO3bMDLqEvqv4mSXVMczz4e2V0dEVrFmzedBl9NXU1OpBlyBJPeMZniSpBANPklSCgSdJKsHAkySVYOBJkkow8CRJJRh4kqQSDDxJUgkGniSpBANPklSCgSdJKsHAkySVYOBJkkow8CRJJRh4kqQSDDxJUgkGniSpBANPklSCgSdJKsHAkySVYOBJkkow8CRJJRh4kqQSDDxJUgkGniSpBANPklSCgSdJKsHAkySVYOBJkkow8CRJJRh4kqQSDDxJUgkGniSpBANPklSCgSdJKsHAkySVsF+/DxgR7wLOA07IzMmIWA9cAqwCNgNnZObd7brztkmS1Im+nuFFxDpgPXBb+34FcDnwG5m5FvgicMGe2iRJ6lTfAi8iRoENwDlzFo8D2zPzuvb9xcAvL6JNkqSO9PMM7/eByzNz85xlx9Ke7QFk5j3Aioh4wh7aJEnqSF+u4UXEzwBPA97aj+PNNTk5uaTtxsfHu1zJvmFiYmLQJUhqVf13qFf6ddPKzwE/AUxFBMDRwP8BLgKO27lSRBwKzGTmfRHxr/O1dXLgsbExRkdH9/4TFOEXTNKw6kuXZmZekJlHZubqzFwNbAVeCFwIrIqIk9pVzwaubH+fWKBNkqSODPQ5vMycAV4J/HlE3EpzJvjWPbVJktSpkdnZ2UHX0BMTExOrgam96dJcs2ZzN0ta9qamVg+6BEmPNjLoAoaJI61Ikkow8CRJJRh4kqQSDDxJUgkGniSpBANPklSCgSdJKsHAkySVYOBJkkow8CRJJRh4kqQSDDxJUgkGniSpBANPklSCgSdJKsHAkySVYOBJkkow8CRJJRh4kqQSDDxJUgkGniSpBANPklSCgSdJKsHAkySVYOBJkkow8CRJJRh4kqQSDDxJUgkGniSpBANPklSCgSdJKsHAkySVYOBJkkow8CRJJRh4kqQSDDxJUgkGniSpBANPklSCgSdJKsHAkySVYOBJkkow8CRJJRh4kqQSDDxJUgkGniSpBANPklSCgSdJKsHAkySVYOBJkkow8CRJJRh4kqQSDDxJUgkGniSphP36daCI+DSwBpgBvge8LjNvjoi1wGXAIcC9wJmZeWu7zbxtkiR1op9neL+WmU/JzJ8G3g98tF1+MbAhM9cCG4BL5myzUJskSYvWt8DLzAfmvP1hYCYingisAza2yzcC6yLisIXa+lWzJGl49K1LEyAiPgy8ABgBXgQcA9yemdMAmTkdEXe0y0cWaNu22GNOTk4uqdbx8fElbbevm5iYGHQJklpV/x3qlb4GXmb+d4CIeCVwIfCOXh9zbGyM0dHRXh9maPgFkzSsBnKXZmZ+HHgusBU4KiJWArSvRwJb2p/52iRJ6khfAi8ifigijpnz/hTgPuBu4GbgtLbpNOCmzNyWmfO29aNmSdJw6VeX5oHAlRFxIDBNE3anZOZsRJwNXBYR7wTuB86cs91CbZIkLdrI7OzsoGvoiYmJidXA1N5cw1uzZnM3S1r2pqZWD7oESY82MugChokjrUiSSjDwJEklGHiSpBIMPElSCQaeJKkEA0+SVIKBJ0kqwcCTJJVg4EmSSjDwJEklGHiSpBIMPElSCQaeJKmERQdeRLxxnuVv6F45kiT1RidneO+cZ/nbu1GIJEm9tMcJYCPiee2vKyPiuTx6fqYfBb7bi8IkSeqmxcx4/pH2dX/go3OWzwJ3Aa/rdlGSJHXbHgMvM9cARMTHMvPM3pckSVL3LeYMD4C5YRcRK3Zpm+lmUZIkdduiAy8i1gEbgJ+i6d6E5nreLLCy+6VJktQ9iw484DLgr4FfB/6tN+VIktQbnQTeccDvZeZsr4qRJKlXOnkO71PAC3pViCRJvdTJGd7+wKci4jqaxxF+wLs3JUnLXSeB9432R5KkfU4njyW8u5eFSJKWj4g4CXgfcDwwDWwCfjszbxhoYXuhk8cSnjdfW2b+fXfKkSQNWkQcBFwNnAP8JfBY4FnAjkHWtbc66dL8yC7vD6P5Q9hKM6amJGk4rAXIzI3t+weBz+1sjIhfB94EHAH8I/CazLwtIt4CvAz42cx8OCLOAX4TGM/M7f38ALvTSZfmmrnvI2IlzUwJDh4tScPlFmA6Ii4DPgFcn5n3A0TES4C3AacAtwJvBTYCzwQuBF4MvD0i/gJ4L/C85RB2sBcTwGbmNHA+8ObulSNJGrTM/A5wEs1IWh8CtkXEVRFxOHA28IeZuSkzH6YJtadGxHHtMJNnAucCVwHvy8ybBvMp/rO9nfH8+YDjaErSkGkD7VWZeTQwBhwJfIBmEJI/iYhvR8S3gftohpk8qt1uM/B/gdU0w1EuG53ctLKFJu13OoDm2bzXdrsoSdLykZnfjIhLgbOALcD5mfkXu1s3Il4M/AzwdzRdnGf1q8496eSmlTN2ef994Jb21FeSNCQi4sk01+I+mZlbI+IY4DTgeuAa4A8i4ubM/HpE/DDwgsy8MiIOBT4M/DfgK8D/j4jPZOY1A/ooj7LoLs3M/EJmfgH4Es0FzRsNO0kaSt8FTgS+EhHfpwm6SeB3MvNTwP8APhER32mX/3y73QeBz2TmNZl5L03wfTgiDun7J9iNkdnZxY0FHRGPo+mP/RXgMcC/09y9c25mPtCzCpdoYmJiNTA1NjbG6OjokvaxZs3mbpa07E1NrR50CZIebWTQBQyTTm5a+VPgQOAEYFX7egBwUQ/qkjSEZqfr3eNW8TMvV51cw3sR8KOZuXMuvFsi4r8C/9L9siQNo5GVK3jw2usHXUZfrXrO+kGXoFYnZ3jbaUZXmetQ9vGhZiRJNXRyhvdh4PMR8UfAbTTPYrye5qFESZKWtU4C73zgduBXaR5AvIPmKfpdx9iUJGnZ6aRL80+AzMyTM/MnM/NkYFNEfKBHtUmS1DWdBN5pwFd3WTYBnN69ciRJ6o1OAm8WWLnLspUd7kOStBe2b5+5i+bf467+tPsdap1cw/sSzXAyb87MmYhYAZzXLpck9cH++684vBeDYkxNrT686zudR0ScB/xQZr6xX8eEzgLvt2hmwL0zIm4DjgXupJkTSZKkZa2TCWC3RsQ64BnAMTQjZv9jO/+RJKmAiJilmfz7pcAhwKuBk2kGJ3kM8IrM3BQRR9BMDHsQzcw6n83M3c6f2s6U/nKaTLodeHVmdr2LtaPrb5k5k5nXZ+aV7athJ0n1fDsznw68BfgM8A+Z+dPAx4Df27kOcEpmjgNPBZ4WES/adUcRcQbwY8D6zFxHMxvD/+xF0Z10aUqSBPDJ9vVGYDYzr27fTwAva39fCVwYEc+kGQT7CJrg+9+77OtU4GnAjREBTS71ZEICA0+S1Knt7es0jx5ecppHcuUNwMHAiZm5PSI+SNO1uasR4D2Z+dFeFbuTjxRIknrh8cCdbdgdBbxknvWuAl4bEQcDRMRoRDylFwV5hidJ+5Dt22e+1YtHCLZvn/nW/vt39RzoIuDKiJgEtgJ/t7uVMvPj7UzpX2i7NFcA/wv4p24WAx1MALuvcQLYzjkBrPrB6YE64gSwXdSXM7x2eveP09yJ8xBwK3BWZm6LiPXAJTSTym4GzsjMu9vt5m2TJKkT/bqGN0szs0Jk5gk0k8Ze0I7WcjnwG5m5FvgicAHAQm2SJHWqL4GXmfdl5rVzFl1PM5/eOLA9M69rl18M/HL7+0JtkiR1pO83rbRnbufQ3JlzLM1ksgBk5j0RsSIinrBQW2bet9jjTU5OLqnO8fHxJW23r5uYmBh0CRpifq86U/XPq1cGcZfmnwLfA/4M+MVeH2xvblqpyC+Y1H1+r5aHvj6HFxHvB54E/Eo7LNm/0nRt7mw/FJhpz+AWapMkqSN9C7yIeC/NdbmXZubOJ/MngFURcVL7/mzgykW0SVJJs9O9mQ+v3e8eRcRLI2JTRNwU7YNzvRIRl0bEb3Zrf/16LOF44HeBW4Avt39GU5n5ixHxSuCSiNif9tEDaAaqnq9NkqoaWbni8F48y7jqOesX+zD7WcA7M3OfOwHpS+Bl5teZ5wHKzPwycEKnbZKk/oqIPwae1fwarwXeSvO42EHtKu/MzM9GxGrgq8CHaKYNWgX8Kk1P3YnAg8BLMvOuiDiBZmSVA2nG2vxgZn5gN8d+LHA+8HPAKPA14JzM/N5i63csTUnSomTm62mC7Fyamw4vBk5vpwD6BZoeuce3qx8CXNdOG/QRmqHFNmTmT9FcstrZVbkZOLmdGugZwGsi4id2c/g3Aw9k5jMy8ynAHTQ9h4vmWJqSpKV4JrAG+Js5l/JmgR8H7gG+l5mfbZffCGzNzJvb9xPA89vfDwD+vB0wegY4EngKsGmX450KHBQRv9S+H6XD8TYNPEnSUowAX8vMZ+/a0HZp7jpt0PZd3u/Mn/cCdwGvysyHI+JzzD+N0Gsz8++XWrBdmpKkpfgy8KSIeO7OBRHx9IjodMDrxwNb2rAbo7lGuDtXAW+IiFXtsR43T9fnvAw8SVLHMvN+mm7Gd0XEP0XEJuA8Op/h4T3AqyPia+32X5xnvQtoujBvaNe9Dugo8JweaAFODyR1n9MDdeQ/hcfs9MxdIytXdH0+vNnpmW+NrFxxRLf3u5x4DU+S9iG9CqWRlcPf4Tf8n1CSJAw8SVIRBp4kqQQDT5JUgoEnSSrBwJMklWDgSZJKMPAkSSUYeJKkEgw8SVIJBp4kqQQDT5JUgoEnSSrBwJMklWDgSZJKMPAkSSUYeJKkEgw8SVIJBp4kqQQDT5JUgoEnSSrBwJMklWDgSZJKMPAkSSUYeJKkEgw8SVIJBp4kqQQDT5JUgoEnSSrBwJMklWDgSZJKMPAkSSUYeJKkEgw8SVIJBp4kqQQDT5JUgoEnSSrBwJMklWDgSZJKMPAkSSUYeJKkEgw8SVIJBp4kqQQDTxqQHTtmBl2CVMp+gy5Aqmp0dAVr1mwedBl9NTW1etAlqDDP8CRJJfTlDC8i3g+8HFgNnJCZk+3ytcBlwCHAvcCZmXnrntokSepUv87wPg08G7htl+UXAxsycy2wAbhkkW2SJHWkL4GXmddl5pa5yyLiicA6YGO7aCOwLiIOW6itH/VKkobPIG9aOQa4PTOnATJzOiLuaJePLNC2rZODTE5OLqm48fHxJW23r5uYmBh0CWVU/TtW0VK/V/4d6a6hv0tzbGyM0dHRQZexz/ALJnWf36vlYZB3aW4BjoqIlQDt65Ht8oXaJEnq2MACLzPvBm4GTmsXnQbclJnbFmrrf6WSpGHQl8CLiIsiYitwNPC3EfH1tuls4HURcQvwuvY9i2iTJKkjfbmGl5nnAufuZvk3gRPn2WbeNkmSOuVIK5KkEgw8SVIJBp4kqQQDT5JUgoEnSSrBwJMklWDg6Qdmp+vNwF3xM0tVDf1Ymlq8kZUrePDa6wddRl+tes76QZcgqU88w5MklWDgSZJKMPAkSSUYeJKkEgw8SVIJBp4kqQQDT5JUgoEnSSrBwJMklWDgSZJKMPAkSSUYeJKkEgw8SVIJBp4kqQQDT5JUgoEnSSrBwJMklWDgSZJKMPAkSSUYeJKkEgw8SVIJBp4kqQQDT5JUgoEnSSrBwJMklWDgSZJKMPAkSSUYeJKkEgw8SVIJBp4kqQQDT5JUgoEnSSrBwJMklWDgSZJKMPAkSSUYeJKkEgw8SVIJBp4kqQQDT5JUgoEnSSrBwJMklWDgSZJKMPAkSSUYeJKkEvYbdAF7EhFrgcuAQ4B7gTMz89bBViVJ2tfsC2d4FwMbMnMtsAG4ZMD1SJL2Qcv6DC8ingisA57fLtoI/FlEHJaZ2/aw+UqAhx56aMnHP+yw6SVvuy/asWMHD40Muor+WrFjx0CP79+x4bc3f8cmJydXA1vHx8cf7lpBhY3Mzs4OuoZ5RcQ48LHMPH7Osm8AZ2TmjQttOzExcRLwpR6XKEm9tmZ8fHzzoIsYBsv6DG8v3QA8C7gTqPXfaEnDZOugCxgWy/0M74nALcAhmTkdEStpblx50iK6NCVJ+oFlfdNKZt4N3Ayc1i46DbjJsJMkdWpZn+EBRMSTaR5LOBi4n+axhBxsVZKkfc2yDzxJkrphWXdpSpLULQaeJKkEA0+SVIKBJ0kqwcCTJJUwzCOtaJGckUK9FBHvB14OrAZOyMzJwVakqjzDEzgjhXrr08CzgdsGXYhqM/CKmzMjxcZ20UZgXUQcNriqNEwy87rM3DLoOiQDT8cAt2fmNED7eke7XJKGhoEnSSrBwNMW4Kh2Jgra1yPb5ZI0NAy84pyRQlIVDh4tZ6RQT0XERcDLgCOAe4B7M/P4wValigw8SVIJdmlKkkow8CRJJRh4kqQSDDxJUgkGniSpBANP2ksRcXFEvKMH+z0vIi7v9n6lqpweSEMrIk4C3gccD0wDm4DfzswbunmczDy7m/uT1BsGnoZSRBwEXA2cA/wl8FjgWcCODvczAoxk5kzXi5TUVwaehtVagMzcOe3Rg8DnoOkqBH48M89o368GpoDHZObDEXEt8A/Ac2imTjovIl6RmU/bufOIeD3w3Mw8NSIuBbZm5tsjYhPwpsy8ul1vP+BO4IWZeWNErAf+CPhJmvnhfiszr23XXQNc2h7zesDRbqQu8hqehtUtwHREXBYRPx8RB3e4/SuB1wCPo5kgNyLiSXPaTweu2M12G3lkXFKAFwL3tGF3FPBZ4D3AE4A3An81Z+7BK4AJ4FDgD4Bf67BmSQsw8DSUMvM7wEnALPAhYFtEXBURhy9yF5dm5tcz8+HMfAD4DG2QtcH3ZOCq3Wx3BXBqRBzQvj+dRybXPQO4JjOvycyZzPw88FXgv0TEscDTgXdk5o7M/CLw151+bknzM/A0tDJzU2a+KjOPBsZopj36wCI333V6pCt45MztdODTmflvuznmP9PcHHNKG3qn8siZ4HHAKyLi2zt/aEL5R9ra7s/M78/Z3W2LrFXSIngNTyVk5jfba21nATcCB8xpPmI3m+w6qvrngcMi4qk0wff6BQ63s1tzBfCNNgShCdGPZ+ard90gIo4DDo6IA+eE3rG7qUPSEhl4GkrtlEcvBj6ZmVsj4hiaELqeZv6/t7TdiA8Av7un/WXmv0fElcCFNNffPr/A6p8Azm/Xm3ud73Lghoh4IfC3wGOA9cA/Z+ZtEfFV4N0R8TbgGcAp7L7bVNIS2KWpYfVd4ETgKxHxfZqgmwR+p7129kngazQ3iVy9yH1eAZwMXJmZD8+3UmbeCfw/4JntcXYu3wK8BHgbsI3mjO9NPPI9PL2t+T7gXcDHFlmXpEVwPjxJUgme4UmSSjDwJEklGHiSpBIMPElSCQaeJKkEA0+SVIKBJ0kqwcCTJJXwH/vbVEcJ4D4WAAAAAElFTkSuQmCC\n",
            "text/plain": [
              "<Figure size 437.975x360 with 1 Axes>"
            ]
          },
          "metadata": {
            "tags": [],
            "needs_background": "light"
          }
        }
      ]
    },
    {
      "cell_type": "code",
      "metadata": {
        "id": "3D2VH1ajWjHI",
        "colab_type": "code",
        "colab": {
          "base_uri": "https://localhost:8080/",
          "height": 166
        },
        "outputId": "15bcb190-be98-4f75-8f55-b348a1267958"
      },
      "source": [
        "pd.crosstab(index=[df.Sex],columns=[df.Survived],margins=True,normalize='index')  "
      ],
      "execution_count": 14,
      "outputs": [
        {
          "output_type": "execute_result",
          "data": {
            "text/html": [
              "<div>\n",
              "<style scoped>\n",
              "    .dataframe tbody tr th:only-of-type {\n",
              "        vertical-align: middle;\n",
              "    }\n",
              "\n",
              "    .dataframe tbody tr th {\n",
              "        vertical-align: top;\n",
              "    }\n",
              "\n",
              "    .dataframe thead th {\n",
              "        text-align: right;\n",
              "    }\n",
              "</style>\n",
              "<table border=\"1\" class=\"dataframe\">\n",
              "  <thead>\n",
              "    <tr style=\"text-align: right;\">\n",
              "      <th>Survived</th>\n",
              "      <th>0</th>\n",
              "      <th>1</th>\n",
              "    </tr>\n",
              "    <tr>\n",
              "      <th>Sex</th>\n",
              "      <th></th>\n",
              "      <th></th>\n",
              "    </tr>\n",
              "  </thead>\n",
              "  <tbody>\n",
              "    <tr>\n",
              "      <th>female</th>\n",
              "      <td>0.257962</td>\n",
              "      <td>0.742038</td>\n",
              "    </tr>\n",
              "    <tr>\n",
              "      <th>male</th>\n",
              "      <td>0.811092</td>\n",
              "      <td>0.188908</td>\n",
              "    </tr>\n",
              "    <tr>\n",
              "      <th>All</th>\n",
              "      <td>0.616162</td>\n",
              "      <td>0.383838</td>\n",
              "    </tr>\n",
              "  </tbody>\n",
              "</table>\n",
              "</div>"
            ],
            "text/plain": [
              "Survived         0         1\n",
              "Sex                         \n",
              "female    0.257962  0.742038\n",
              "male      0.811092  0.188908\n",
              "All       0.616162  0.383838"
            ]
          },
          "metadata": {
            "tags": []
          },
          "execution_count": 14
        }
      ]
    },
    {
      "cell_type": "code",
      "metadata": {
        "id": "1j_cBR2ZWjHX",
        "colab_type": "code",
        "colab": {
          "base_uri": "https://localhost:8080/",
          "height": 385
        },
        "outputId": "3122648d-e3d8-4561-cbfb-1b7fa21e5f05"
      },
      "source": [
        "sns.factorplot(x='Sex',y='Survived',kind='point',data=df,palette=['#ff4125'],size=5,aspect=1)"
      ],
      "execution_count": 15,
      "outputs": [
        {
          "output_type": "execute_result",
          "data": {
            "text/plain": [
              "<seaborn.axisgrid.FacetGrid at 0x7f25f06ab208>"
            ]
          },
          "metadata": {
            "tags": []
          },
          "execution_count": 15
        },
        {
          "output_type": "display_data",
          "data": {
            "image/png": "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\n",
            "text/plain": [
              "<Figure size 360x360 with 1 Axes>"
            ]
          },
          "metadata": {
            "tags": [],
            "needs_background": "light"
          }
        }
      ]
    },
    {
      "cell_type": "code",
      "metadata": {
        "id": "DuxindoUWjHi",
        "colab_type": "code",
        "colab": {
          "base_uri": "https://localhost:8080/",
          "height": 385
        },
        "outputId": "146daa65-adcd-4c1d-db4d-8cb69fb6bdd4"
      },
      "source": [
        "sns.factorplot(x='Sex',y='Survived',data=df,kind='bar',palette=['#0000ff','#FFB6C1'],size=5,aspect=1)"
      ],
      "execution_count": 16,
      "outputs": [
        {
          "output_type": "execute_result",
          "data": {
            "text/plain": [
              "<seaborn.axisgrid.FacetGrid at 0x7f25f06aaa58>"
            ]
          },
          "metadata": {
            "tags": []
          },
          "execution_count": 16
        },
        {
          "output_type": "display_data",
          "data": {
            "image/png": "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\n",
            "text/plain": [
              "<Figure size 360x360 with 1 Axes>"
            ]
          },
          "metadata": {
            "tags": [],
            "needs_background": "light"
          }
        }
      ]
    },
    {
      "cell_type": "markdown",
      "metadata": {
        "id": "r_ybeZwVWjHt",
        "colab_type": "text"
      },
      "source": [
        "######  # around 18% of all males survived whereas around 75% of females survived.  This again shows that females survived in greater number."
      ]
    },
    {
      "cell_type": "code",
      "metadata": {
        "id": "FwP_TwvaWjHv",
        "colab_type": "code",
        "colab": {
          "base_uri": "https://localhost:8080/",
          "height": 196
        },
        "outputId": "bc3c55fd-9542-403d-b638-fbbf9752970f"
      },
      "source": [
        "# consider 'Pclass' feature.\n",
        "df[df.Survived==1].groupby('Pclass').Survived.count()\n",
        "pd.crosstab(index=[df.Pclass],columns=[df.Survived],margins=True) # set normalize=index to view rowwise %."
      ],
      "execution_count": 17,
      "outputs": [
        {
          "output_type": "execute_result",
          "data": {
            "text/html": [
              "<div>\n",
              "<style scoped>\n",
              "    .dataframe tbody tr th:only-of-type {\n",
              "        vertical-align: middle;\n",
              "    }\n",
              "\n",
              "    .dataframe tbody tr th {\n",
              "        vertical-align: top;\n",
              "    }\n",
              "\n",
              "    .dataframe thead th {\n",
              "        text-align: right;\n",
              "    }\n",
              "</style>\n",
              "<table border=\"1\" class=\"dataframe\">\n",
              "  <thead>\n",
              "    <tr style=\"text-align: right;\">\n",
              "      <th>Survived</th>\n",
              "      <th>0</th>\n",
              "      <th>1</th>\n",
              "      <th>All</th>\n",
              "    </tr>\n",
              "    <tr>\n",
              "      <th>Pclass</th>\n",
              "      <th></th>\n",
              "      <th></th>\n",
              "      <th></th>\n",
              "    </tr>\n",
              "  </thead>\n",
              "  <tbody>\n",
              "    <tr>\n",
              "      <th>1</th>\n",
              "      <td>80</td>\n",
              "      <td>136</td>\n",
              "      <td>216</td>\n",
              "    </tr>\n",
              "    <tr>\n",
              "      <th>2</th>\n",
              "      <td>97</td>\n",
              "      <td>87</td>\n",
              "      <td>184</td>\n",
              "    </tr>\n",
              "    <tr>\n",
              "      <th>3</th>\n",
              "      <td>372</td>\n",
              "      <td>119</td>\n",
              "      <td>491</td>\n",
              "    </tr>\n",
              "    <tr>\n",
              "      <th>All</th>\n",
              "      <td>549</td>\n",
              "      <td>342</td>\n",
              "      <td>891</td>\n",
              "    </tr>\n",
              "  </tbody>\n",
              "</table>\n",
              "</div>"
            ],
            "text/plain": [
              "Survived    0    1  All\n",
              "Pclass                 \n",
              "1          80  136  216\n",
              "2          97   87  184\n",
              "3         372  119  491\n",
              "All       549  342  891"
            ]
          },
          "metadata": {
            "tags": []
          },
          "execution_count": 17
        }
      ]
    },
    {
      "cell_type": "code",
      "metadata": {
        "id": "ciaMe8rzWjIE",
        "colab_type": "code",
        "colab": {
          "base_uri": "https://localhost:8080/",
          "height": 385
        },
        "outputId": "a496af6b-03c5-4420-bd8e-947df6053e51"
      },
      "source": [
        "sns.factorplot(x='Survived',y=None,hue='Pclass',kind='count',data=df,size=5,aspect=1,palette=['#ff0000','#006400','#0000ff'])"
      ],
      "execution_count": 18,
      "outputs": [
        {
          "output_type": "execute_result",
          "data": {
            "text/plain": [
              "<seaborn.axisgrid.FacetGrid at 0x7f25ef36c438>"
            ]
          },
          "metadata": {
            "tags": []
          },
          "execution_count": 18
        },
        {
          "output_type": "display_data",
          "data": {
            "image/png": "iVBORw0KGgoAAAANSUhEUgAAAaAAAAFgCAYAAAD93q3tAAAABHNCSVQICAgIfAhkiAAAAAlwSFlzAAALEgAACxIB0t1+/AAAADh0RVh0U29mdHdhcmUAbWF0cGxvdGxpYiB2ZXJzaW9uMy4yLjEsIGh0dHA6Ly9tYXRwbG90bGliLm9yZy+j8jraAAAZhUlEQVR4nO3dfZBldX3n8Xf3TOgeByTyvOg8tMp8rdCzq9PREAUr7Bofa3x+gvCglomgC65ZjSsLWVNuLErQRQSKKQklDzKrlAEJG2MkWcQJkujVWdOCX9D0wAwgDAwgIN3AdO8f97S043T3vT333l/fO+9X1a075/zO75xvd/Xlw++c3z2nb2pqCkmSOq2/dAGSpL2TASRJKsIAkiQVYQBJkopYWrqAdqnVakuB5wHbRkZGni5djyTp1/VsAFEPn7Hh4eHSdUhSq/SVLqCVPAUnSSrCAJIkFWEASZKKMIAkSUUYQJKkIgwgSVIRBpAkqQgDSJJUhAEkSSrCAJIkFWEASZKKMIAkSUUYQJKkIgwgSVIRBpDabmJisnQJ8+qGGqVe08vPA9IiMTDQz9DQltJlzGlsbHXpEqS9jiMgSVIRBpAkqQgDSJJUhAEkSSrCAJIkFWEASZKKMIAkSUUYQJKkIgwgSVIRBpAkqQgDSJJUhAEkSSqiYzcjjYhrgSFgEngMOC0zN0fEFmC8egF8PDO/WfU5CtgALAO2ACdk5v2dqlmS1D6dvBv2yZn5CEBEvAm4FFhXtb09M0dnbhwR/cCVwHsyc1NEnAmcDbyvgzVLktqkY6fgpsOnsj/1kdBcRoDxzNxULV8MvLMdtUmSOq+jzwOKiEuAVwN9wGtnNH05IvqATcAZmfkwsBK4c3qDzHwgIvoj4oDM3NHoMUdHR+ffSG01MjJSuoSG1Gq10iVIc+qWz1KjOhpAmfl+gIg4ETgHeD1wTGZujYgB4DzgAuCEVh1zeHiYgYGBVu1OPazXPtzSYldkFlxmXgEcGxEHZubWat0EcBHwimqzu4BV030i4iBgspnRjyRp8epIAEXEvhGxYsbyemAHMB4R+1fr+oB3A5urzWrAsog4ulo+Bbi6E/VKktqvU6fglgNXR8RyYCf18FkPHAp8LSKWAEuAW4EPAmTmZHWqbkNEDFJNw+5QvZKkNutIAGXmfcBRszS/ZI5+NwNr21KUJKko74QgSSrCAJIkFWEASZKKMIAkSUUYQJKkIgwgSVIRBpAkqQgDSJJUhAEkSSrCAJIkFWEASZKKMIAkSUUYQJKkIgwgSVIRBpAkqQgDSJJUhAEkSSrCAJIkFWEASZKKMIAkSUUYQJKkIgwgSVIRBpAkqQgDSJJUhAEkSSrCAJIkFWEASZKKMIAkSUUYQJKkIpZ26kARcS0wBEwCjwGnZebmiFgDXAYcCDwInJSZd1R9Zm2TJHW3To6ATs7M/5CZLwHOBS6t1l8MXJiZa4ALgQ0z+szVJknqYh0LoMx8ZMbi/sBkRBwCrAM2Vus3Ausi4uC52jpVsySpfTp2Cg4gIi4BXg30Aa8FVgB3Z+ZOgMzcGRH3VOv75mjb3ugxR0dHW/tDqGkjIyOlS2hIrVYrXYI0p275LDWqowGUme8HiIgTgXOAs9p9zOHhYQYGBtp9GPWAXvtwS4tdkVlwmXkFcCywDXhuRCwBqN4PB7ZWr9naJEldriMBFBH7RsSKGcvrgR3A/cBm4Liq6Tjgh5m5PTNnbetEzZKk9urUKbjlwNURsRzYST181mfmVEScAlwWEX8OPAScNKPfXG2SpC7WNzU1VbqGtqjVaquBMa8BLQ5DQ1tKlzCnsbHVpUuQGtFXuoBW8k4IkqQiDCBJUhEGkCSpCANIklSEASRJKsIAkiQVYQBJkoowgCRJRRhAkqQiDCBJUhEGkCSpCANIklSEASRJKsIAkiQVYQBJkoowgCRJRRhAkqQiDCBJUhEGkCSpCANIklSEASRJKsIAkiQVYQBJkoowgCRJRRhAkqQiDCBJUhEGkCSpCANIklSEASRJKsIAkiQVsbQTB4mIA4ErgBcATwJ3AB/IzO0RMQX8KzBZbX5iZv5r1W89cE5VZw14b2b+shM1S5Laq1MjoCngM5kZmbkW+Blw9oz2l2fmi6vXdPjsC3wRWJ+ZLwQeBT7aoXolSW3WkQDKzB2ZeeOMVbcAq+bp9jrg+5l5R7V8MfCuNpQnSSqgI6fgZoqIfuBU4LoZq2+MiKXAN4BPZuYEsBK4c8Y2dwErmj3e6OjoHlSrVhgZGSldQkNqtVrpEqQ5dctnqVEdDyDgC8BjwAXV8srM3BoRz6Z+negs4MxWHWx4eJiBgYFW7U49rNc+3NJi19FZcBFxLnAE8K7MnATIzK3V+y+AS4BXVJvfxa+fplsJbO1ctZKkdupYAEXEp4ER4M3VKTYi4jkRsaz691Lg7cDmqsvfAS+NiCOq5VOAr3aqXklSe3UkgCLiSOATwOHAzRGxOSKuAV4E/HNE/D/gR8BT1E/BkZmPAn8CXB8RPwX2B87tRL2SpPbryDWgzPwx0DdL87+fo9/Xga+3pShJUlHeCUGSVIQBJEkqwgCSJBVhAEmSijCAJElFGECSpCIMIElSEQaQJKkIA0iSVIQBJEkqwgCSJBVhAEmSijCAJElFGECSpCIMIElSEQaQJKkIA0iSVIQBJEkqwgCSJBVhAEmSijCAJElFGECSpCIaDqCI+Ogs6/+0deVIkvYWzYyA/nyW9We2ohBJ0t5l6XwbRMR/rP65JCKOBfpmND8feLQdhUmSetu8AQT8VfU+CFw6Y/0U8HPgtFYXJUnqffMGUGYOAUTE5Zl5UvtLkiS1U0T8AXBlZj6vZB2NjIAAmBk+EdG/S9tkK4uSJDUuIrYAhwI7gceBbwD/OTMfK1jWvJqZBbcuIr4bEY8DT1Wvp6t3SVJZ6zNzX2Ad8Lt0wQSxhkdAwGXA3wDvA37ZnnIkSXsiM++OiG8AwxFxAPBZ4DXAMuDbmfnmXftExH8D/hg4BNgK/PfMvKZqeyH1uQAvpj7g+IfMfFdE9AGfA/6I+hyBO4HjMnO00VqbCaBVVVFTTfQBICIOBK4AXgA8CdwBfCAzt0fEUcAG6r+cLcAJmXl/1W/WNknSb4qIFcDrgb+m/t/dx4Ajq/eXz9LtZ8Ax1CeWvQO4MiJemJn3Ap8C/h44FtiH+ugK4NXAK4E1wCPAi4CHm6m1me8BXVMdcCGmgM9kZmTmWuo/7NnVtaQrgQ9l5hrgJuBs+NV1pt22SZJ+w7UR8TCwCfg2cBHwOuCUzHwoM5/KzG/vrmNmXp2Z92TmZGZ+hfog4WVV81PUByCHZ+Z4Zm6asX4/6sHTl5m3VYHVsGZGQIPANRGxiXpKzix+ztlxmbkDuHHGqluAU4ERYOYPdDH1kc775mmTJP26N2fmDdMLEfEyYEdmPjRfx4g4CfhTYHW1al/goOrff0Z9FPQvEfEQ8NnMvDQz/zEiLgAuBFZFxF8DH83MXzRacDMBdGv12iPVyOZU4DpgJfXzhgBk5gMR0V+dt5y1rQq0hoyONnw6Um0yMjJSuoSG1Gq10iVIc2rys7QVOCAifjszZz01FhGrgC8C/wn4bmbujIjNVDcdyMyfU78+REQcDdwQETdl5k8z83zg/Ig4BPgq8DHgrEYLbGYa9l80uu08vkD9XOQFwFtatM9ZDQ8PMzAw0O7DqAd0S1BKjcjMe6vJCBdFxIeo/3f39zPzpl02XU79Msl2gIh4LzA83RgR76AeTNuAh6ptJyPipdQv4/yA+tTvcaCpr+Q0HEAzbsnzGzLzHxvcx7nAEdSnC05GxF3Uzy1Otx8ETGbmjrnaGq1ZkvZyJwL/C/gJ9QkE/5f69fRfycxbI+KzwHepB8jlwD/N2OSlwHkRsT9wH/DhzPy3iBiq9v186uHzTeCcZorrm5pqbFJbRIztsurg6gfalpnPb6D/p4HfB96Qmb+s1vVTv9h1cmZuiogzgRdk5nvnamuk3lqtthoYcwS0OAwNbSldwpzGxlaXLkFqRN/8m3SPZk7BDc1cjogl1L/oNO/NSCPiSOATwO3AzREBMJaZb4mIE4ENETFINdW6Ot7kbG2SpO7X8AhodyJiKfUR0GGtK6k1HAEtLo6ApJboqRHQnj4R9Q9p8qKTJEnQ3CSErdRnP0x7FvXvBn2w1UVJknpfM98D2vX6y+PA7c186UiSpGnNTEL4Nvxq5tqhwH0+hkGStFDNPI5hv4i4HHgCuBt4IiIuq+aGS5LUlGYmIXyB+jdm11K/O/Va6teBzm9DXZKkBkyOj/+c+vX5lr6q/c4rIs6NiLGImIqI4fl7PKOZa0CvBZ4//SVS4Pbqlg0/a+aAkqTW6R8cPHTL0ND8GzZp9djYoQ1uei3weeA7zR6jmRHQOPW7H8x0EDDR7EElSb0hMzdl5taF9G1mBHQJ8K2I+Bz1u1SvAj5C/S6qkiQ1pZkA+kvqkw/+CDgcuIf6Q+b+qh2FSZJ6WzOn4D4PZGa+KjN/JzNfBdwWEee1qTZJUg9rJoCOA76/y7oacHzrypEk7S2aOQU3BSzZZd0S9vx+cpKkBZocH7+viRlrTe23f3Bw3u0i4nzgrcBh1J+W+mBmHtnIMZoJoO8An4qIP6seldAPfJIFTL2TJLVG/+BgW55G0Ej4AGTm6cDpCzlGMwH0YeB64N6IuBNYCdwLrF/IgSVJe7dm7gW3LSLWAS8DVgBbgX/xfnCSpIVoZgREFTa3VC9JkhbMCQSSpCIMIElSEQaQJKkIA0iSutgTTz7RlscxVPttq6YmIUiSFpdl+yw7dL/j9mv5fh/d+Oi8X26NiAOBK4AXAE8CdwAfyMztjRzDEZAkaaGmqN+UOjJzLfXnw53daGdHQJKkBcnMHcCNM1bdApzaaH9HQJKkPVbdnu1U4LpG+xhAkqRW+ALwGHBBox08BSdJ2iMRcS5wBLC+mduzGUCSpAWLiE8DI8AbMnOimb4GkCR1sSeefOK+RqZML2S/y/ZZNuc2EXEk8AngduDmiAAYy8y3NHKMjgVQNUR7G7AaWJuZo9X6LcB49QL4eGZ+s2o7CtgALAO2ACdk5v2dqlmSFrtl+yxry/OA5gsfgMz8MdC30GN0chLCtcArgTt30/b2zHxx9ZoOn37gSuBDmbkGuIkm5pdLkha3jgVQZm7KzK1NdBkBxjNzU7V8MfDO1lcmSSphsVwD+nJE9AGbgDMy82HqT1z91WgpMx+IiP6IOKD68lNDRkdHW1+tmjIyMlK6hIbUarXSJUhz6pbPUqMWQwAdk5lbI2IAOI/6HPITWrXz4eFhBgYGWrU79bBe+3BLi13xL6JOn5arpu9dBLyiaroLWDW9XUQcBEw2M/qRJC1eRQMoIpZHxP7Vv/uAdwObq+YasCwijq6WTwGu7nyVkqR26OQ07POBtwKHATdExIPAeuBrEbEEWALcCnwQIDMnI+JEYENEDFJNw+5UvZLUDcbHJ38+ONjf8u8BjY9P3jc42D/vFO+IuBYYAiap34rntMzcPHevuo4FUGaeDpy+m6aXzNHnZmBt24qSpC43ONh/6NDQlpbvd2xsdaOhdnJmPgIQEW8CLgXWNdKx+DUgSVL3mg6fyv7UR0INWQyz4CRJXSwiLgFeTf2uCK9ttJ8jIEnSHsnM92fmSuAM4JxG+xlAkqSWyMwrgGMj4sBGtjeAJEkLEhH7RsSKGcvrgR3Va15eA5IKm5yYoH+R362jG2rcW42PT97XxIy1pvY7ODjvGGU5cHVELAd2Ug+e9Zk51cgxDCCpsP6BAbYMDZUuY06rx8ZKl6BZNPJdnQXud95tMvM+4KiFHsNTcJKkIgwgSVIRBpAkqQgDSJJUhAEkSSrCAJIkFWEASZKKMIAkSUUYQJKkIgwgSVIRBpAkqQgDSFJPmJho+EGcRXVLnZ3gzUgl9YSBgX6GhraULmNeY2OrS5ewaDgCkiQVYQBJkoowgCRJRRhAkqQiDCBJUhEGkCSpCANIklSEASRJKsIAkiQVYQBJkoroyK14IuJc4G3AamBtZo5W69cAlwEHAg8CJ2XmHfO1SZK6X6dGQNcCrwTu3GX9xcCFmbkGuBDY0GCbJKnLdSSAMnNTZm6duS4iDgHWARurVRuBdRFx8FxtnahXktR+Je+GvQK4OzN3AmTmzoi4p1rfN0fb9mYOMjo62tqq1bSRkZHSJTSkVqsVOa6/n9bolt8jLPx32U0/YyN6/nEMw8PDDAwMlC5DXaDXPtyt5u+ndfxd1pWcBbcVeG5ELAGo3g+v1s/Vpsr4k+OlS5CkBSs2AsrM+yNiM3AccGX1/sPM3A4wV5vqBvcZZL/j9itdxrwe3fho6RIkLUIdGQFFxPkRsQ14HnBDRPy4ajoFOC0ibgdOq5ZpoE2S1OU6MgLKzNOB03ez/ifA783SZ9Y2SVL3804IkqQiDCBJUhEGkCSpCANIklSEASRpXn7nTO3Q83dCkLTnuuE7Z37frPs4ApIkFWEASZKKMIAkSUUYQLOYnJgoXYIk9TQnIcyif2CALUNDpcuY0+qxsdIlSNKCOQKSJBVhAEmSijCAJElFGECSpCIMIElSEQaQJKkIA0iSVIQBJEkqwgCSJBVhAEmSijCAJElFGECSpCIMIElSEQaQJKkIA0iSVIQBJEkqwgCSJBVhAEmSilgUj+SOiC3AePUC+HhmfjMijgI2AMuALcAJmXl/iRolSa21KAKo8vbMHJ1eiIh+4ErgPZm5KSLOBM4G3leqQElS6yzmU3AjwHhmbqqWLwbeWbAeSVILLaYA+nJE/CgiLoqI3wZWAndON2bmA0B/RBxQrEJJUsssllNwx2Tm1ogYAM4DLgCuacWOR0dH599oN0ZGRlpxeHWRWq1W5Lj+re19Fvq31mt/K4sigDJza/U+EREXAdcBnwdWTW8TEQcBk5m5o5l9Dw8PMzAw0Mpy1aN67cOtxcu/tbrip+AiYnlE7F/9uw94N7AZqAHLIuLoatNTgKvLVClJarXFMAI6FPhaRCwBlgC3Ah/MzMmIOBHYEBGDVNOwy5UpSWql4gGUmf8GvGSWtpuBtZ2tSJLUCcVPwUmS9k4GkCSpCANIklSEASRJKsIAkiQVYQBJkoowgCRJRRhAkqQiDCBJUhEGkCSpCANIklSEASRJKsIAkiQVYQBJkoowgCRJRRhAkqQiDCBJUhEGkCSpCANIklSEASRJKsIAkiQVYQBJkoowgCRJRRhAkqQiDCBJUhEGkCSpCANIklSEASRJKsIAkiQVYQBJkopYWrqA+UTEGuAy4EDgQeCkzLyjbFWSpD3VDSOgi4ELM3MNcCGwoXA9kqQWWNQjoIg4BFgH/GG1aiNwQUQcnJnb5+m+BODJJ59c8PF3Hnzwgvt2wsTEBIc9+7DSZcxrYmKCgw/eWbqMOU1MTBQ9vn9re64b/s5gz/7WRkdHVwPbRkZGnm5ZQQX1TU1Nla5hVhExAlyemUfOWHcrcEJm/mCuvrVa7WjgO20uUZI6bWhkZGRL6SJaYVGPgPbQ94BjgHuBxf+/RZLUmG2lC2iVxT4COgS4HTgwM3dGxBLqExGOaOAUnCRpEVvUkxAy835gM3Bcteo44IeGjyR1v0U9AgKIiBdRn4b9HOAh6tOws2xVkqQ9tegDSJLUmxb1KThJUu8ygCRJRRhAkqQiDCBJUhEGkCSpiF6+E4Ka4F3H1QkRcS7wNmA1sDYzR8tWpJIcAWmadx1XJ1wLvBK4s3QhKs8A0sy7jm+sVm0E1kXE4r5Fs7pOZm7KzK2l69DiYAAJYAVwd2buBKje76nWS1JbGECSpCIMIAFsBZ5b3W2c6v3war0ktYUBJO86LqkIb0YqwLuOqzMi4nzgrcBhwAPAgzOfeKy9iwEkSSrCU3CSpCIMIElSEQaQJKkIA0iSVIQBJEkqwgCSWiQiLo6Is9qw309GxJWt3q9Umo9jUM+LiKOBzwBHAjuB24D/kpnfa+VxMvOUVu5P6nUGkHpaRDwbuB44FfgqsA9wDDDR5H76gL7MnGx5kdJeygBSr1sDkJnTj5p4Avh7qJ/aAl6YmSdUy6uBMeC3MvPpiLgR+CfgD6g/ruKTEfGOzPzd6Z1HxEeAYzPzjRHxJWBbZp4ZEbcBH8vM66vtlgL3Aq/JzB9ExFHA54Dfof5snA9n5o3VtkPAl6pj3gJ4Rwr1JK8BqdfdDuyMiMsi4nUR8Zwm+58I/AmwH/WH9kVEHDGj/Xjgqt3028gz99YDeA3wQBU+zwX+D/A/gQOAjwJfm/H8pauAGnAQ8Cng5CZrlrqCAaSelpm/AI4GpoAvAtsj4rqIOLTBXXwpM3+cmU9n5iPA16mCpQqiFwHX7abfVcAbI+JZ1fLxPPPAvxOAv83Mv83Mycz8FvB94PURsRJ4KXBWZk5k5k3A3zT7c0vdwABSz8vM2zLzPZn5PGCY+qMmzmuw+66PpLiKZ0Y2xwPXZuYvd3PMn1Kf7LC+CqE38sxIaRXwjoh4ePpFPST/XVXbQ5n5+Izd+fhq9SSvAWmvkpk/qa7VfAD4AfCsGc2H7abLrnfr/RZwcES8mHoQfWSOw02fhusHbq1CCeqhdkVm/vGuHSJiFfCciFg+I4RW7qYOqesZQOpp1WMm3gB8JTO3RcQK6qFwC/VnIH28Ou31CPCJ+faXmU9FxNXAOdSv33xrjs3/N/CX1XYzrxNdCXwvIl4D3AD8FnAU8NPMvDMivg/8RUScAbwMWM/uT/NJXc1TcOp1jwK/B/xzRDxOPXhGgf9aXXv5CvAj6hf9r29wn1cBrwKuzsynZ9soM+8Fvgu8vDrO9PqtwJuAM4Dt1EdEH+OZz+PxVc07gP8BXN5gXVJX8XlAkqQiHAFJkoowgCRJRRhAkqQiDCBJUhEGkCSpCANIklSEASRJKsIAkiQV8f8ByvSFQp30TtIAAAAASUVORK5CYII=\n",
            "text/plain": [
              "<Figure size 406.6x360 with 1 Axes>"
            ]
          },
          "metadata": {
            "tags": [],
            "needs_background": "light"
          }
        }
      ]
    },
    {
      "cell_type": "code",
      "metadata": {
        "id": "jNvLAPiZWjIW",
        "colab_type": "code",
        "colab": {
          "base_uri": "https://localhost:8080/",
          "height": 196
        },
        "outputId": "44084f16-4408-41e7-c7dd-a28841edfd1e"
      },
      "source": [
        "# consider 'Pclass' feature.\n",
        "df[df.Survived==1].groupby('Pclass').Survived.count()\n",
        "pd.crosstab(index=[df.Pclass],columns=[df.Survived],margins=True,normalize=True) # set normalize=index to view rowwise %."
      ],
      "execution_count": 19,
      "outputs": [
        {
          "output_type": "execute_result",
          "data": {
            "text/html": [
              "<div>\n",
              "<style scoped>\n",
              "    .dataframe tbody tr th:only-of-type {\n",
              "        vertical-align: middle;\n",
              "    }\n",
              "\n",
              "    .dataframe tbody tr th {\n",
              "        vertical-align: top;\n",
              "    }\n",
              "\n",
              "    .dataframe thead th {\n",
              "        text-align: right;\n",
              "    }\n",
              "</style>\n",
              "<table border=\"1\" class=\"dataframe\">\n",
              "  <thead>\n",
              "    <tr style=\"text-align: right;\">\n",
              "      <th>Survived</th>\n",
              "      <th>0</th>\n",
              "      <th>1</th>\n",
              "      <th>All</th>\n",
              "    </tr>\n",
              "    <tr>\n",
              "      <th>Pclass</th>\n",
              "      <th></th>\n",
              "      <th></th>\n",
              "      <th></th>\n",
              "    </tr>\n",
              "  </thead>\n",
              "  <tbody>\n",
              "    <tr>\n",
              "      <th>1</th>\n",
              "      <td>0.089787</td>\n",
              "      <td>0.152637</td>\n",
              "      <td>0.242424</td>\n",
              "    </tr>\n",
              "    <tr>\n",
              "      <th>2</th>\n",
              "      <td>0.108866</td>\n",
              "      <td>0.097643</td>\n",
              "      <td>0.206510</td>\n",
              "    </tr>\n",
              "    <tr>\n",
              "      <th>3</th>\n",
              "      <td>0.417508</td>\n",
              "      <td>0.133558</td>\n",
              "      <td>0.551066</td>\n",
              "    </tr>\n",
              "    <tr>\n",
              "      <th>All</th>\n",
              "      <td>0.616162</td>\n",
              "      <td>0.383838</td>\n",
              "      <td>1.000000</td>\n",
              "    </tr>\n",
              "  </tbody>\n",
              "</table>\n",
              "</div>"
            ],
            "text/plain": [
              "Survived         0         1       All\n",
              "Pclass                                \n",
              "1         0.089787  0.152637  0.242424\n",
              "2         0.108866  0.097643  0.206510\n",
              "3         0.417508  0.133558  0.551066\n",
              "All       0.616162  0.383838  1.000000"
            ]
          },
          "metadata": {
            "tags": []
          },
          "execution_count": 19
        }
      ]
    },
    {
      "cell_type": "markdown",
      "metadata": {
        "id": "3OBZ6SkyWjIm",
        "colab_type": "text"
      },
      "source": [
        "###### this again shows that 38% of people survived that accident. also this highlights that only 9% of total passengers who traveled in Pclass 2 survived and rest died and similarly 15% of passengers in Pclass 1 survived and rest died."
      ]
    },
    {
      "cell_type": "code",
      "metadata": {
        "id": "eagNWqaZWjIp",
        "colab_type": "code",
        "colab": {
          "base_uri": "https://localhost:8080/",
          "height": 196
        },
        "outputId": "76741496-2333-4040-b096-bd445f1ff8e3"
      },
      "source": [
        "pd.crosstab(index=[df.Pclass],columns=[df.Survived],margins=True,normalize='index') "
      ],
      "execution_count": 20,
      "outputs": [
        {
          "output_type": "execute_result",
          "data": {
            "text/html": [
              "<div>\n",
              "<style scoped>\n",
              "    .dataframe tbody tr th:only-of-type {\n",
              "        vertical-align: middle;\n",
              "    }\n",
              "\n",
              "    .dataframe tbody tr th {\n",
              "        vertical-align: top;\n",
              "    }\n",
              "\n",
              "    .dataframe thead th {\n",
              "        text-align: right;\n",
              "    }\n",
              "</style>\n",
              "<table border=\"1\" class=\"dataframe\">\n",
              "  <thead>\n",
              "    <tr style=\"text-align: right;\">\n",
              "      <th>Survived</th>\n",
              "      <th>0</th>\n",
              "      <th>1</th>\n",
              "    </tr>\n",
              "    <tr>\n",
              "      <th>Pclass</th>\n",
              "      <th></th>\n",
              "      <th></th>\n",
              "    </tr>\n",
              "  </thead>\n",
              "  <tbody>\n",
              "    <tr>\n",
              "      <th>1</th>\n",
              "      <td>0.370370</td>\n",
              "      <td>0.629630</td>\n",
              "    </tr>\n",
              "    <tr>\n",
              "      <th>2</th>\n",
              "      <td>0.527174</td>\n",
              "      <td>0.472826</td>\n",
              "    </tr>\n",
              "    <tr>\n",
              "      <th>3</th>\n",
              "      <td>0.757637</td>\n",
              "      <td>0.242363</td>\n",
              "    </tr>\n",
              "    <tr>\n",
              "      <th>All</th>\n",
              "      <td>0.616162</td>\n",
              "      <td>0.383838</td>\n",
              "    </tr>\n",
              "  </tbody>\n",
              "</table>\n",
              "</div>"
            ],
            "text/plain": [
              "Survived         0         1\n",
              "Pclass                      \n",
              "1         0.370370  0.629630\n",
              "2         0.527174  0.472826\n",
              "3         0.757637  0.242363\n",
              "All       0.616162  0.383838"
            ]
          },
          "metadata": {
            "tags": []
          },
          "execution_count": 20
        }
      ]
    },
    {
      "cell_type": "code",
      "metadata": {
        "id": "R2mxihQ1WjI8",
        "colab_type": "code",
        "colab": {
          "base_uri": "https://localhost:8080/",
          "height": 385
        },
        "outputId": "4f5cbc9c-9fd9-4158-b680-0f2b84c30449"
      },
      "source": [
        "sns.factorplot(x='Pclass',y='Survived',kind='point',data=df,size=5,aspect=1,palette=['#ff0000'])"
      ],
      "execution_count": 21,
      "outputs": [
        {
          "output_type": "execute_result",
          "data": {
            "text/plain": [
              "<seaborn.axisgrid.FacetGrid at 0x7f25ef36cac8>"
            ]
          },
          "metadata": {
            "tags": []
          },
          "execution_count": 21
        },
        {
          "output_type": "display_data",
          "data": {
            "image/png": "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\n",
            "text/plain": [
              "<Figure size 360x360 with 1 Axes>"
            ]
          },
          "metadata": {
            "tags": [],
            "needs_background": "light"
          }
        }
      ]
    },
    {
      "cell_type": "code",
      "metadata": {
        "id": "bV-3lyLlWjJH",
        "colab_type": "code",
        "colab": {
          "base_uri": "https://localhost:8080/",
          "height": 385
        },
        "outputId": "5909c5b4-c9b2-4099-ce37-742350e669de"
      },
      "source": [
        "sns.factorplot(x='Pclass',y='Survived',data=df,kind='bar',palette=['#ff0000','#006400','#0000ff'],size=5,aspect=1)"
      ],
      "execution_count": 22,
      "outputs": [
        {
          "output_type": "execute_result",
          "data": {
            "text/plain": [
              "<seaborn.axisgrid.FacetGrid at 0x7f25ef338e80>"
            ]
          },
          "metadata": {
            "tags": []
          },
          "execution_count": 22
        },
        {
          "output_type": "display_data",
          "data": {
            "image/png": "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\n",
            "text/plain": [
              "<Figure size 360x360 with 1 Axes>"
            ]
          },
          "metadata": {
            "tags": [],
            "needs_background": "light"
          }
        }
      ]
    },
    {
      "cell_type": "markdown",
      "metadata": {
        "id": "WSToSy-zWjJc",
        "colab_type": "text"
      },
      "source": [
        "###### now this shows an even better picture. 75 % of people died in class 3 and only 24% survived. similarly for class 2.for class 1 only 37% died and rest survived probably bcoz of better facilities.in a nutshell most of the people in pclass 1 survived and most of the people in plass 3 died."
      ]
    },
    {
      "cell_type": "code",
      "metadata": {
        "id": "MjDR6QRPWjJf",
        "colab_type": "code",
        "colab": {
          "base_uri": "https://localhost:8080/",
          "height": 286
        },
        "outputId": "1171ff60-546c-4ab6-9fb3-39c903015566"
      },
      "source": [
        "# grouping by both male or female and the respective Pclasses\n",
        "pd.crosstab(index=[df.Sex,df.Pclass],columns=[df.Survived],margins=True) \n",
        "# the result clearly shows that most of the male in class 2 and 3 died and most of the females in class 1 and 2 survived.\n",
        "# see the tabulation below."
      ],
      "execution_count": 23,
      "outputs": [
        {
          "output_type": "execute_result",
          "data": {
            "text/html": [
              "<div>\n",
              "<style scoped>\n",
              "    .dataframe tbody tr th:only-of-type {\n",
              "        vertical-align: middle;\n",
              "    }\n",
              "\n",
              "    .dataframe tbody tr th {\n",
              "        vertical-align: top;\n",
              "    }\n",
              "\n",
              "    .dataframe thead th {\n",
              "        text-align: right;\n",
              "    }\n",
              "</style>\n",
              "<table border=\"1\" class=\"dataframe\">\n",
              "  <thead>\n",
              "    <tr style=\"text-align: right;\">\n",
              "      <th></th>\n",
              "      <th>Survived</th>\n",
              "      <th>0</th>\n",
              "      <th>1</th>\n",
              "      <th>All</th>\n",
              "    </tr>\n",
              "    <tr>\n",
              "      <th>Sex</th>\n",
              "      <th>Pclass</th>\n",
              "      <th></th>\n",
              "      <th></th>\n",
              "      <th></th>\n",
              "    </tr>\n",
              "  </thead>\n",
              "  <tbody>\n",
              "    <tr>\n",
              "      <th rowspan=\"3\" valign=\"top\">female</th>\n",
              "      <th>1</th>\n",
              "      <td>3</td>\n",
              "      <td>91</td>\n",
              "      <td>94</td>\n",
              "    </tr>\n",
              "    <tr>\n",
              "      <th>2</th>\n",
              "      <td>6</td>\n",
              "      <td>70</td>\n",
              "      <td>76</td>\n",
              "    </tr>\n",
              "    <tr>\n",
              "      <th>3</th>\n",
              "      <td>72</td>\n",
              "      <td>72</td>\n",
              "      <td>144</td>\n",
              "    </tr>\n",
              "    <tr>\n",
              "      <th rowspan=\"3\" valign=\"top\">male</th>\n",
              "      <th>1</th>\n",
              "      <td>77</td>\n",
              "      <td>45</td>\n",
              "      <td>122</td>\n",
              "    </tr>\n",
              "    <tr>\n",
              "      <th>2</th>\n",
              "      <td>91</td>\n",
              "      <td>17</td>\n",
              "      <td>108</td>\n",
              "    </tr>\n",
              "    <tr>\n",
              "      <th>3</th>\n",
              "      <td>300</td>\n",
              "      <td>47</td>\n",
              "      <td>347</td>\n",
              "    </tr>\n",
              "    <tr>\n",
              "      <th>All</th>\n",
              "      <th></th>\n",
              "      <td>549</td>\n",
              "      <td>342</td>\n",
              "      <td>891</td>\n",
              "    </tr>\n",
              "  </tbody>\n",
              "</table>\n",
              "</div>"
            ],
            "text/plain": [
              "Survived         0    1  All\n",
              "Sex    Pclass               \n",
              "female 1         3   91   94\n",
              "       2         6   70   76\n",
              "       3        72   72  144\n",
              "male   1        77   45  122\n",
              "       2        91   17  108\n",
              "       3       300   47  347\n",
              "All            549  342  891"
            ]
          },
          "metadata": {
            "tags": []
          },
          "execution_count": 23
        }
      ]
    },
    {
      "cell_type": "code",
      "metadata": {
        "id": "sOiJPCeiWjJs",
        "colab_type": "code",
        "colab": {
          "base_uri": "https://localhost:8080/",
          "height": 385
        },
        "outputId": "7b2e3fbb-1c6f-49cd-c0d3-b581dadbf73e"
      },
      "source": [
        "sns.factorplot(x='Sex',hue='Pclass',data=df,col='Survived',kind='count',palette=['#ff0000','#006400','#0000ff'],size=5,aspect=1)"
      ],
      "execution_count": 24,
      "outputs": [
        {
          "output_type": "execute_result",
          "data": {
            "text/plain": [
              "<seaborn.axisgrid.FacetGrid at 0x7f25ef235a90>"
            ]
          },
          "metadata": {
            "tags": []
          },
          "execution_count": 24
        },
        {
          "output_type": "display_data",
          "data": {
            "image/png": "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\n",
            "text/plain": [
              "<Figure size 766.6x360 with 2 Axes>"
            ]
          },
          "metadata": {
            "tags": [],
            "needs_background": "light"
          }
        }
      ]
    },
    {
      "cell_type": "markdown",
      "metadata": {
        "id": "NeGiT144WjJ2",
        "colab_type": "text"
      },
      "source": [
        "###### the graph highlights the picture very clearly. majority of the males in class 2 and 3 died. this is bcoz they were males and wre traveling in a lower class and hence this makes sense. on the other hand most of the females in class 1 and 2 survived which again makes sense as females were given prioroty and also they were traveling in higher classes"
      ]
    },
    {
      "cell_type": "code",
      "metadata": {
        "id": "wY_4IQ0nWjJ5",
        "colab_type": "code",
        "colab": {
          "base_uri": "https://localhost:8080/",
          "height": 196
        },
        "outputId": "f1f5cef9-6b16-40c5-d385-40e0e8d4eda6"
      },
      "source": [
        " #now let us see how survival varies with 'Embarked'\n",
        "df.groupby('Embarked').Survived.count() # most of the people were embarked with 'S'\n",
        "\n",
        "pd.crosstab(index=[df.Embarked],columns=[df.Survived],margins=True,normalize='index')\n",
        "\n"
      ],
      "execution_count": 25,
      "outputs": [
        {
          "output_type": "execute_result",
          "data": {
            "text/html": [
              "<div>\n",
              "<style scoped>\n",
              "    .dataframe tbody tr th:only-of-type {\n",
              "        vertical-align: middle;\n",
              "    }\n",
              "\n",
              "    .dataframe tbody tr th {\n",
              "        vertical-align: top;\n",
              "    }\n",
              "\n",
              "    .dataframe thead th {\n",
              "        text-align: right;\n",
              "    }\n",
              "</style>\n",
              "<table border=\"1\" class=\"dataframe\">\n",
              "  <thead>\n",
              "    <tr style=\"text-align: right;\">\n",
              "      <th>Survived</th>\n",
              "      <th>0</th>\n",
              "      <th>1</th>\n",
              "    </tr>\n",
              "    <tr>\n",
              "      <th>Embarked</th>\n",
              "      <th></th>\n",
              "      <th></th>\n",
              "    </tr>\n",
              "  </thead>\n",
              "  <tbody>\n",
              "    <tr>\n",
              "      <th>C</th>\n",
              "      <td>0.446429</td>\n",
              "      <td>0.553571</td>\n",
              "    </tr>\n",
              "    <tr>\n",
              "      <th>Q</th>\n",
              "      <td>0.610390</td>\n",
              "      <td>0.389610</td>\n",
              "    </tr>\n",
              "    <tr>\n",
              "      <th>S</th>\n",
              "      <td>0.663043</td>\n",
              "      <td>0.336957</td>\n",
              "    </tr>\n",
              "    <tr>\n",
              "      <th>All</th>\n",
              "      <td>0.617548</td>\n",
              "      <td>0.382452</td>\n",
              "    </tr>\n",
              "  </tbody>\n",
              "</table>\n",
              "</div>"
            ],
            "text/plain": [
              "Survived         0         1\n",
              "Embarked                    \n",
              "C         0.446429  0.553571\n",
              "Q         0.610390  0.389610\n",
              "S         0.663043  0.336957\n",
              "All       0.617548  0.382452"
            ]
          },
          "metadata": {
            "tags": []
          },
          "execution_count": 25
        }
      ]
    },
    {
      "cell_type": "code",
      "metadata": {
        "id": "qQXwP2IUWjKL",
        "colab_type": "code",
        "colab": {
          "base_uri": "https://localhost:8080/",
          "height": 385
        },
        "outputId": "e72f97b8-61a8-457b-9c0e-b95415c7a250"
      },
      "source": [
        "sns.factorplot(x='Survived',data=df,hue='Embarked',kind='count',palette=['#ff0000','#006400','#0000ff'],size=5,aspect=1)"
      ],
      "execution_count": 26,
      "outputs": [
        {
          "output_type": "execute_result",
          "data": {
            "text/plain": [
              "<seaborn.axisgrid.FacetGrid at 0x7f25ef20eac8>"
            ]
          },
          "metadata": {
            "tags": []
          },
          "execution_count": 26
        },
        {
          "output_type": "display_data",
          "data": {
            "image/png": "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\n",
            "text/plain": [
              "<Figure size 429.8x360 with 1 Axes>"
            ]
          },
          "metadata": {
            "tags": [],
            "needs_background": "light"
          }
        }
      ]
    },
    {
      "cell_type": "code",
      "metadata": {
        "id": "IHqnKUJUWjKX",
        "colab_type": "code",
        "colab": {
          "base_uri": "https://localhost:8080/",
          "height": 286
        },
        "outputId": "02b954b4-9520-4ea0-e36b-8137f71511b1"
      },
      "source": [
        "pd.crosstab(index=[df.Sex,df.Embarked],columns=[df.Survived],margins=True)"
      ],
      "execution_count": 27,
      "outputs": [
        {
          "output_type": "execute_result",
          "data": {
            "text/html": [
              "<div>\n",
              "<style scoped>\n",
              "    .dataframe tbody tr th:only-of-type {\n",
              "        vertical-align: middle;\n",
              "    }\n",
              "\n",
              "    .dataframe tbody tr th {\n",
              "        vertical-align: top;\n",
              "    }\n",
              "\n",
              "    .dataframe thead th {\n",
              "        text-align: right;\n",
              "    }\n",
              "</style>\n",
              "<table border=\"1\" class=\"dataframe\">\n",
              "  <thead>\n",
              "    <tr style=\"text-align: right;\">\n",
              "      <th></th>\n",
              "      <th>Survived</th>\n",
              "      <th>0</th>\n",
              "      <th>1</th>\n",
              "      <th>All</th>\n",
              "    </tr>\n",
              "    <tr>\n",
              "      <th>Sex</th>\n",
              "      <th>Embarked</th>\n",
              "      <th></th>\n",
              "      <th></th>\n",
              "      <th></th>\n",
              "    </tr>\n",
              "  </thead>\n",
              "  <tbody>\n",
              "    <tr>\n",
              "      <th rowspan=\"3\" valign=\"top\">female</th>\n",
              "      <th>C</th>\n",
              "      <td>9</td>\n",
              "      <td>64</td>\n",
              "      <td>73</td>\n",
              "    </tr>\n",
              "    <tr>\n",
              "      <th>Q</th>\n",
              "      <td>9</td>\n",
              "      <td>27</td>\n",
              "      <td>36</td>\n",
              "    </tr>\n",
              "    <tr>\n",
              "      <th>S</th>\n",
              "      <td>63</td>\n",
              "      <td>140</td>\n",
              "      <td>203</td>\n",
              "    </tr>\n",
              "    <tr>\n",
              "      <th rowspan=\"3\" valign=\"top\">male</th>\n",
              "      <th>C</th>\n",
              "      <td>66</td>\n",
              "      <td>29</td>\n",
              "      <td>95</td>\n",
              "    </tr>\n",
              "    <tr>\n",
              "      <th>Q</th>\n",
              "      <td>38</td>\n",
              "      <td>3</td>\n",
              "      <td>41</td>\n",
              "    </tr>\n",
              "    <tr>\n",
              "      <th>S</th>\n",
              "      <td>364</td>\n",
              "      <td>77</td>\n",
              "      <td>441</td>\n",
              "    </tr>\n",
              "    <tr>\n",
              "      <th>All</th>\n",
              "      <th></th>\n",
              "      <td>549</td>\n",
              "      <td>340</td>\n",
              "      <td>889</td>\n",
              "    </tr>\n",
              "  </tbody>\n",
              "</table>\n",
              "</div>"
            ],
            "text/plain": [
              "Survived           0    1  All\n",
              "Sex    Embarked               \n",
              "female C           9   64   73\n",
              "       Q           9   27   36\n",
              "       S          63  140  203\n",
              "male   C          66   29   95\n",
              "       Q          38    3   41\n",
              "       S         364   77  441\n",
              "All              549  340  889"
            ]
          },
          "metadata": {
            "tags": []
          },
          "execution_count": 27
        }
      ]
    },
    {
      "cell_type": "code",
      "metadata": {
        "id": "6HMa-pIiWjKq",
        "colab_type": "code",
        "colab": {
          "base_uri": "https://localhost:8080/",
          "height": 385
        },
        "outputId": "a2f03dca-8f4a-4496-c05f-0ce64a74ff8c"
      },
      "source": [
        "sns.factorplot(x='Sex',data=df,kind='count',hue='Embarked',col='Survived',palette=['#ff0000','#006400','#0000ff'],size=5,aspect=1)"
      ],
      "execution_count": 28,
      "outputs": [
        {
          "output_type": "execute_result",
          "data": {
            "text/plain": [
              "<seaborn.axisgrid.FacetGrid at 0x7f25ef0f75c0>"
            ]
          },
          "metadata": {
            "tags": []
          },
          "execution_count": 28
        },
        {
          "output_type": "display_data",
          "data": {
            "image/png": "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\n",
            "text/plain": [
              "<Figure size 789.8x360 with 2 Axes>"
            ]
          },
          "metadata": {
            "tags": [],
            "needs_background": "light"
          }
        }
      ]
    },
    {
      "cell_type": "markdown",
      "metadata": {
        "id": "OSQw4Rs3WjK-",
        "colab_type": "text"
      },
      "source": [
        "###### the graph clearly shows that majority of the males embarked with S died . also very few females died who were embarked C or Q."
      ]
    },
    {
      "cell_type": "code",
      "metadata": {
        "id": "ZJOV71EfWjLA",
        "colab_type": "code",
        "colab": {
          "base_uri": "https://localhost:8080/",
          "height": 375
        },
        "outputId": "b5c72ad6-d233-4c8e-dd94-cd38ce75168e"
      },
      "source": [
        "pd.crosstab(index=[df.Pclass,df.Embarked],columns=[df.Survived],margins=True)"
      ],
      "execution_count": 29,
      "outputs": [
        {
          "output_type": "execute_result",
          "data": {
            "text/html": [
              "<div>\n",
              "<style scoped>\n",
              "    .dataframe tbody tr th:only-of-type {\n",
              "        vertical-align: middle;\n",
              "    }\n",
              "\n",
              "    .dataframe tbody tr th {\n",
              "        vertical-align: top;\n",
              "    }\n",
              "\n",
              "    .dataframe thead th {\n",
              "        text-align: right;\n",
              "    }\n",
              "</style>\n",
              "<table border=\"1\" class=\"dataframe\">\n",
              "  <thead>\n",
              "    <tr style=\"text-align: right;\">\n",
              "      <th></th>\n",
              "      <th>Survived</th>\n",
              "      <th>0</th>\n",
              "      <th>1</th>\n",
              "      <th>All</th>\n",
              "    </tr>\n",
              "    <tr>\n",
              "      <th>Pclass</th>\n",
              "      <th>Embarked</th>\n",
              "      <th></th>\n",
              "      <th></th>\n",
              "      <th></th>\n",
              "    </tr>\n",
              "  </thead>\n",
              "  <tbody>\n",
              "    <tr>\n",
              "      <th rowspan=\"3\" valign=\"top\">1</th>\n",
              "      <th>C</th>\n",
              "      <td>26</td>\n",
              "      <td>59</td>\n",
              "      <td>85</td>\n",
              "    </tr>\n",
              "    <tr>\n",
              "      <th>Q</th>\n",
              "      <td>1</td>\n",
              "      <td>1</td>\n",
              "      <td>2</td>\n",
              "    </tr>\n",
              "    <tr>\n",
              "      <th>S</th>\n",
              "      <td>53</td>\n",
              "      <td>74</td>\n",
              "      <td>127</td>\n",
              "    </tr>\n",
              "    <tr>\n",
              "      <th rowspan=\"3\" valign=\"top\">2</th>\n",
              "      <th>C</th>\n",
              "      <td>8</td>\n",
              "      <td>9</td>\n",
              "      <td>17</td>\n",
              "    </tr>\n",
              "    <tr>\n",
              "      <th>Q</th>\n",
              "      <td>1</td>\n",
              "      <td>2</td>\n",
              "      <td>3</td>\n",
              "    </tr>\n",
              "    <tr>\n",
              "      <th>S</th>\n",
              "      <td>88</td>\n",
              "      <td>76</td>\n",
              "      <td>164</td>\n",
              "    </tr>\n",
              "    <tr>\n",
              "      <th rowspan=\"3\" valign=\"top\">3</th>\n",
              "      <th>C</th>\n",
              "      <td>41</td>\n",
              "      <td>25</td>\n",
              "      <td>66</td>\n",
              "    </tr>\n",
              "    <tr>\n",
              "      <th>Q</th>\n",
              "      <td>45</td>\n",
              "      <td>27</td>\n",
              "      <td>72</td>\n",
              "    </tr>\n",
              "    <tr>\n",
              "      <th>S</th>\n",
              "      <td>286</td>\n",
              "      <td>67</td>\n",
              "      <td>353</td>\n",
              "    </tr>\n",
              "    <tr>\n",
              "      <th>All</th>\n",
              "      <th></th>\n",
              "      <td>549</td>\n",
              "      <td>340</td>\n",
              "      <td>889</td>\n",
              "    </tr>\n",
              "  </tbody>\n",
              "</table>\n",
              "</div>"
            ],
            "text/plain": [
              "Survived           0    1  All\n",
              "Pclass Embarked               \n",
              "1      C          26   59   85\n",
              "       Q           1    1    2\n",
              "       S          53   74  127\n",
              "2      C           8    9   17\n",
              "       Q           1    2    3\n",
              "       S          88   76  164\n",
              "3      C          41   25   66\n",
              "       Q          45   27   72\n",
              "       S         286   67  353\n",
              "All              549  340  889"
            ]
          },
          "metadata": {
            "tags": []
          },
          "execution_count": 29
        }
      ]
    },
    {
      "cell_type": "code",
      "metadata": {
        "id": "UzLTcaydWjLI",
        "colab_type": "code",
        "colab": {
          "base_uri": "https://localhost:8080/",
          "height": 385
        },
        "outputId": "0d588edb-6d72-4d3e-e795-11baa3234750"
      },
      "source": [
        "sns.factorplot(x='Survived',col='Embarked',data=df,hue='Pclass',kind='count',palette=['#ff0000','#006400','#0000ff'],size=5,aspect=1)"
      ],
      "execution_count": 30,
      "outputs": [
        {
          "output_type": "execute_result",
          "data": {
            "text/plain": [
              "<seaborn.axisgrid.FacetGrid at 0x7f25ef087a58>"
            ]
          },
          "metadata": {
            "tags": []
          },
          "execution_count": 30
        },
        {
          "output_type": "display_data",
          "data": {
            "image/png": "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\n",
            "text/plain": [
              "<Figure size 1126.6x360 with 3 Axes>"
            ]
          },
          "metadata": {
            "tags": [],
            "needs_background": "light"
          }
        }
      ]
    },
    {
      "cell_type": "code",
      "metadata": {
        "id": "mobY3W6sWjLS",
        "colab_type": "code",
        "colab": {}
      },
      "source": [
        " # now we need to convert categorical variables into numerical for modelling.\n",
        " # can use labels or sep col using get_dummies()\n",
        "\n",
        "#sex\n",
        "for frame in [train,test,df,test_df]:\n",
        "    frame.loc[frame.Sex=='male','Sex']=0\n",
        "    frame.loc[frame.Sex=='female','Sex']=1\n",
        "    \n",
        "#embarked    \n",
        "for frame in [train,test,df,test_df]:\n",
        "    frame.loc[frame.Embarked=='C','Embarked']=0\n",
        "    frame.loc[frame.Embarked=='S','Embarked']=1\n",
        "    frame.loc[frame.Embarked=='Q','Embarked']=2\n",
        "#df.head(10)\n",
        "        "
      ],
      "execution_count": 31,
      "outputs": []
    },
    {
      "cell_type": "code",
      "metadata": {
        "id": "EMgngRXUWjLa",
        "colab_type": "code",
        "colab": {
          "base_uri": "https://localhost:8080/",
          "height": 345
        },
        "outputId": "4e0b2863-24a7-45a6-a2f1-f7ec22ec2cd9"
      },
      "source": [
        "#now age and fare are continuous variables.\n",
        "#we can convert them to discrete intervals.\n",
        "\n",
        "#age\n",
        "df.Age.describe()   # age varies from 0.42 to 80.00\n",
        "for frame in [train,test,df,test_df]:\n",
        "    frame['bin_age']=np.nan\n",
        "    frame['bin_age']=np.floor(frame['Age'])//10\n",
        "    frame['bin_fare']=np.nan\n",
        "    frame['bin_fare']=np.floor(frame['Fare'])//50\n",
        "    \n",
        "df.head(10)[['Fare','bin_fare','Age','bin_age']] \n",
        "# df.bin_age.unique()\n",
        "# df.bin_fare.unique()\n",
        " "
      ],
      "execution_count": 32,
      "outputs": [
        {
          "output_type": "execute_result",
          "data": {
            "text/html": [
              "<div>\n",
              "<style scoped>\n",
              "    .dataframe tbody tr th:only-of-type {\n",
              "        vertical-align: middle;\n",
              "    }\n",
              "\n",
              "    .dataframe tbody tr th {\n",
              "        vertical-align: top;\n",
              "    }\n",
              "\n",
              "    .dataframe thead th {\n",
              "        text-align: right;\n",
              "    }\n",
              "</style>\n",
              "<table border=\"1\" class=\"dataframe\">\n",
              "  <thead>\n",
              "    <tr style=\"text-align: right;\">\n",
              "      <th></th>\n",
              "      <th>Fare</th>\n",
              "      <th>bin_fare</th>\n",
              "      <th>Age</th>\n",
              "      <th>bin_age</th>\n",
              "    </tr>\n",
              "  </thead>\n",
              "  <tbody>\n",
              "    <tr>\n",
              "      <th>0</th>\n",
              "      <td>7.2500</td>\n",
              "      <td>0.0</td>\n",
              "      <td>22.0</td>\n",
              "      <td>2.0</td>\n",
              "    </tr>\n",
              "    <tr>\n",
              "      <th>1</th>\n",
              "      <td>71.2833</td>\n",
              "      <td>1.0</td>\n",
              "      <td>38.0</td>\n",
              "      <td>3.0</td>\n",
              "    </tr>\n",
              "    <tr>\n",
              "      <th>2</th>\n",
              "      <td>7.9250</td>\n",
              "      <td>0.0</td>\n",
              "      <td>26.0</td>\n",
              "      <td>2.0</td>\n",
              "    </tr>\n",
              "    <tr>\n",
              "      <th>3</th>\n",
              "      <td>53.1000</td>\n",
              "      <td>1.0</td>\n",
              "      <td>35.0</td>\n",
              "      <td>3.0</td>\n",
              "    </tr>\n",
              "    <tr>\n",
              "      <th>4</th>\n",
              "      <td>8.0500</td>\n",
              "      <td>0.0</td>\n",
              "      <td>35.0</td>\n",
              "      <td>3.0</td>\n",
              "    </tr>\n",
              "    <tr>\n",
              "      <th>5</th>\n",
              "      <td>8.4583</td>\n",
              "      <td>0.0</td>\n",
              "      <td>NaN</td>\n",
              "      <td>NaN</td>\n",
              "    </tr>\n",
              "    <tr>\n",
              "      <th>6</th>\n",
              "      <td>51.8625</td>\n",
              "      <td>1.0</td>\n",
              "      <td>54.0</td>\n",
              "      <td>5.0</td>\n",
              "    </tr>\n",
              "    <tr>\n",
              "      <th>7</th>\n",
              "      <td>21.0750</td>\n",
              "      <td>0.0</td>\n",
              "      <td>2.0</td>\n",
              "      <td>0.0</td>\n",
              "    </tr>\n",
              "    <tr>\n",
              "      <th>8</th>\n",
              "      <td>11.1333</td>\n",
              "      <td>0.0</td>\n",
              "      <td>27.0</td>\n",
              "      <td>2.0</td>\n",
              "    </tr>\n",
              "    <tr>\n",
              "      <th>9</th>\n",
              "      <td>30.0708</td>\n",
              "      <td>0.0</td>\n",
              "      <td>14.0</td>\n",
              "      <td>1.0</td>\n",
              "    </tr>\n",
              "  </tbody>\n",
              "</table>\n",
              "</div>"
            ],
            "text/plain": [
              "      Fare  bin_fare   Age  bin_age\n",
              "0   7.2500       0.0  22.0      2.0\n",
              "1  71.2833       1.0  38.0      3.0\n",
              "2   7.9250       0.0  26.0      2.0\n",
              "3  53.1000       1.0  35.0      3.0\n",
              "4   8.0500       0.0  35.0      3.0\n",
              "5   8.4583       0.0   NaN      NaN\n",
              "6  51.8625       1.0  54.0      5.0\n",
              "7  21.0750       0.0   2.0      0.0\n",
              "8  11.1333       0.0  27.0      2.0\n",
              "9  30.0708       0.0  14.0      1.0"
            ]
          },
          "metadata": {
            "tags": []
          },
          "execution_count": 32
        }
      ]
    },
    {
      "cell_type": "code",
      "metadata": {
        "id": "R4kpe5KPWjLr",
        "colab_type": "code",
        "colab": {
          "base_uri": "https://localhost:8080/",
          "height": 196
        },
        "outputId": "adebf747-e2f9-4f28-b72c-f3cb89c54c2c"
      },
      "source": [
        "#can drop Age and Fare columns\n",
        "for frame in [train,df,test_df,test]:\n",
        "    frame.drop(['Age','Fare'],axis=1,inplace=True)\n",
        "# df.head()\n",
        "test.head()"
      ],
      "execution_count": 33,
      "outputs": [
        {
          "output_type": "execute_result",
          "data": {
            "text/html": [
              "<div>\n",
              "<style scoped>\n",
              "    .dataframe tbody tr th:only-of-type {\n",
              "        vertical-align: middle;\n",
              "    }\n",
              "\n",
              "    .dataframe tbody tr th {\n",
              "        vertical-align: top;\n",
              "    }\n",
              "\n",
              "    .dataframe thead th {\n",
              "        text-align: right;\n",
              "    }\n",
              "</style>\n",
              "<table border=\"1\" class=\"dataframe\">\n",
              "  <thead>\n",
              "    <tr style=\"text-align: right;\">\n",
              "      <th></th>\n",
              "      <th>PassengerId</th>\n",
              "      <th>Pclass</th>\n",
              "      <th>Name</th>\n",
              "      <th>Sex</th>\n",
              "      <th>SibSp</th>\n",
              "      <th>Parch</th>\n",
              "      <th>Ticket</th>\n",
              "      <th>Cabin</th>\n",
              "      <th>Embarked</th>\n",
              "      <th>bin_age</th>\n",
              "      <th>bin_fare</th>\n",
              "    </tr>\n",
              "  </thead>\n",
              "  <tbody>\n",
              "    <tr>\n",
              "      <th>0</th>\n",
              "      <td>892</td>\n",
              "      <td>3</td>\n",
              "      <td>Kelly, Mr. James</td>\n",
              "      <td>0</td>\n",
              "      <td>0</td>\n",
              "      <td>0</td>\n",
              "      <td>330911</td>\n",
              "      <td>NaN</td>\n",
              "      <td>2</td>\n",
              "      <td>3.0</td>\n",
              "      <td>0.0</td>\n",
              "    </tr>\n",
              "    <tr>\n",
              "      <th>1</th>\n",
              "      <td>893</td>\n",
              "      <td>3</td>\n",
              "      <td>Wilkes, Mrs. James (Ellen Needs)</td>\n",
              "      <td>1</td>\n",
              "      <td>1</td>\n",
              "      <td>0</td>\n",
              "      <td>363272</td>\n",
              "      <td>NaN</td>\n",
              "      <td>1</td>\n",
              "      <td>4.0</td>\n",
              "      <td>0.0</td>\n",
              "    </tr>\n",
              "    <tr>\n",
              "      <th>2</th>\n",
              "      <td>894</td>\n",
              "      <td>2</td>\n",
              "      <td>Myles, Mr. Thomas Francis</td>\n",
              "      <td>0</td>\n",
              "      <td>0</td>\n",
              "      <td>0</td>\n",
              "      <td>240276</td>\n",
              "      <td>NaN</td>\n",
              "      <td>2</td>\n",
              "      <td>6.0</td>\n",
              "      <td>0.0</td>\n",
              "    </tr>\n",
              "    <tr>\n",
              "      <th>3</th>\n",
              "      <td>895</td>\n",
              "      <td>3</td>\n",
              "      <td>Wirz, Mr. Albert</td>\n",
              "      <td>0</td>\n",
              "      <td>0</td>\n",
              "      <td>0</td>\n",
              "      <td>315154</td>\n",
              "      <td>NaN</td>\n",
              "      <td>1</td>\n",
              "      <td>2.0</td>\n",
              "      <td>0.0</td>\n",
              "    </tr>\n",
              "    <tr>\n",
              "      <th>4</th>\n",
              "      <td>896</td>\n",
              "      <td>3</td>\n",
              "      <td>Hirvonen, Mrs. Alexander (Helga E Lindqvist)</td>\n",
              "      <td>1</td>\n",
              "      <td>1</td>\n",
              "      <td>1</td>\n",
              "      <td>3101298</td>\n",
              "      <td>NaN</td>\n",
              "      <td>1</td>\n",
              "      <td>2.0</td>\n",
              "      <td>0.0</td>\n",
              "    </tr>\n",
              "  </tbody>\n",
              "</table>\n",
              "</div>"
            ],
            "text/plain": [
              "   PassengerId  Pclass  ... bin_age bin_fare\n",
              "0          892       3  ...     3.0      0.0\n",
              "1          893       3  ...     4.0      0.0\n",
              "2          894       2  ...     6.0      0.0\n",
              "3          895       3  ...     2.0      0.0\n",
              "4          896       3  ...     2.0      0.0\n",
              "\n",
              "[5 rows x 11 columns]"
            ]
          },
          "metadata": {
            "tags": []
          },
          "execution_count": 33
        }
      ]
    },
    {
      "cell_type": "code",
      "metadata": {
        "id": "4zB9sbFXWjL4",
        "colab_type": "code",
        "colab": {
          "base_uri": "https://localhost:8080/",
          "height": 256
        },
        "outputId": "2cb919a4-791a-4182-c7ff-09be6f0b5332"
      },
      "source": [
        "#now we can see how survival varies with bin_age and bin_fare.\n",
        "df.groupby('bin_age').Survived.count()\n",
        "pd.crosstab(index=[df.bin_age],columns=[df.Survived],margins=True)\n",
        "pd.crosstab(index=[df.Sex,df.Survived],columns=[df.bin_age,df.Pclass],margins=True)"
      ],
      "execution_count": 34,
      "outputs": [
        {
          "output_type": "execute_result",
          "data": {
            "text/html": [
              "<div>\n",
              "<style scoped>\n",
              "    .dataframe tbody tr th:only-of-type {\n",
              "        vertical-align: middle;\n",
              "    }\n",
              "\n",
              "    .dataframe tbody tr th {\n",
              "        vertical-align: top;\n",
              "    }\n",
              "\n",
              "    .dataframe thead tr th {\n",
              "        text-align: left;\n",
              "    }\n",
              "\n",
              "    .dataframe thead tr:last-of-type th {\n",
              "        text-align: right;\n",
              "    }\n",
              "</style>\n",
              "<table border=\"1\" class=\"dataframe\">\n",
              "  <thead>\n",
              "    <tr>\n",
              "      <th></th>\n",
              "      <th>bin_age</th>\n",
              "      <th colspan=\"3\" halign=\"left\">0.0</th>\n",
              "      <th colspan=\"3\" halign=\"left\">1.0</th>\n",
              "      <th colspan=\"3\" halign=\"left\">2.0</th>\n",
              "      <th colspan=\"3\" halign=\"left\">3.0</th>\n",
              "      <th colspan=\"3\" halign=\"left\">4.0</th>\n",
              "      <th colspan=\"3\" halign=\"left\">5.0</th>\n",
              "      <th colspan=\"3\" halign=\"left\">6.0</th>\n",
              "      <th colspan=\"3\" halign=\"left\">7.0</th>\n",
              "      <th>8.0</th>\n",
              "      <th>All</th>\n",
              "    </tr>\n",
              "    <tr>\n",
              "      <th></th>\n",
              "      <th>Pclass</th>\n",
              "      <th>1</th>\n",
              "      <th>2</th>\n",
              "      <th>3</th>\n",
              "      <th>1</th>\n",
              "      <th>2</th>\n",
              "      <th>3</th>\n",
              "      <th>1</th>\n",
              "      <th>2</th>\n",
              "      <th>3</th>\n",
              "      <th>1</th>\n",
              "      <th>2</th>\n",
              "      <th>3</th>\n",
              "      <th>1</th>\n",
              "      <th>2</th>\n",
              "      <th>3</th>\n",
              "      <th>1</th>\n",
              "      <th>2</th>\n",
              "      <th>3</th>\n",
              "      <th>1</th>\n",
              "      <th>2</th>\n",
              "      <th>3</th>\n",
              "      <th>1</th>\n",
              "      <th>2</th>\n",
              "      <th>3</th>\n",
              "      <th>1</th>\n",
              "      <th></th>\n",
              "    </tr>\n",
              "    <tr>\n",
              "      <th>Sex</th>\n",
              "      <th>Survived</th>\n",
              "      <th></th>\n",
              "      <th></th>\n",
              "      <th></th>\n",
              "      <th></th>\n",
              "      <th></th>\n",
              "      <th></th>\n",
              "      <th></th>\n",
              "      <th></th>\n",
              "      <th></th>\n",
              "      <th></th>\n",
              "      <th></th>\n",
              "      <th></th>\n",
              "      <th></th>\n",
              "      <th></th>\n",
              "      <th></th>\n",
              "      <th></th>\n",
              "      <th></th>\n",
              "      <th></th>\n",
              "      <th></th>\n",
              "      <th></th>\n",
              "      <th></th>\n",
              "      <th></th>\n",
              "      <th></th>\n",
              "      <th></th>\n",
              "      <th></th>\n",
              "      <th></th>\n",
              "    </tr>\n",
              "  </thead>\n",
              "  <tbody>\n",
              "    <tr>\n",
              "      <th rowspan=\"2\" valign=\"top\">0</th>\n",
              "      <th>0</th>\n",
              "      <td>0</td>\n",
              "      <td>0</td>\n",
              "      <td>13</td>\n",
              "      <td>3</td>\n",
              "      <td>9</td>\n",
              "      <td>38</td>\n",
              "      <td>9</td>\n",
              "      <td>28</td>\n",
              "      <td>86</td>\n",
              "      <td>11</td>\n",
              "      <td>28</td>\n",
              "      <td>45</td>\n",
              "      <td>15</td>\n",
              "      <td>7</td>\n",
              "      <td>23</td>\n",
              "      <td>11</td>\n",
              "      <td>9</td>\n",
              "      <td>6</td>\n",
              "      <td>9</td>\n",
              "      <td>2</td>\n",
              "      <td>2</td>\n",
              "      <td>3</td>\n",
              "      <td>1</td>\n",
              "      <td>2</td>\n",
              "      <td>0</td>\n",
              "      <td>360</td>\n",
              "    </tr>\n",
              "    <tr>\n",
              "      <th>1</th>\n",
              "      <td>2</td>\n",
              "      <td>9</td>\n",
              "      <td>8</td>\n",
              "      <td>2</td>\n",
              "      <td>1</td>\n",
              "      <td>4</td>\n",
              "      <td>9</td>\n",
              "      <td>0</td>\n",
              "      <td>16</td>\n",
              "      <td>12</td>\n",
              "      <td>3</td>\n",
              "      <td>8</td>\n",
              "      <td>9</td>\n",
              "      <td>1</td>\n",
              "      <td>2</td>\n",
              "      <td>4</td>\n",
              "      <td>0</td>\n",
              "      <td>0</td>\n",
              "      <td>1</td>\n",
              "      <td>1</td>\n",
              "      <td>0</td>\n",
              "      <td>0</td>\n",
              "      <td>0</td>\n",
              "      <td>0</td>\n",
              "      <td>1</td>\n",
              "      <td>93</td>\n",
              "    </tr>\n",
              "    <tr>\n",
              "      <th rowspan=\"2\" valign=\"top\">1</th>\n",
              "      <th>0</th>\n",
              "      <td>1</td>\n",
              "      <td>0</td>\n",
              "      <td>10</td>\n",
              "      <td>0</td>\n",
              "      <td>0</td>\n",
              "      <td>11</td>\n",
              "      <td>1</td>\n",
              "      <td>3</td>\n",
              "      <td>16</td>\n",
              "      <td>0</td>\n",
              "      <td>1</td>\n",
              "      <td>9</td>\n",
              "      <td>0</td>\n",
              "      <td>1</td>\n",
              "      <td>9</td>\n",
              "      <td>1</td>\n",
              "      <td>1</td>\n",
              "      <td>0</td>\n",
              "      <td>0</td>\n",
              "      <td>0</td>\n",
              "      <td>0</td>\n",
              "      <td>0</td>\n",
              "      <td>0</td>\n",
              "      <td>0</td>\n",
              "      <td>0</td>\n",
              "      <td>64</td>\n",
              "    </tr>\n",
              "    <tr>\n",
              "      <th>1</th>\n",
              "      <td>0</td>\n",
              "      <td>8</td>\n",
              "      <td>11</td>\n",
              "      <td>13</td>\n",
              "      <td>8</td>\n",
              "      <td>13</td>\n",
              "      <td>15</td>\n",
              "      <td>22</td>\n",
              "      <td>15</td>\n",
              "      <td>27</td>\n",
              "      <td>16</td>\n",
              "      <td>7</td>\n",
              "      <td>13</td>\n",
              "      <td>9</td>\n",
              "      <td>0</td>\n",
              "      <td>11</td>\n",
              "      <td>5</td>\n",
              "      <td>0</td>\n",
              "      <td>3</td>\n",
              "      <td>0</td>\n",
              "      <td>1</td>\n",
              "      <td>0</td>\n",
              "      <td>0</td>\n",
              "      <td>0</td>\n",
              "      <td>0</td>\n",
              "      <td>197</td>\n",
              "    </tr>\n",
              "    <tr>\n",
              "      <th>All</th>\n",
              "      <th></th>\n",
              "      <td>3</td>\n",
              "      <td>17</td>\n",
              "      <td>42</td>\n",
              "      <td>18</td>\n",
              "      <td>18</td>\n",
              "      <td>66</td>\n",
              "      <td>34</td>\n",
              "      <td>53</td>\n",
              "      <td>133</td>\n",
              "      <td>50</td>\n",
              "      <td>48</td>\n",
              "      <td>69</td>\n",
              "      <td>37</td>\n",
              "      <td>18</td>\n",
              "      <td>34</td>\n",
              "      <td>27</td>\n",
              "      <td>15</td>\n",
              "      <td>6</td>\n",
              "      <td>13</td>\n",
              "      <td>3</td>\n",
              "      <td>3</td>\n",
              "      <td>3</td>\n",
              "      <td>1</td>\n",
              "      <td>2</td>\n",
              "      <td>1</td>\n",
              "      <td>714</td>\n",
              "    </tr>\n",
              "  </tbody>\n",
              "</table>\n",
              "</div>"
            ],
            "text/plain": [
              "bin_age      0.0         1.0         2.0      ... 6.0       7.0       8.0  All\n",
              "Pclass         1   2   3   1   2   3   1   2  ...   1  2  3   1  2  3   1     \n",
              "Sex Survived                                  ...                             \n",
              "0   0          0   0  13   3   9  38   9  28  ...   9  2  2   3  1  2   0  360\n",
              "    1          2   9   8   2   1   4   9   0  ...   1  1  0   0  0  0   1   93\n",
              "1   0          1   0  10   0   0  11   1   3  ...   0  0  0   0  0  0   0   64\n",
              "    1          0   8  11  13   8  13  15  22  ...   3  0  1   0  0  0   0  197\n",
              "All            3  17  42  18  18  66  34  53  ...  13  3  3   3  1  2   1  714\n",
              "\n",
              "[5 rows x 26 columns]"
            ]
          },
          "metadata": {
            "tags": []
          },
          "execution_count": 34
        }
      ]
    },
    {
      "cell_type": "markdown",
      "metadata": {
        "id": "4vpQL7dIWjMG",
        "colab_type": "text"
      },
      "source": [
        "###### all the males and females in Pclass 2 and first bin_age survived the accident which hints that children were given preference. also note that in Pclass 1 and bin_age 2,3,4 almost all the people survived which again shows that people in Pclass 1 had better facilities.\n",
        "\n"
      ]
    },
    {
      "cell_type": "code",
      "metadata": {
        "id": "Uq2N_E-pWjMH",
        "colab_type": "code",
        "colab": {
          "base_uri": "https://localhost:8080/",
          "height": 385
        },
        "outputId": "7c2593bf-6b3e-4a7a-900b-587863abb791"
      },
      "source": [
        "sns.factorplot(x='bin_age',hue='Survived',kind='count',data=df,palette=['#ff4125','#006400'],size=5,aspect=1)"
      ],
      "execution_count": 36,
      "outputs": [
        {
          "output_type": "execute_result",
          "data": {
            "text/plain": [
              "<seaborn.axisgrid.FacetGrid at 0x7f25eee2b400>"
            ]
          },
          "metadata": {
            "tags": []
          },
          "execution_count": 36
        },
        {
          "output_type": "display_data",
          "data": {
            "image/png": "iVBORw0KGgoAAAANSUhEUgAAAa0AAAFgCAYAAAAIICZdAAAABHNCSVQICAgIfAhkiAAAAAlwSFlzAAALEgAACxIB0t1+/AAAADh0RVh0U29mdHdhcmUAbWF0cGxvdGxpYiB2ZXJzaW9uMy4yLjEsIGh0dHA6Ly9tYXRwbG90bGliLm9yZy+j8jraAAAdPElEQVR4nO3de3TfdZ3n8WdaTFq0XrhPC7So9O0lnWEILngGdZhRUXfwsq51q4AznlXKeMB1VseRQUFdPV1kdQZhBo7OrAhSBS+o6BmUs2WxIF4i7BjUd9GhhXKHilakRGj2j+83zI+QtPklv9sneT7OyUl+3+s7v+SXVz6f3+f7+faNjY0hSVIJFnS7AEmSpsvQkiQVw9CSJBXD0JIkFWOPbhfQLsPDw3sABwJbh4aGHul2PZKk2ZuzoUUVWLcMDg52uw5Jmq2+bhfQK+welCQVw9CSJBXD0JIkFcPQkiQVw9CSJBXD0JIkFcPQkiQVw9CSJBXD0JIkFcPQkiQVw9CSJBXD0JIkFcPQkiQVw9CSJBXD0JqnxkZHO7qfJLXCXL6flnahr7+f21cf0/R+yy7d0IZqJGl6bGlJkorRsZZWRJwNvB5YAazKzJEJ688AzmxcFxFHARcAi4HNwPGZeU+napYk9ZZOtrQuB14MbJm4IiIOB45qXBcRC4CLgXdk5krgGmBdZ0qVJPWijoVWZm7MzNsmLo+IAeA84OQJq4aAHZm5sX58PrC6vVVKknpZLwzE+BBwcWZujojG5QfT0PLKzPsiYkFE7JWZ26Z78JGRkd1vNA8NDQ3NeN/h4eEWViJpd2bzep1ruhpaEfFC4Ajgb9p1jsHBQQYGBtp1+HnJF5Ckbul2S+slwHOBW+pW1oHAlRHxF8CtwPLxDSNiH2BnM60sSdLc0tUh75m5LjOXZuaKzFwBbAWOzcxvAcPA4og4ut58LXBZl0qVJPWAjoVWRJwTEVupWlNXRcRNu9o+M3cCJwD/GBE3U7XK2taNKEnqfR3rHszMU4FTd7PNigmPrwNWtbEsSVJBnBFDklQMQ0uSVAxDS5JUDENLklQMQ0uSVAxDS5JUDENLklQMQ0uSVAxDS5JUDENLklQMQ0uSVAxDS5JUDENLklQMQ0uSVAxDS5JUDENLklQMQ0uSVAxDS5JUDENLklQMQ0uSVAxDS5JUDENLklQMQ0uSVAxDS5JUDENLklQMQ0uSVAxDS5JUDENLklQMQ0uSVAxDS5JUDENLklSMPTp1oog4G3g9sAJYlZkjEbE3cBHwLGAUuBk4KTPvrfc5CrgAWAxsBo7PzHs6VbMkqbd0sqV1OfBiYEvDsjHgrMyMzFwF/AJYBxARC4CLgXdk5krgmvF1kqT5qWMtrczcCBARjcu2AVc3bHY9cHL99RCwY3w/4Hyq1tZb21yqJKlHdSy0dqduWZ0MfK1edDANrbLMvC8iFkTEXnXYTcvIyEhrC50jhoaGZrzv8PBwCyuRtDuzeb3ONT0TWsAngd8A57byoIODgwwMDLTykPOeLyBJ3dIToVUP0jgUOC4zd9aLbwWWN2yzD7CzmVaWJGlu6fqQ94j4KNX7V6/NzIcbVg0DiyPi6PrxWuCyTtcnSeodnRzyfg7wn4ADgKsi4n5gNfA+YBNwXT1I45bMfF1m7oyIE4ALImIR9ZD3TtUrSeo9nRw9eCpw6iSr+naxz3XAqrYVJUkqSte7ByVJmi5DS5JUDENLklQMQ0uSVAxDS5JUDENLklQMQ0uSVAxDS5JUDENLklQMQ0uSVAxDS5JUDENLklQMQ0uSVAxDS5JUDENLklQMQ0uSVAxDS5JUDENLklQMQ0uSVAxDS5JUDENLklQMQ0uSVAxDS5JUDENLklQMQ0uSVAxDS5JUDENLklQMQ0uSVAxDS5JUDENLklQMQ0uSVIw9OnGSiDgbeD2wAliVmSP18pXAhcDewP3AiZl58+7WSZLmp061tC4HXgxsmbD8fOC8zFwJnAdcMM11kqR5qCOhlZkbM/O2xmURsR9wOLC+XrQeODwi9t3Vuk7UK0nqTR3pHpzCQcDtmfkoQGY+GhF31Mv7drHu3mZOMjIy0tqq54ihoaEZ7zs8PNzCSiTtzmxer3NNN0OrIwYHBxkYGOh2GXOKLyBJ3dLN0YO3AcsiYiFA/XlpvXxX6yRJ81TXQisz7wFuBNbUi9YAN2Tmvbta1/lKJUm9oiOhFRHnRMRW4EDgqoi4qV61FjglIjYBp9SPmcY6SdI81Dc2NtbtGtpieHh4BXCL72lN7fbVxzS9z7JLN7ShEkm70dftAnqFM2JIkophaEmSimFoSZKKYWhJkophaEmSimFoSZKKYWip68ZGRzuyj6Tyzfm5B9X7+vr7m75mzOvFpPnJlpYkqRiGliSpGIaWJKkYhpYkqRiGliSpGIaWJKkYhpYkqRiGliSpGIaWJKkYhpYkqRiGliSpGIaWJKkYhpYkqRiGliSpGIaWJKkYhpYkqRiGliSpGIaWJKkYhpYkqRiGliSpGIaWJKkYhpYkqRjTDq2IePcUy/+qdeVIkjS1PZrY9gPA2ZMsPx34+GyKiIg/Az4M9NUfH8zML0fESuBCYG/gfuDEzLx5NueSJJVrt6EVEX9Sf7kwIo6hCpVxzwS2z6aAiOgDLgJelJkjEfH7wLURcTlwPnBeZl4cEccDFwB/sovDSZLmsOm0tP6p/rwI+OeG5WPAXcApLahjJ/C0+uunA3cC+wCHAy+rl68Hzo2IfTPz3hacU5JUmN2GVmYeAhARn83ME1tdQGaORcRq4KsR8SCwBHgVcBBwe2Y+Wm/3aETcUS+fdmiNjIy0uuQ5YWhoaMb7Dg8Pt7CSmdfS6jqkXjWb1+tcM+33tBoDKyIWTFi3c6YFRMQewPuA12TmtRHxR8ClwAkzPWajwcFBBgYGWnEo1XrlBdQrdUjqnGZGDx4eEd+tW0O/qz8eqT/PxmHA0sy8FqD+/CCwA1gWEQvr8y8ElgK3zfJ8kqRCNXOd1oXABuAIqgEYzwQOqT/PxlbgwIgIgIh4LrA/cDNwI7Cm3m4NcIPvZ0nS/NXMkPflwN9m5lgrC8jMuyLiZOCLETHezfjWzNwWEWuBCyPiA8AvgZa/pyZJKkczofUV4OXAla0uIjM/B3xukuU/A45s9fkkSWVqJrQWAV+JiI1UQ90f045RhepNO0Z3sKh/Ucf2k6RGzYTWT+oPzWOL+hexZM2Spvfbvn5W16BL6rKIOJ/qMqQPt/i4ZwLPzszjp7N9M0PePzjToiRJ7RERRwNnAc8HHgV+Cvy3zPxBK8+TmWtbebyZmnZoNUzn9ASZ+X9aU44kaboi4qnAFcDJVNe39gMvAh5u8jh9QN9srrntlGa6B/9pwuN9qZ6grcx+2LskqXkrATJzff34IeBb8MRut4hYAdwCPCkzH4mIq4FrgT+mmjLvzIh4Q2YeMX7wiHgXcExmvjoiPgNszczTI+KnwHsy84p6uz2opt87NjN/FBFHUU2k/jxgC/DOzLy63vYQ4DP1Oa8HsplvuJnuwUMaH9cX+57OLCfMlSTN2Cbg0Yi4EPg8cH1m/rKJ/U8AXkkVHE8GTo+IQxvupvEm4H9Nst96qmtnr6gfHwvcVwfWMuAb9bH/BfhT4EsR8Zz6OttLgO9SjUY/st72q9MteMY3gaznBPwI8NczPYYkaeYy89fA0VQTmH8KuDcivhYR+0/zEJ/JzJsy85HM/BVVeKwBiIhDgecAX5tkv0uAV0fEnvXjN1EFGcDxwDcz85uZuTMzvw38EHhVRBwMvAB4f2Y+nJnXAF9v5nue7Z2LX0Y1Q7skqQsy86eZ+eeZeSAwSDXd3d9Nc/eJ0+Jdwr/PQvQm4PLM/O0k5/w51YCP4+rgenW9L1QTUbwhIh4Y/6AK1t+ra/tlZj7YcLgt06wVaG4gxm1UaT5uT6prt/6ymRNKktojM39Wv/d0EvAjqr/T4w6YZJeJMxx9G9g3Ig6jCq937eJ0412EC4Cf1EEGVRBelJlvm7hDRCwHnhERT24IroMnqWNKzQzEmDiG/kFgU908lTrKi5wliIjnAP8R+EJmbo2Ig6iC5HqquVvfW3fJ/Yrqbhq7lJm/i4jLgI8Be1GF2FQ+T/UW0V78eysL4GLgBxFxLHAV8CTgKODnmbklIn4IfDAiTgP+A3Ack3dBTqqZgRj/Fx67Lcn+wN0lDI/U3ORFzhJQDYQ7EviriHg68ADV4Ij3ZOavI+ILwL8C9wH/k6obb3cuAa4B/iEzH5lqo8y8MyK+C7wEWN2w/LaIeA3VtWPrqa4d+z7VsHyouh0vBLZRDcj4LNXNf6elb2xseq2yiFgCnAe8kSo5f0eVtKfWb+D1lOHh4RXALd5Pa2q3rz6m6X2WXbqhLWHRbC3tqkPqUX3dLqBXNDMQ45NUQyJXAYvrz3sC57ShLkmSnqCZ97ReATyzYSTJpoj4C+AXrS9LkqQnaqaltYNqFoxG+9DkdCGSJM1UMy2tTwPfjoiPU42rX041HPJT7ShMkqSJmgmtjwC3A2+mukDsDuCszJw4J6EkSW3RTPfg3wOZmS/NzOdl5kuBn0bEdK+8liRpVpoJrTVU80c1GqYacy9JUts1E1pjwMIJyxY2eQxJUpuNjT58F9Xf7JZ+1Mftqmbe0/oO8OGI+OvM3FnPjHFmvVyS1CP6+gf2n8nkAbuz7NIN0509nohYSTXzxd7A/cCJDbc8mbFmWknvBF4K3BkR36caiPEy4JTZFiFJmnPOB87LzJVUsyld0IqDTju0MnMr1Z0mX0M1meJrgaF6uSRJAETEflR5MX6PrfXA4REx8VrfpjXTPUg9Qe719YckSZM5CLi9vlkwmfloRNxRL793Ngd2EIUkqRiGliSp1W4DlkXEQoD681KeeKfkphlakqSWysx7qG5CuaZetAa4ITNn1TUITb6nJUnqfWOjD9/dzPD0Zo7b1z/t+xOuBS6MiA8AvwRObEUNhpYkzTF9/QMHtOm40942M39GdVfllrJ7UJJUDENLklSMnugejIhFwCeoZtzYAXw3M9/ermlAJEll6pWW1llUYbUyM1cB76+Xt2UaEElSmboeWhHxFKpRJe/PzDGAzLy7ndOAdNPY6GhH95OkuaQXugefRdX1d0ZEHAP8BjgdeIg2TQPSTX39/cxk9uVll25oQzWSVJZeCK2FwDOpLjx7T0QcCXwdeEMrDj4yMtKKw7TM0NDQjPcdHh7uiTpmaqr6O11LK59HqROafY08NPrQXYv7F7f8Oq2HRh+6e3H/4t0Op4+Is4HXAyuAVZnZsj/EvRBatwKPUHcDZub3IuI+qpbWsohYWLeyZjQNyODgIAMD07+2oJd1I2haqVfq75U6pHZZ3L94/yVrlrT8uNvXb59uEF4O/D1tuN9i19/Tysz7gA1U9+Yav3HYfsAm2jQNiCSpfTJzY2bOep7ByXQ9tGprgdMi4sfA54ETMvOBevkpEbGJ6maTa7tYoySpy3qhe5DM/DfgjydZ3pZpQCRJZeqVlpYkSbtlaEmSimFoSZJaKiLOiYitwIHAVRFxU6uO3RPvaUmSWueh0YfubmJ4elPHXdy/eLfbZeapwKmtPj8YWpI050znAuAZHrcdh22K3YNSbSbzOzonpNRZtrSk2kzmhXROSKmzbGlJkophaEmSimFoSZKKYWhJkophaEmSimFoSZKKYWhJkophaEmSimFoSZKKYWhJkophaEmSimFoSZKKYWhJkophaEmSimFoSZKKYWhJkophaEmSimFoSZKKYWhJkophaEmSimFoSZKKYWhJkophaEmSimFoSZKKYWhJkoqxR7cLaBQRZwBnAqsycyQijgIuABYDm4HjM/Oe7lUoSeqmnmlpRcThwFHAlvrxAuBi4B2ZuRK4BljXvQq7a8fojo7uJ0m9qCdaWhExAJwHrAGurhcPATsyc2P9+Hyq1tZbO11fL1jUv4gla5Y0vd/29dvbUI0kdUdPhBbwIeDizNwcEePLDqZudQFk5n0RsSAi9srMbdM98MjISGsrnaWhoaGOn3N4eLhn64DO19LqOqY6ntQq3Xi99qquh1ZEvBA4Avibdhx/cHCQgYGBdhy6GL3yCz9X6+iV70uaD3rhPa2XAM8FbomIzcCBwJXAs4Hl4xtFxD7AzmZaWZKkuaXroZWZ6zJzaWauyMwVwFbgWOBjwOKIOLredC1wWZfKlCT1gK6H1lQycydwAvCPEXEzVYusLV2IuzKT0XeO2JOk9uj6e1oT1a2t8a+vA1Z1r5qZjdpzxJ4ktUfPtrQkSZrI0JIkFcPQkiQVw9CSJBXD0JIkFcPQkiQVw9CSZsHZ96XO6rnrtKSSOPu+1Fm2tCRJxTC0JEnFMLQkScUwtCRJxTC0JEnFMLQkScUwtCRJxTC0JEnFMLQkScUwtCRJxTC0pB4zNjra0f2kkjj3oNRj+vr7uX31MU3vt+zSDW2oRuottrQkScUwtCRJxTC0JEnFMLQkScUwtCRJxTC0JEnFmDeh5TUsklS+eXOdlte+SFL55k1LS5JUPkNLklQMQ0uSVIyuv6cVEXsDFwHPAkaBm4GTMvPeiDgKuABYDGwGjs/Me7pVqySpu3qhpTUGnJWZkZmrgF8A6yJiAXAx8I7MXAlcA6zrYp2SpC7remhl5rbMvLph0fXAcmAI2JGZG+vl5wOrO1yeJKmHdL17sFHdujoZ+BpwMLBlfF1m3hcRCyJir8zcNt1jjoyMADA0NNTiandteHh40uWdrgMmr6VX6oD5+7NpdR07RnewqH9RU/tsf3A7m362aUbnU+d04/Xaq3oqtIBPAr8BzgVe14oDDg4OMjAw0IpDNaWXfsl6pRbreLxW17GofxFL1ixpap/t67f3zPMhTUfXuwfHRcTZwKHAGzNzJ3ArVTfh+Pp9gJ3NtLIkSXNLT4RWRHyU6j2s12bmw/XiYWBxRBxdP14LXNaN+iRJvaHr3YMR8XzgfcAm4LqIALglM18XEScAF0TEIuoh710rVJLUdV0Prcy8CeibYt11wKrOViRJ6lU90T0oSdJ0GFqSpGIYWpKkYhhakqRiGFqSpGIYWpKkYhhakqRiGFqSpGIYWpImNTY62tH9pOno+owYknpTX38/t68+pun9ll26oQ3VSBVbWpKkYhhakqRiGFqSpGIYWpKkYhhakqRiGFqSpGIYWpKkYhhakqRiGFqSpGIYWpKkYhhakqRiGFqSpGIYWpJaasfojpbu42zzauQs75JaalH/IpasWdLUPtvXb59ynbPNq5EtLUlSMQwtSVIxDC1JUjEMLUlSMQwtSVIxDC1JUjEMLUlSMXr+Oq2IWAlcCOwN3A+cmJk3d7cqSVI3lNDSOh84LzNXAucBF3S5HkmatpnMEDKb/ea6nm5pRcR+wOHAy+pF64FzI2LfzLx3N7svBBhtmMrlkac+o+kaHn74YQ546gFN77Mrnapjd7X0Sh0zqcU6WlPLXK+jF/TRx6EnHdr0fiPnjDz2PYyMjKwAtg4NDT3S2urK0zc2NtbtGqYUEUPAZzPz+Q3LfgIcn5k/2tW+w8PDRwPfaXOJktQphwwNDW3udhHd1tMtrVn6AfAi4E7g0S7XIkmztbXbBfSCXm9p7QdsAvbOzEcjYiHVYIxDp9E9KEmaY3p6IEZm3gPcCKypF60BbjCwJGl+6umWFkBEPIdqyPszgF9SDXnP7lYlSeqGng8tSZLG9XT3oCRJjQwtSVIxDC1JUjEMLUlSMQwtSVIx5vKMGNM2nZnk6wubzwFeAYwB6zLz0y2s4Wzg9cAKYFVmjkyyTVtrqM+xN3AR8CxgFLgZOGnitXERsSfwv4Eh4BHg3Zl5RYtruRw4BNgJ/AY4JTNvnLBN25+ThnOdAZzJJD+fTjwf9Xk2AzvqD4D3ZuaVna4lIhYBnwBeWtfy3cx8+4Rt2v2aWQFc3rDo6cBTM3OvTtZRn+PPgA8DffXHBzPzy52uYz6wpVWZzkzybwaeDRwKvBA4s37RtMrlwIuBLbvYpt01QPViOiszIzNXAb8A1k2y3buBX2fms4HjgE9HxFNaXMtbMvMPMvMPgbOBf55km048J0TE4cBRTP3z6cTzMe4/Z+Zh9ceVk6zvRC1nUYXVyvr35P2TbNPWn01mbm54Hg6jeg1d0uk6IqKP6h+9E+o6TgAujIiJf1878rs618370GqYSX59vWg9cHhE7Dth0zcCn8rMnXWr43LgDa2qIzM3ZuZtu9msrTXUdWzLzKsbFl0PLJ+ilgvqfW4Gfgi8ssW1/Krh4dOoWlyT1dHW5yQiBqj+mTl5F5u1/floQltrqQPwROD9mTlWn+fuKepo68+moaZ+qlCY7B+bTtSxk+p3FKoW352ZOfH3tWPPx1xm9yAcBNyemY8C1HMc3lEvb+wSO5jH/5d9a71NJ3W0hvo/xZOBr3Wrloj4NPByqi6XV3Spjg8BF2fm5oiYaptO/mw+V/93vxE4LTMf6HAtz6LqRj8jIo6h6ro9PTM3driORq+meh1PdveHttaRmWMRsRr4akQ8CCwBXtXpOuaLed/S0i59kuoP0rndKiAz/2tmHgycBnys0+ePiBcCRwD/0OlzT+FFmfkHwAuogrwbP5uFwDOp5gE9Angv8OWIeGoXahn3ViZvZbVdROwBvA94TWYup+qSvbSN3cPzmqEFtwHL6jdJx98sXVovb3Qrj+8mO3iSbdqtYzXUA0MOBd44STdHR2sByMyLgGPqgSKdrOMlwHOBW+pBEAcCV0bEyztcBwDjXciZ+TBVkP7RJJu1u5ZbqQZ4rK9r+R5wH7Cyw3UAEBHLqH5On5tik3bXcRiwNDOvBag/P0j1e9PJOuaFeR9aTcwkfxnwtohYUL/f9Vrgi52rtHM1RMRHqUaevbb+4zhVLSfV2x9K9Z//v7SwhqdExEENj48DttUfE+to23OSmesyc2lmrsjMFVT3NDo2M781SR1tez7q4z45Ip5Wf90H/Beq392J2lpLZt4HbKC+o3g9+nY/4OeT1NGJ18xbgG9k5v1TrG93HVuBA6PuO46I5wL7Uw1i6mQd88K8D63aWuCUiNgEnFI/JiK+GRFH1NtcBPwb1RDw64EPZeYtrSogIs6JiK1U/8lfFRE3dbqG+nzPp+rqWApcFxE3RsRX6nU3RsTSetOPAU+PiJ8DVwBvz8ztLSzlycBlEfHjiLgReBdwXP3+QUefk6l0+PmA6g/h1RHxr8AIVcvmL7tUy1rgtIj4MfB5qpFzD3TpZ/PnTOga7GQdmXkX1Xu/X4yI/0f1fLw1M7f1yu/qXOIs75KkYtjSkiQVw9CSJBXD0JIkFcPQkiQVw9CSJBXD0NK8EBGbI+Klkyx/UURkN2qS1DznHtS8lpnfAaacUFBSb7GlJUkqhi0tzScviIhzgN+jui3EyVT3yLo4Mw+Ex26yeC7VrTeWU01/9JbM3DHZAet9nkE128GRVK+pa4G1mbm1Xn8I1U1G/xD4HpDA0zLz+Hr9UcDHgedRzQL+zgm3h5FUs6Wl+eTNwLFUt9ZYCZw+xXarqW6Dcgjw+1TTBO3KAqo7BS+nmgT1IR4/+/olwPep7ox9JtVNAoHHJnv9BvA/gL2obuD4pUnu5yYJW1qaX84dnyU9Ij5CdeuVqybZ7pzMvKPe7utUs3hPqZ6o9Uvjj+tjb6i/Pphqwto/zcxRYGNENN6f7Hjgm5n5zfrxtyPih1T3Y7qw+W9RmtsMLc0njbeB2EI1KfBk7mr4+re72A6AiNgT+ARV6+wZ9eIlDbe52ZaZv51Qx/gM9suBN9Sz2I97EnXoSXo8Q0vzSeNdYg8G7mjRcf871QjEIzPzrog4DLiB6iaNdwJ7RcSeDcHVWMdtwEWZ+bYW1SLNaYaW5pN3RMQVVK2nvwW+0KLjLqF6H+uBiNgLOGN8RWZuqbv7zoyI06nuU3Yc8PV6k4uBH0TEsVRdlU+iGhzy8/GBHJL+nQMxNJ9cAnyL6p5Gv6Aa/NAKfwcsprp77/U88YaLbwZeCNxfn/MLwMPw2J2IXwOcBtxL1fJ6D742pUl5Py2pwyLiC8DPMvOM3W4s6XHsHpTaLCJeAGwDbgFeTtWyWtfVoqRCGVrSNETEaVRdeBN9JzNfuZvdDwC+THWd1lbg5My8ocUlSvOC3YOSpGL4Zq8kqRiGliSpGIaWJKkYhpYkqRiGliSpGP8fCZeFr0uZdHYAAAAASUVORK5CYII=\n",
            "text/plain": [
              "<Figure size 421.55x360 with 1 Axes>"
            ]
          },
          "metadata": {
            "tags": [],
            "needs_background": "light"
          }
        }
      ]
    },
    {
      "cell_type": "code",
      "metadata": {
        "id": "Zy6ptmwQWjMQ",
        "colab_type": "code",
        "colab": {
          "base_uri": "https://localhost:8080/",
          "height": 256
        },
        "outputId": "3be2243a-dcb5-479a-db60-3c18c843f164"
      },
      "source": [
        "#similarly for bin_fare\n",
        "df.groupby('bin_fare').Survived.count()\n",
        "pd.crosstab(index=[df.bin_fare],columns=[df.Survived],margins=True)\n",
        "pd.crosstab(index=[df.Sex,df.Survived],columns=[df.bin_fare,df.Pclass],margins=True)"
      ],
      "execution_count": 37,
      "outputs": [
        {
          "output_type": "execute_result",
          "data": {
            "text/html": [
              "<div>\n",
              "<style scoped>\n",
              "    .dataframe tbody tr th:only-of-type {\n",
              "        vertical-align: middle;\n",
              "    }\n",
              "\n",
              "    .dataframe tbody tr th {\n",
              "        vertical-align: top;\n",
              "    }\n",
              "\n",
              "    .dataframe thead tr th {\n",
              "        text-align: left;\n",
              "    }\n",
              "\n",
              "    .dataframe thead tr:last-of-type th {\n",
              "        text-align: right;\n",
              "    }\n",
              "</style>\n",
              "<table border=\"1\" class=\"dataframe\">\n",
              "  <thead>\n",
              "    <tr>\n",
              "      <th></th>\n",
              "      <th>bin_fare</th>\n",
              "      <th colspan=\"3\" halign=\"left\">0.0</th>\n",
              "      <th colspan=\"3\" halign=\"left\">1.0</th>\n",
              "      <th>2.0</th>\n",
              "      <th>3.0</th>\n",
              "      <th>4.0</th>\n",
              "      <th>5.0</th>\n",
              "      <th>10.0</th>\n",
              "      <th>All</th>\n",
              "    </tr>\n",
              "    <tr>\n",
              "      <th></th>\n",
              "      <th>Pclass</th>\n",
              "      <th>1</th>\n",
              "      <th>2</th>\n",
              "      <th>3</th>\n",
              "      <th>1</th>\n",
              "      <th>2</th>\n",
              "      <th>3</th>\n",
              "      <th>1</th>\n",
              "      <th>1</th>\n",
              "      <th>1</th>\n",
              "      <th>1</th>\n",
              "      <th>1</th>\n",
              "      <th></th>\n",
              "    </tr>\n",
              "    <tr>\n",
              "      <th>Sex</th>\n",
              "      <th>Survived</th>\n",
              "      <th></th>\n",
              "      <th></th>\n",
              "      <th></th>\n",
              "      <th></th>\n",
              "      <th></th>\n",
              "      <th></th>\n",
              "      <th></th>\n",
              "      <th></th>\n",
              "      <th></th>\n",
              "      <th></th>\n",
              "      <th></th>\n",
              "      <th></th>\n",
              "    </tr>\n",
              "  </thead>\n",
              "  <tbody>\n",
              "    <tr>\n",
              "      <th rowspan=\"2\" valign=\"top\">0</th>\n",
              "      <th>0</th>\n",
              "      <td>41</td>\n",
              "      <td>86</td>\n",
              "      <td>294</td>\n",
              "      <td>24</td>\n",
              "      <td>5</td>\n",
              "      <td>6</td>\n",
              "      <td>5</td>\n",
              "      <td>1</td>\n",
              "      <td>4</td>\n",
              "      <td>2</td>\n",
              "      <td>0</td>\n",
              "      <td>468</td>\n",
              "    </tr>\n",
              "    <tr>\n",
              "      <th>1</th>\n",
              "      <td>23</td>\n",
              "      <td>17</td>\n",
              "      <td>42</td>\n",
              "      <td>15</td>\n",
              "      <td>0</td>\n",
              "      <td>5</td>\n",
              "      <td>4</td>\n",
              "      <td>1</td>\n",
              "      <td>0</td>\n",
              "      <td>0</td>\n",
              "      <td>2</td>\n",
              "      <td>109</td>\n",
              "    </tr>\n",
              "    <tr>\n",
              "      <th rowspan=\"2\" valign=\"top\">1</th>\n",
              "      <th>0</th>\n",
              "      <td>1</td>\n",
              "      <td>6</td>\n",
              "      <td>69</td>\n",
              "      <td>0</td>\n",
              "      <td>0</td>\n",
              "      <td>3</td>\n",
              "      <td>0</td>\n",
              "      <td>2</td>\n",
              "      <td>0</td>\n",
              "      <td>0</td>\n",
              "      <td>0</td>\n",
              "      <td>81</td>\n",
              "    </tr>\n",
              "    <tr>\n",
              "      <th>1</th>\n",
              "      <td>11</td>\n",
              "      <td>68</td>\n",
              "      <td>72</td>\n",
              "      <td>48</td>\n",
              "      <td>2</td>\n",
              "      <td>0</td>\n",
              "      <td>15</td>\n",
              "      <td>5</td>\n",
              "      <td>7</td>\n",
              "      <td>4</td>\n",
              "      <td>1</td>\n",
              "      <td>233</td>\n",
              "    </tr>\n",
              "    <tr>\n",
              "      <th>All</th>\n",
              "      <th></th>\n",
              "      <td>76</td>\n",
              "      <td>177</td>\n",
              "      <td>477</td>\n",
              "      <td>87</td>\n",
              "      <td>7</td>\n",
              "      <td>14</td>\n",
              "      <td>24</td>\n",
              "      <td>9</td>\n",
              "      <td>11</td>\n",
              "      <td>6</td>\n",
              "      <td>3</td>\n",
              "      <td>891</td>\n",
              "    </tr>\n",
              "  </tbody>\n",
              "</table>\n",
              "</div>"
            ],
            "text/plain": [
              "bin_fare     0.0           1.0        2.0 3.0 4.0 5.0 10.0  All\n",
              "Pclass         1    2    3   1  2   3   1   1   1   1    1     \n",
              "Sex Survived                                                   \n",
              "0   0         41   86  294  24  5   6   5   1   4   2    0  468\n",
              "    1         23   17   42  15  0   5   4   1   0   0    2  109\n",
              "1   0          1    6   69   0  0   3   0   2   0   0    0   81\n",
              "    1         11   68   72  48  2   0  15   5   7   4    1  233\n",
              "All           76  177  477  87  7  14  24   9  11   6    3  891"
            ]
          },
          "metadata": {
            "tags": []
          },
          "execution_count": 37
        }
      ]
    },
    {
      "cell_type": "code",
      "metadata": {
        "id": "GT6_7b2cWjMY",
        "colab_type": "code",
        "colab": {
          "base_uri": "https://localhost:8080/",
          "height": 385
        },
        "outputId": "d8800f3c-9e00-4df8-b8f3-4e50e30ad36e"
      },
      "source": [
        "sns.factorplot(x='bin_fare',hue='Survived',kind='count',data=df,palette=['#ff4125','#006400'],size=5,aspect=1)"
      ],
      "execution_count": 38,
      "outputs": [
        {
          "output_type": "execute_result",
          "data": {
            "text/plain": [
              "<seaborn.axisgrid.FacetGrid at 0x7f25eee989b0>"
            ]
          },
          "metadata": {
            "tags": []
          },
          "execution_count": 38
        },
        {
          "output_type": "display_data",
          "data": {
            "image/png": "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\n",
            "text/plain": [
              "<Figure size 421.55x360 with 1 Axes>"
            ]
          },
          "metadata": {
            "tags": [],
            "needs_background": "light"
          }
        }
      ]
    },
    {
      "cell_type": "code",
      "metadata": {
        "id": "xVEq5skgWjMh",
        "colab_type": "code",
        "colab": {
          "base_uri": "https://localhost:8080/",
          "height": 604
        },
        "outputId": "819817a2-5594-46d1-9f85-ddfdbbdc4ffe"
      },
      "source": [
        "df.info()\n",
        "# embarked and bin_age still have null values.\n",
        "df.describe(include=[np.number])"
      ],
      "execution_count": 39,
      "outputs": [
        {
          "output_type": "stream",
          "text": [
            "<class 'pandas.core.frame.DataFrame'>\n",
            "RangeIndex: 891 entries, 0 to 890\n",
            "Data columns (total 12 columns):\n",
            " #   Column       Non-Null Count  Dtype  \n",
            "---  ------       --------------  -----  \n",
            " 0   PassengerId  891 non-null    int64  \n",
            " 1   Survived     891 non-null    int64  \n",
            " 2   Pclass       891 non-null    int64  \n",
            " 3   Name         891 non-null    object \n",
            " 4   Sex          891 non-null    object \n",
            " 5   SibSp        891 non-null    int64  \n",
            " 6   Parch        891 non-null    int64  \n",
            " 7   Ticket       891 non-null    object \n",
            " 8   Cabin        204 non-null    object \n",
            " 9   Embarked     889 non-null    object \n",
            " 10  bin_age      714 non-null    float64\n",
            " 11  bin_fare     891 non-null    float64\n",
            "dtypes: float64(2), int64(5), object(5)\n",
            "memory usage: 83.7+ KB\n"
          ],
          "name": "stdout"
        },
        {
          "output_type": "execute_result",
          "data": {
            "text/html": [
              "<div>\n",
              "<style scoped>\n",
              "    .dataframe tbody tr th:only-of-type {\n",
              "        vertical-align: middle;\n",
              "    }\n",
              "\n",
              "    .dataframe tbody tr th {\n",
              "        vertical-align: top;\n",
              "    }\n",
              "\n",
              "    .dataframe thead th {\n",
              "        text-align: right;\n",
              "    }\n",
              "</style>\n",
              "<table border=\"1\" class=\"dataframe\">\n",
              "  <thead>\n",
              "    <tr style=\"text-align: right;\">\n",
              "      <th></th>\n",
              "      <th>PassengerId</th>\n",
              "      <th>Survived</th>\n",
              "      <th>Pclass</th>\n",
              "      <th>SibSp</th>\n",
              "      <th>Parch</th>\n",
              "      <th>bin_age</th>\n",
              "      <th>bin_fare</th>\n",
              "    </tr>\n",
              "  </thead>\n",
              "  <tbody>\n",
              "    <tr>\n",
              "      <th>count</th>\n",
              "      <td>891.000000</td>\n",
              "      <td>891.000000</td>\n",
              "      <td>891.000000</td>\n",
              "      <td>891.000000</td>\n",
              "      <td>891.000000</td>\n",
              "      <td>714.000000</td>\n",
              "      <td>891.000000</td>\n",
              "    </tr>\n",
              "    <tr>\n",
              "      <th>mean</th>\n",
              "      <td>446.000000</td>\n",
              "      <td>0.383838</td>\n",
              "      <td>2.308642</td>\n",
              "      <td>0.523008</td>\n",
              "      <td>0.381594</td>\n",
              "      <td>2.525210</td>\n",
              "      <td>0.322110</td>\n",
              "    </tr>\n",
              "    <tr>\n",
              "      <th>std</th>\n",
              "      <td>257.353842</td>\n",
              "      <td>0.486592</td>\n",
              "      <td>0.836071</td>\n",
              "      <td>1.102743</td>\n",
              "      <td>0.806057</td>\n",
              "      <td>1.497097</td>\n",
              "      <td>0.959022</td>\n",
              "    </tr>\n",
              "    <tr>\n",
              "      <th>min</th>\n",
              "      <td>1.000000</td>\n",
              "      <td>0.000000</td>\n",
              "      <td>1.000000</td>\n",
              "      <td>0.000000</td>\n",
              "      <td>0.000000</td>\n",
              "      <td>0.000000</td>\n",
              "      <td>0.000000</td>\n",
              "    </tr>\n",
              "    <tr>\n",
              "      <th>25%</th>\n",
              "      <td>223.500000</td>\n",
              "      <td>0.000000</td>\n",
              "      <td>2.000000</td>\n",
              "      <td>0.000000</td>\n",
              "      <td>0.000000</td>\n",
              "      <td>2.000000</td>\n",
              "      <td>0.000000</td>\n",
              "    </tr>\n",
              "    <tr>\n",
              "      <th>50%</th>\n",
              "      <td>446.000000</td>\n",
              "      <td>0.000000</td>\n",
              "      <td>3.000000</td>\n",
              "      <td>0.000000</td>\n",
              "      <td>0.000000</td>\n",
              "      <td>2.000000</td>\n",
              "      <td>0.000000</td>\n",
              "    </tr>\n",
              "    <tr>\n",
              "      <th>75%</th>\n",
              "      <td>668.500000</td>\n",
              "      <td>1.000000</td>\n",
              "      <td>3.000000</td>\n",
              "      <td>1.000000</td>\n",
              "      <td>0.000000</td>\n",
              "      <td>3.000000</td>\n",
              "      <td>0.000000</td>\n",
              "    </tr>\n",
              "    <tr>\n",
              "      <th>max</th>\n",
              "      <td>891.000000</td>\n",
              "      <td>1.000000</td>\n",
              "      <td>3.000000</td>\n",
              "      <td>8.000000</td>\n",
              "      <td>6.000000</td>\n",
              "      <td>8.000000</td>\n",
              "      <td>10.000000</td>\n",
              "    </tr>\n",
              "  </tbody>\n",
              "</table>\n",
              "</div>"
            ],
            "text/plain": [
              "       PassengerId    Survived      Pclass  ...       Parch     bin_age    bin_fare\n",
              "count   891.000000  891.000000  891.000000  ...  891.000000  714.000000  891.000000\n",
              "mean    446.000000    0.383838    2.308642  ...    0.381594    2.525210    0.322110\n",
              "std     257.353842    0.486592    0.836071  ...    0.806057    1.497097    0.959022\n",
              "min       1.000000    0.000000    1.000000  ...    0.000000    0.000000    0.000000\n",
              "25%     223.500000    0.000000    2.000000  ...    0.000000    2.000000    0.000000\n",
              "50%     446.000000    0.000000    3.000000  ...    0.000000    2.000000    0.000000\n",
              "75%     668.500000    1.000000    3.000000  ...    0.000000    3.000000    0.000000\n",
              "max     891.000000    1.000000    3.000000  ...    6.000000    8.000000   10.000000\n",
              "\n",
              "[8 rows x 7 columns]"
            ]
          },
          "metadata": {
            "tags": []
          },
          "execution_count": 39
        }
      ]
    },
    {
      "cell_type": "markdown",
      "metadata": {
        "id": "C3NpMGrNWjM2",
        "colab_type": "text"
      },
      "source": [
        "######  now both of these columns have some missing values and so we need to fill the missing values. for now we impute with the median.\n"
      ]
    },
    {
      "cell_type": "code",
      "metadata": {
        "id": "sG9ZAmpRWjM4",
        "colab_type": "code",
        "colab": {
          "base_uri": "https://localhost:8080/",
          "height": 334
        },
        "outputId": "95ea28fe-4792-422d-9e0c-f640cfca2041"
      },
      "source": [
        "for frame in [test,train,df,test_df]:\n",
        "    frame.bin_age.fillna(frame.bin_age.median(),inplace=True)\n",
        "    frame.Embarked.fillna(frame.Embarked.median(),inplace=True)\n",
        "    frame.bin_fare.fillna(frame.bin_fare.median(),inplace=True)\n",
        "# just to check \n",
        "df.info()\n",
        "    "
      ],
      "execution_count": 40,
      "outputs": [
        {
          "output_type": "stream",
          "text": [
            "<class 'pandas.core.frame.DataFrame'>\n",
            "RangeIndex: 891 entries, 0 to 890\n",
            "Data columns (total 12 columns):\n",
            " #   Column       Non-Null Count  Dtype  \n",
            "---  ------       --------------  -----  \n",
            " 0   PassengerId  891 non-null    int64  \n",
            " 1   Survived     891 non-null    int64  \n",
            " 2   Pclass       891 non-null    int64  \n",
            " 3   Name         891 non-null    object \n",
            " 4   Sex          891 non-null    object \n",
            " 5   SibSp        891 non-null    int64  \n",
            " 6   Parch        891 non-null    int64  \n",
            " 7   Ticket       891 non-null    object \n",
            " 8   Cabin        204 non-null    object \n",
            " 9   Embarked     891 non-null    float64\n",
            " 10  bin_age      891 non-null    float64\n",
            " 11  bin_fare     891 non-null    float64\n",
            "dtypes: float64(3), int64(5), object(4)\n",
            "memory usage: 83.7+ KB\n"
          ],
          "name": "stdout"
        }
      ]
    },
    {
      "cell_type": "markdown",
      "metadata": {
        "id": "4G7tWU-3WjND",
        "colab_type": "text"
      },
      "source": [
        "######  data exploration, cleaning and preprocessing ends. Now can move onto modelling algorithms."
      ]
    },
    {
      "cell_type": "code",
      "metadata": {
        "id": "cV63gsfVWjNI",
        "colab_type": "code",
        "colab": {}
      },
      "source": [
        "for frame in [train,df,test]:\n",
        "    frame.drop(['PassengerId','Name','SibSp','Parch','Ticket','Cabin'],axis=1,inplace=True)\n",
        "for frame in [test_df]:\n",
        "    frame.drop(['-Name','SibSp','Parch','Ticket','Cabin'],axis=1,inplace=True)\n",
        "#df.head()\n",
        "\n",
        "     "
      ],
      "execution_count": 41,
      "outputs": []
    },
    {
      "cell_type": "code",
      "metadata": {
        "id": "NWH9_jV0WjNR",
        "colab_type": "code",
        "colab": {}
      },
      "source": [
        "x_train,x_test,y_train,y_test=train_test_split(df.drop('Survived',axis=1),df.Survived,test_size=0.30,random_state=42)"
      ],
      "execution_count": 56,
      "outputs": []
    },
    {
      "cell_type": "code",
      "metadata": {
        "id": "So6kICB-ejEX",
        "colab_type": "code",
        "colab": {}
      },
      "source": [
        "array = df.values\n",
        "X = array[:,6:11]\n",
        "Y = array[:,12]\n",
        "x_train, x_test, y_train, y_test = model_selection.train_test_split(X, Y, test_size=0.30, random_state=7)"
      ],
      "execution_count": null,
      "outputs": []
    },
    {
      "cell_type": "code",
      "metadata": {
        "id": "Exe4L1CSWjNa",
        "colab_type": "code",
        "colab": {
          "base_uri": "https://localhost:8080/",
          "height": 84
        },
        "outputId": "e991bfea-b0d4-40d6-df3c-2fd199daded2"
      },
      "source": [
        "models=[LogisticRegression(),RandomForestClassifier(),\n",
        "        DecisionTreeClassifier()]\n",
        "model_names=['LogisticRegression','RandomForestClassifier','DecisionTree']\n",
        "\n",
        "acc=[]\n",
        "d={}\n",
        "\n",
        "for model in range(len(models)):\n",
        "    clf=models[model]\n",
        "    clf.fit(x_train,y_train)\n",
        "    pred=clf.predict(x_test)\n",
        "    acc.append(accuracy_score(pred,y_test))\n",
        "     \n",
        "d={'Modelling Algo':model_names,'Accuracy':acc}\n",
        "d"
      ],
      "execution_count": 57,
      "outputs": [
        {
          "output_type": "execute_result",
          "data": {
            "text/plain": [
              "{'Accuracy': [0.8022388059701493, 0.7947761194029851, 0.7910447761194029],\n",
              " 'Modelling Algo': ['LogisticRegression',\n",
              "  'RandomForestClassifier',\n",
              "  'DecisionTree']}"
            ]
          },
          "metadata": {
            "tags": []
          },
          "execution_count": 57
        }
      ]
    },
    {
      "cell_type": "code",
      "metadata": {
        "id": "c0FtLVHbWjNn",
        "colab_type": "code",
        "colab": {
          "base_uri": "https://localhost:8080/",
          "height": 137
        },
        "outputId": "0d2455de-b92d-48fe-ef36-83a2bd6de9e3"
      },
      "source": [
        "acc_frame=pd.DataFrame(d)\n",
        "acc_frame"
      ],
      "execution_count": 58,
      "outputs": [
        {
          "output_type": "execute_result",
          "data": {
            "text/html": [
              "<div>\n",
              "<style scoped>\n",
              "    .dataframe tbody tr th:only-of-type {\n",
              "        vertical-align: middle;\n",
              "    }\n",
              "\n",
              "    .dataframe tbody tr th {\n",
              "        vertical-align: top;\n",
              "    }\n",
              "\n",
              "    .dataframe thead th {\n",
              "        text-align: right;\n",
              "    }\n",
              "</style>\n",
              "<table border=\"1\" class=\"dataframe\">\n",
              "  <thead>\n",
              "    <tr style=\"text-align: right;\">\n",
              "      <th></th>\n",
              "      <th>Modelling Algo</th>\n",
              "      <th>Accuracy</th>\n",
              "    </tr>\n",
              "  </thead>\n",
              "  <tbody>\n",
              "    <tr>\n",
              "      <th>0</th>\n",
              "      <td>LogisticRegression</td>\n",
              "      <td>0.802239</td>\n",
              "    </tr>\n",
              "    <tr>\n",
              "      <th>1</th>\n",
              "      <td>RandomForestClassifier</td>\n",
              "      <td>0.794776</td>\n",
              "    </tr>\n",
              "    <tr>\n",
              "      <th>2</th>\n",
              "      <td>DecisionTree</td>\n",
              "      <td>0.791045</td>\n",
              "    </tr>\n",
              "  </tbody>\n",
              "</table>\n",
              "</div>"
            ],
            "text/plain": [
              "           Modelling Algo  Accuracy\n",
              "0      LogisticRegression  0.802239\n",
              "1  RandomForestClassifier  0.794776\n",
              "2            DecisionTree  0.791045"
            ]
          },
          "metadata": {
            "tags": []
          },
          "execution_count": 58
        }
      ]
    },
    {
      "cell_type": "code",
      "metadata": {
        "id": "UV8FX3HFWjN0",
        "colab_type": "code",
        "colab": {
          "base_uri": "https://localhost:8080/",
          "height": 302
        },
        "outputId": "6d1c00b0-0d1f-40ab-9ab5-f29db4edccc4"
      },
      "source": [
        "sns.barplot(y='Modelling Algo',x='Accuracy',data=acc_frame)"
      ],
      "execution_count": 59,
      "outputs": [
        {
          "output_type": "execute_result",
          "data": {
            "text/plain": [
              "<matplotlib.axes._subplots.AxesSubplot at 0x7f25eeb35ac8>"
            ]
          },
          "metadata": {
            "tags": []
          },
          "execution_count": 59
        },
        {
          "output_type": "display_data",
          "data": {
            "image/png": "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\n",
            "text/plain": [
              "<Figure size 432x288 with 1 Axes>"
            ]
          },
          "metadata": {
            "tags": [],
            "needs_background": "light"
          }
        }
      ]
    },
    {
      "cell_type": "code",
      "metadata": {
        "id": "ltXXY0O1bU5r",
        "colab_type": "code",
        "colab": {}
      },
      "source": [
        "x_train,x_test,y_train,y_test=train_test_split(df.drop('Survived',axis=1),df.Survived,test_size=0.10,random_state=42)"
      ],
      "execution_count": 52,
      "outputs": []
    },
    {
      "cell_type": "code",
      "metadata": {
        "id": "PZ9tQTjmed_e",
        "colab_type": "code",
        "colab": {}
      },
      "source": [
        "array = df.values\n",
        "X = array[:,6:11]\n",
        "Y = array[:,12]\n",
        "x_train, x_test, y_train, y_test = model_selection.train_test_split(X, Y, test_size=0.10, random_state=7)"
      ],
      "execution_count": null,
      "outputs": []
    },
    {
      "cell_type": "code",
      "metadata": {
        "id": "N5z-AassbhT1",
        "colab_type": "code",
        "colab": {
          "base_uri": "https://localhost:8080/",
          "height": 84
        },
        "outputId": "b801e55e-178f-458b-dc09-f5dcab677b14"
      },
      "source": [
        "models=[LogisticRegression(),RandomForestClassifier(),\n",
        "        DecisionTreeClassifier()]\n",
        "model_names=['LogisticRegression','RandomForestClassifier','DecisionTree']\n",
        "\n",
        "acc=[]\n",
        "d={}\n",
        "\n",
        "for model in range(len(models)):\n",
        "    clf=models[model]\n",
        "    clf.fit(x_train,y_train)\n",
        "    pred=clf.predict(x_test)\n",
        "    acc.append(accuracy_score(pred,y_test))\n",
        "     \n",
        "d={'Modelling Algo':model_names,'Accuracy':acc}\n",
        "d"
      ],
      "execution_count": 53,
      "outputs": [
        {
          "output_type": "execute_result",
          "data": {
            "text/plain": [
              "{'Accuracy': [0.8444444444444444, 0.8111111111111111, 0.8222222222222222],\n",
              " 'Modelling Algo': ['LogisticRegression',\n",
              "  'RandomForestClassifier',\n",
              "  'DecisionTree']}"
            ]
          },
          "metadata": {
            "tags": []
          },
          "execution_count": 53
        }
      ]
    },
    {
      "cell_type": "code",
      "metadata": {
        "id": "iWhKiY_yexqc",
        "colab_type": "code",
        "colab": {}
      },
      "source": [
        "x_train,x_test,y_train,y_test=train_test_split(df.drop('Survived',axis=1),df.Survived,test_size=0.40,random_state=42)"
      ],
      "execution_count": 64,
      "outputs": []
    },
    {
      "cell_type": "code",
      "metadata": {
        "id": "auei-s4afqfd",
        "colab_type": "code",
        "colab": {}
      },
      "source": [
        "array = df.values\n",
        "X = array[:,6:11]\n",
        "Y = array[:,12]\n",
        "x_train, x_test, y_train, y_test = model_selection.train_test_split(X, Y, test_size=0.40, random_state=7)"
      ],
      "execution_count": null,
      "outputs": []
    },
    {
      "cell_type": "code",
      "metadata": {
        "id": "GHPWKuZle7Qv",
        "colab_type": "code",
        "colab": {
          "base_uri": "https://localhost:8080/",
          "height": 84
        },
        "outputId": "515f5673-baf5-41c9-c57c-0d8ef24ecf90"
      },
      "source": [
        "models=[LogisticRegression(),RandomForestClassifier(),\n",
        "        DecisionTreeClassifier()]\n",
        "model_names=['LogisticRegression','RandomForestClassifier','DecisionTree']\n",
        "\n",
        "acc=[]\n",
        "d={}\n",
        "\n",
        "for model in range(len(models)):\n",
        "    clf=models[model]\n",
        "    clf.fit(x_train,y_train)\n",
        "    pred=clf.predict(x_test)\n",
        "    acc.append(accuracy_score(pred,y_test))\n",
        "     \n",
        "d={'Modelling Algo':model_names,'Accuracy':acc}\n",
        "d"
      ],
      "execution_count": 65,
      "outputs": [
        {
          "output_type": "execute_result",
          "data": {
            "text/plain": [
              "{'Accuracy': [0.7927170868347339, 0.7899159663865546, 0.7983193277310925],\n",
              " 'Modelling Algo': ['LogisticRegression',\n",
              "  'RandomForestClassifier',\n",
              "  'DecisionTree']}"
            ]
          },
          "metadata": {
            "tags": []
          },
          "execution_count": 65
        }
      ]
    },
    {
      "cell_type": "code",
      "metadata": {
        "id": "X99kkwbCfyMJ",
        "colab_type": "code",
        "colab": {
          "base_uri": "https://localhost:8080/",
          "height": 137
        },
        "outputId": "74aeb30f-5617-48ca-b0bb-8464a43e5401"
      },
      "source": [
        "acc_frame=pd.DataFrame(d)\n",
        "acc_frame"
      ],
      "execution_count": 66,
      "outputs": [
        {
          "output_type": "execute_result",
          "data": {
            "text/html": [
              "<div>\n",
              "<style scoped>\n",
              "    .dataframe tbody tr th:only-of-type {\n",
              "        vertical-align: middle;\n",
              "    }\n",
              "\n",
              "    .dataframe tbody tr th {\n",
              "        vertical-align: top;\n",
              "    }\n",
              "\n",
              "    .dataframe thead th {\n",
              "        text-align: right;\n",
              "    }\n",
              "</style>\n",
              "<table border=\"1\" class=\"dataframe\">\n",
              "  <thead>\n",
              "    <tr style=\"text-align: right;\">\n",
              "      <th></th>\n",
              "      <th>Modelling Algo</th>\n",
              "      <th>Accuracy</th>\n",
              "    </tr>\n",
              "  </thead>\n",
              "  <tbody>\n",
              "    <tr>\n",
              "      <th>0</th>\n",
              "      <td>LogisticRegression</td>\n",
              "      <td>0.792717</td>\n",
              "    </tr>\n",
              "    <tr>\n",
              "      <th>1</th>\n",
              "      <td>RandomForestClassifier</td>\n",
              "      <td>0.789916</td>\n",
              "    </tr>\n",
              "    <tr>\n",
              "      <th>2</th>\n",
              "      <td>DecisionTree</td>\n",
              "      <td>0.798319</td>\n",
              "    </tr>\n",
              "  </tbody>\n",
              "</table>\n",
              "</div>"
            ],
            "text/plain": [
              "           Modelling Algo  Accuracy\n",
              "0      LogisticRegression  0.792717\n",
              "1  RandomForestClassifier  0.789916\n",
              "2            DecisionTree  0.798319"
            ]
          },
          "metadata": {
            "tags": []
          },
          "execution_count": 66
        }
      ]
    },
    {
      "cell_type": "markdown",
      "metadata": {
        "id": "ySYPTwowizyw",
        "colab_type": "text"
      },
      "source": [
        "Model 1"
      ]
    },
    {
      "cell_type": "code",
      "metadata": {
        "id": "9Uzad5PUiVHg",
        "colab_type": "code",
        "colab": {
          "base_uri": "https://localhost:8080/",
          "height": 33
        },
        "outputId": "1f5da764-9144-4547-a487-a73ffb202ad9"
      },
      "source": [
        "no_of_test=[]\n",
        "for i in range(0,101,10):\n",
        "     if(i!=0):\n",
        "        no_of_test.append(i)\n",
        "no_of_test\n",
        "params_dict={'n_estimators':no_of_test}\n",
        "clf_rf=GridSearchCV(estimator=RandomForestClassifier(),param_grid=params_dict,scoring='accuracy')\n",
        "clf_rf.fit(x_train,y_train)\n",
        "pred=clf_rf.predict(x_test)\n",
        "print(accuracy_score(pred,y_test))"
      ],
      "execution_count": 68,
      "outputs": [
        {
          "output_type": "stream",
          "text": [
            "0.7899159663865546\n"
          ],
          "name": "stdout"
        }
      ]
    },
    {
      "cell_type": "code",
      "metadata": {
        "id": "bUjE8yKkivP5",
        "colab_type": "code",
        "colab": {
          "base_uri": "https://localhost:8080/",
          "height": 33
        },
        "outputId": "931116b9-2556-4528-dc42-dcfaa042b03e"
      },
      "source": [
        "params_dict={'C':[0.001, 0.01, 0.1, 1, 10, 100, 1000],'penalty':['l1','l2']}\n",
        "clf_lr=GridSearchCV(estimator=LogisticRegression(),param_grid=params_dict,scoring='accuracy')\n",
        "clf_lr.fit(x_train,y_train)\n",
        "pred=clf_lr.predict(x_test)\n",
        "print(accuracy_score(pred,y_test))"
      ],
      "execution_count": 69,
      "outputs": [
        {
          "output_type": "stream",
          "text": [
            "0.773109243697479\n"
          ],
          "name": "stdout"
        }
      ]
    },
    {
      "cell_type": "markdown",
      "metadata": {
        "id": "8rJKqMBmi4LC",
        "colab_type": "text"
      },
      "source": [
        "Model 2"
      ]
    },
    {
      "cell_type": "code",
      "metadata": {
        "id": "Xi9eTByXi3aP",
        "colab_type": "code",
        "colab": {
          "base_uri": "https://localhost:8080/",
          "height": 33
        },
        "outputId": "d72b21c0-95df-4e05-d435-8294dc2aa548"
      },
      "source": [
        "no_of_test=[]\n",
        "for i in range(0,101,30):\n",
        "     if(i!=0):\n",
        "        no_of_test.append(i)\n",
        "no_of_test\n",
        "params_dict={'n_estimators':no_of_test}\n",
        "clf_rf=GridSearchCV(estimator=RandomForestClassifier(),param_grid=params_dict,scoring='accuracy')\n",
        "clf_rf.fit(x_train,y_train)\n",
        "pred=clf_rf.predict(x_test)\n",
        "print(accuracy_score(pred,y_test))"
      ],
      "execution_count": 70,
      "outputs": [
        {
          "output_type": "stream",
          "text": [
            "0.7899159663865546\n"
          ],
          "name": "stdout"
        }
      ]
    },
    {
      "cell_type": "code",
      "metadata": {
        "id": "oF0ndmRijDE-",
        "colab_type": "code",
        "colab": {
          "base_uri": "https://localhost:8080/",
          "height": 33
        },
        "outputId": "59ed6a94-fdf4-48b9-fec1-0cfba882ab4b"
      },
      "source": [
        "params_dict={'C':[0.01, 0.1, 0.1, 1, 30, 100, 100],'penalty':['l1','l2']}\n",
        "clf_lr=GridSearchCV(estimator=LogisticRegression(),param_grid=params_dict,scoring='accuracy')\n",
        "clf_lr.fit(x_train,y_train)\n",
        "pred=clf_lr.predict(x_test)\n",
        "print(accuracy_score(pred,y_test))"
      ],
      "execution_count": 75,
      "outputs": [
        {
          "output_type": "stream",
          "text": [
            "0.773109243697479\n"
          ],
          "name": "stdout"
        }
      ]
    },
    {
      "cell_type": "markdown",
      "metadata": {
        "id": "ellWo6UjjV6F",
        "colab_type": "text"
      },
      "source": [
        "Model 3\n"
      ]
    },
    {
      "cell_type": "code",
      "metadata": {
        "id": "L4MT0ON9jX9I",
        "colab_type": "code",
        "colab": {
          "base_uri": "https://localhost:8080/",
          "height": 33
        },
        "outputId": "b2d8e2f1-3893-4d1f-ab96-01392823f6f6"
      },
      "source": [
        "no_of_test=[]\n",
        "for i in range(0,101,40):\n",
        "     if(i!=0):\n",
        "        no_of_test.append(i)\n",
        "no_of_test\n",
        "params_dict={'n_estimators':no_of_test}\n",
        "clf_rf=GridSearchCV(estimator=RandomForestClassifier(),param_grid=params_dict,scoring='accuracy')\n",
        "clf_rf.fit(x_train,y_train)\n",
        "pred=clf_rf.predict(x_test)\n",
        "print(accuracy_score(pred,y_test))"
      ],
      "execution_count": 76,
      "outputs": [
        {
          "output_type": "stream",
          "text": [
            "0.7899159663865546\n"
          ],
          "name": "stdout"
        }
      ]
    },
    {
      "cell_type": "code",
      "metadata": {
        "id": "b3on3C_kjfig",
        "colab_type": "code",
        "colab": {
          "base_uri": "https://localhost:8080/",
          "height": 33
        },
        "outputId": "95dd72aa-bbc0-4b16-b2e3-36d627d69843"
      },
      "source": [
        "params_dict={'C':[0.01, 0.1, 0.1, 1, 40, 100, 100],'penalty':['l1','l2']}\n",
        "clf_lr=GridSearchCV(estimator=LogisticRegression(),param_grid=params_dict,scoring='accuracy')\n",
        "clf_lr.fit(x_train,y_train)\n",
        "pred=clf_lr.predict(x_test)\n",
        "print(accuracy_score(pred,y_test))"
      ],
      "execution_count": 77,
      "outputs": [
        {
          "output_type": "stream",
          "text": [
            "0.773109243697479\n"
          ],
          "name": "stdout"
        }
      ]
    },
    {
      "cell_type": "code",
      "metadata": {
        "id": "5gagJyUnjmHJ",
        "colab_type": "code",
        "colab": {}
      },
      "source": [
        "pred=clf_lr.predict(test)\n",
        "#pred\n",
        "dict={'PassengerId':test_df['PassengerId'],'Survived':pred}\n",
        "ans=pd.DataFrame(dict)\n",
        "ans.to_csv('answer.csv',index=False)"
      ],
      "execution_count": 79,
      "outputs": []
    }
  ]
}
