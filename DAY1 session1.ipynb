{
  "nbformat": 4,
  "nbformat_minor": 0,
  "metadata": {
    "colab": {
      "name": "DAY1.ipynb",
      "provenance": [],
      "collapsed_sections": [],
      "authorship_tag": "ABX9TyNh8LMLBQ2luUoZGvQXF3VC",
      "include_colab_link": true
    },
    "kernelspec": {
      "name": "python3",
      "display_name": "Python 3"
    }
  },
  "cells": [
    {
      "cell_type": "markdown",
      "metadata": {
        "id": "view-in-github",
        "colab_type": "text"
      },
      "source": [
        "<a href=\"https://colab.research.google.com/github/atish-shanbhag/Python_Programming_in_DA_and_ML/blob/master/DAY1%20session1.ipynb\" target=\"_parent\"><img src=\"https://colab.research.google.com/assets/colab-badge.svg\" alt=\"Open In Colab\"/></a>"
      ]
    },
    {
      "cell_type": "markdown",
      "metadata": {
        "id": "Ipn7A_2UIaFs",
        "colab_type": "text"
      },
      "source": [
        "#Python Program to Add Two Numbers getting through key board"
      ]
    },
    {
      "cell_type": "code",
      "metadata": {
        "id": "Efz-crwUIcT9",
        "colab_type": "code",
        "colab": {
          "base_uri": "https://localhost:8080/",
          "height": 67
        },
        "outputId": "aff04e44-de41-40c8-a5de-562965f55b0f"
      },
      "source": [
        "\n",
        "\n",
        "# sum of two nos\n",
        "num1 = int(input(\"Enter first no\"))\n",
        "num2 = int(input(\"Enter second no\"))\n",
        "\n",
        "# Adding the two numbers\n",
        "sum = num1 + num2\n",
        "\n",
        "# Display the sum\n",
        "print('The sum of {0} and {1} is {2}'.format(num1, num2, sum))\n",
        "\n"
      ],
      "execution_count": 1,
      "outputs": [
        {
          "output_type": "stream",
          "text": [
            "Enter first no5\n",
            "Enter second no2\n",
            "The sum of 5 and 2 is 7\n"
          ],
          "name": "stdout"
        }
      ]
    },
    {
      "cell_type": "markdown",
      "metadata": {
        "id": "MtZKGcuaIsF4",
        "colab_type": "text"
      },
      "source": [
        "Python program to check if the input year is a leap year or not"
      ]
    },
    {
      "cell_type": "code",
      "metadata": {
        "id": "ubP1BmU2IvNh",
        "colab_type": "code",
        "colab": {
          "base_uri": "https://localhost:8080/",
          "height": 50
        },
        "outputId": "149c93ed-1852-4971-acce-ba3ff5e49c46"
      },
      "source": [
        "\n",
        "\n",
        "# To get year (integer input) from the user\n",
        "year = int(input(\"Enter a year: \"))\n",
        "\n",
        "if ((year % 4) == 0 and (year % 100)  != 0) or ((year % 400) == 0):\n",
        "           print(\"{0} is a leap year\".format(year))\n",
        "else:\n",
        "           print(\"{0} is not a leap year\".format(year))\n",
        "\n"
      ],
      "execution_count": 2,
      "outputs": [
        {
          "output_type": "stream",
          "text": [
            "Enter a year: 2020\n",
            "2020 is a leap year\n"
          ],
          "name": "stdout"
        }
      ]
    },
    {
      "cell_type": "markdown",
      "metadata": {
        "id": "eph5ZG-7I5PF",
        "colab_type": "text"
      },
      "source": [
        "Python Program to Generate a Random Number"
      ]
    },
    {
      "cell_type": "code",
      "metadata": {
        "id": "FAefQLc-I5yl",
        "colab_type": "code",
        "colab": {
          "base_uri": "https://localhost:8080/",
          "height": 34
        },
        "outputId": "989aacad-8d63-4a82-d0a8-f4034bc2bd41"
      },
      "source": [
        " \n",
        "\n",
        "# Program to generate a random number between 0 and 9\n",
        "# import the random module\n",
        "import random\n",
        "print(random.randint(0,9))\n",
        "  \n"
      ],
      "execution_count": 3,
      "outputs": [
        {
          "output_type": "stream",
          "text": [
            "2\n"
          ],
          "name": "stdout"
        }
      ]
    },
    {
      "cell_type": "markdown",
      "metadata": {
        "id": "pJu8j5mGI_n2",
        "colab_type": "text"
      },
      "source": [
        "Python Program to Convert Kilometers to Miles "
      ]
    },
    {
      "cell_type": "code",
      "metadata": {
        "id": "44pLSVO0JACm",
        "colab_type": "code",
        "colab": {
          "base_uri": "https://localhost:8080/",
          "height": 50
        },
        "outputId": "8638db90-628e-479e-d875-d1e8e1ee4380"
      },
      "source": [
        "\n",
        "\n",
        "# To take kilometers from the user, uncomment the code below\n",
        "kilometers = int(input(\"Enter value in kilometers\"))\n",
        "\n",
        "# conversion factor\n",
        "conv_fac = 0.621371\n",
        "\n",
        "# calculate miles\n",
        "miles = kilometers * conv_fac\n",
        "print('%0.3f kilometers is equal to %0.3f miles' %(kilometers,miles))\n"
      ],
      "execution_count": 4,
      "outputs": [
        {
          "output_type": "stream",
          "text": [
            "Enter value in kilometers2400\n",
            "2400.000 kilometers is equal to 1491.290 miles\n"
          ],
          "name": "stdout"
        }
      ]
    },
    {
      "cell_type": "markdown",
      "metadata": {
        "id": "0D5EC1-EJLEm",
        "colab_type": "text"
      },
      "source": [
        "Python Program to Solve Quadratic Equation"
      ]
    },
    {
      "cell_type": "code",
      "metadata": {
        "id": "pcx0x9UgJLeD",
        "colab_type": "code",
        "colab": {
          "base_uri": "https://localhost:8080/",
          "height": 84
        },
        "outputId": "5c33e4ae-c65e-4d46-d7a1-b47c19164dd1"
      },
      "source": [
        " \n",
        "\n",
        "# Solve the quadratic equation ax**2 + bx + c = 0\n",
        "# importing  complex math module\n",
        "import cmath\n",
        "\n",
        " # To take coefficient input from the users\n",
        "a = float(input('Enter a: '))\n",
        "b = float(input('Enter b: '))\n",
        "c = float(input('Enter c: '))\n",
        "\n",
        "# calculate the discriminant\n",
        "d = (b**2) - (4*a*c)\n",
        "\n",
        "# find two solutions\n",
        "sol1 = (-b-cmath.sqrt(d))/(2*a)\n",
        "sol2 = (-b+cmath.sqrt(d))/(2*a)\n",
        "\n",
        "print('The solution are {0} and {1}'.format(sol1,sol2))\n"
      ],
      "execution_count": 5,
      "outputs": [
        {
          "output_type": "stream",
          "text": [
            "Enter a: 2\n",
            "Enter b: 3\n",
            "Enter c: 4\n",
            "The solution are (-0.75-1.1989578808281798j) and (-0.75+1.1989578808281798j)\n"
          ],
          "name": "stdout"
        }
      ]
    },
    {
      "cell_type": "markdown",
      "metadata": {
        "id": "BON7HbpeJdY0",
        "colab_type": "text"
      },
      "source": [
        "Python Program to find prime or not using function"
      ]
    },
    {
      "cell_type": "code",
      "metadata": {
        "id": "5Iyle5wxJduV",
        "colab_type": "code",
        "colab": {
          "base_uri": "https://localhost:8080/",
          "height": 50
        },
        "outputId": "d83ec13d-e12d-47de-dee4-c6b5c0f67146"
      },
      "source": [
        " \n",
        "def test_prime(n):\n",
        "    if (n==1):\n",
        "        return False\n",
        "    elif (n==2):\n",
        "        return True;\n",
        "    else:\n",
        "        for x in range(2,n):\n",
        "            if(n % x==0):\n",
        "                return False\n",
        "        return True\n",
        "no=int(input(\"Enter the number\"))\n",
        "if (test_prime(no)) is True :\n",
        "    print(\" {0} is a prime no\".format(no))\n",
        "else:\n",
        "     print(\" {0} is not a prime no\".format(no))\n"
      ],
      "execution_count": 6,
      "outputs": [
        {
          "output_type": "stream",
          "text": [
            "Enter the number4\n",
            " 4 is not a prime no\n"
          ],
          "name": "stdout"
        }
      ]
    },
    {
      "cell_type": "markdown",
      "metadata": {
        "id": "rRFj794TJp3k",
        "colab_type": "text"
      },
      "source": [
        "\"\"\"Calculator program\"\"\""
      ]
    },
    {
      "cell_type": "code",
      "metadata": {
        "id": "LgklPQEcJqQJ",
        "colab_type": "code",
        "colab": {
          "base_uri": "https://localhost:8080/",
          "height": 168
        },
        "outputId": "ba001deb-9778-4835-acbb-ab1a9eb42c39"
      },
      "source": [
        "\n",
        "def add(x, y):\n",
        "    return x + y\n",
        "\n",
        "# This function subtracts two numbers\n",
        "def subtract(x, y):\n",
        "    return x - y\n",
        "\n",
        "# This function multiplies two numbers\n",
        "def multiply(x, y):\n",
        "    return x * y\n",
        "\n",
        "# This function divides two numbers\n",
        "def divide(x, y):\n",
        "    return x / y\n",
        "\n",
        "\n",
        "print(\"Select operation.\")\n",
        "print(\"1.Add\")\n",
        "print(\"2.Subtract\")\n",
        "print(\"3.Multiply\")\n",
        "print(\"4.Divide\")\n",
        "\n",
        "while True:\n",
        "    # Take input from the user\n",
        "    choice = input(\"Enter choice(1/2/3/4): \")\n",
        "\n",
        "    # Check if choice is one of the four options\n",
        "    if choice in ('1', '2', '3', '4'):\n",
        "        num1 = float(input(\"Enter first number: \"))\n",
        "        num2 = float(input(\"Enter second number: \"))\n",
        "\n",
        "        if choice == '1':\n",
        "            print(num1, \"+\", num2, \"=\", add(num1, num2))\n",
        "\n",
        "        elif choice == '2':\n",
        "            print(num1, \"-\", num2, \"=\", subtract(num1, num2))\n",
        "\n",
        "        elif choice == '3':\n",
        "            print(num1, \"*\", num2, \"=\", multiply(num1, num2))\n",
        "\n",
        "        elif choice == '4':\n",
        "            print(num1, \"/\", num2, \"=\", divide(num1, num2))\n",
        "        break\n",
        "    else:\n",
        "        print(\"Invalid Input\")\n",
        "\n",
        "\n"
      ],
      "execution_count": 13,
      "outputs": [
        {
          "output_type": "stream",
          "text": [
            "Select operation.\n",
            "1.Add\n",
            "2.Subtract\n",
            "3.Multiply\n",
            "4.Divide\n",
            "Enter choice(1/2/3/4): 3\n",
            "Enter first number: 4\n",
            "Enter second number: 5\n",
            "4.0 * 5.0 = 20.0\n"
          ],
          "name": "stdout"
        }
      ]
    },
    {
      "cell_type": "markdown",
      "metadata": {
        "id": "EJ3UVAKaK_Dm",
        "colab_type": "text"
      },
      "source": [
        "# Python program to find compound interest "
      ]
    },
    {
      "cell_type": "code",
      "metadata": {
        "id": "gGwVkshKK_bq",
        "colab_type": "code",
        "colab": {
          "base_uri": "https://localhost:8080/",
          "height": 134
        },
        "outputId": "d67afce0-c5ce-4310-8e52-d45fa1deba0b"
      },
      "source": [
        "\n",
        "\n",
        "p = float(input(\"Enter the principle amount : \"))\n",
        "r = float(input(\"Enter the rate of interest : \"))\n",
        "t = float(input(\"Enter the time in the years: \"))\n",
        "\n",
        "# calculating compound interest\n",
        "ci =  p * (pow((1 + r / 100), t)) \n",
        "\n",
        "# printing the values\n",
        "print(\"Principle amount  : \", p)\n",
        "print(\"Interest rate     : \", r)\n",
        "print(\"Time in years     : \", t)\n",
        "print(\"compound Interest : \", ci)"
      ],
      "execution_count": 14,
      "outputs": [
        {
          "output_type": "stream",
          "text": [
            "Enter the principle amount : 10000\n",
            "Enter the rate of interest : 3.5\n",
            "Enter the time in the years: 1\n",
            "Principle amount  :  10000.0\n",
            "Interest rate     :  3.5\n",
            "Time in years     :  1.0\n",
            "compound Interest :  10350.0\n"
          ],
          "name": "stdout"
        }
      ]
    },
    {
      "cell_type": "markdown",
      "metadata": {
        "id": "iSFc9C-WL3wj",
        "colab_type": "text"
      },
      "source": [
        "\tConvert centegrade to farenheit  ( f= 9/5*c+32)"
      ]
    },
    {
      "cell_type": "code",
      "metadata": {
        "id": "C6FK6b6mL4Er",
        "colab_type": "code",
        "colab": {
          "base_uri": "https://localhost:8080/",
          "height": 50
        },
        "outputId": "14c4b4f9-1124-4129-e8f2-6ec60604fc2f"
      },
      "source": [
        "celsius = float(input(\"Enter temperature in celsius: \"))\n",
        "fahrenheit = (celsius * 9/5) + 32\n",
        "print('%.2f Celsius is: %0.2f Fahrenheit' %(celsius, fahrenheit))"
      ],
      "execution_count": 15,
      "outputs": [
        {
          "output_type": "stream",
          "text": [
            "Enter temperature in celsius: 37\n",
            "37.00 Celsius is: 98.60 Fahrenheit\n"
          ],
          "name": "stdout"
        }
      ]
    },
    {
      "cell_type": "markdown",
      "metadata": {
        "id": "WwaN_pOwMiKf",
        "colab_type": "text"
      },
      "source": [
        "# Greatest of two number"
      ]
    },
    {
      "cell_type": "code",
      "metadata": {
        "id": "VjQm3N8rMija",
        "colab_type": "code",
        "colab": {
          "base_uri": "https://localhost:8080/",
          "height": 50
        },
        "outputId": "511e5615-49c6-4f43-8466-c384736c645c"
      },
      "source": [
        "a,b = input('Enter two numbers: ').split(' ')\n",
        "a = int(a); b = int(b)\n",
        "if a>b:\n",
        "\tprint(a)\n",
        "else:\n",
        "\tprint(b)"
      ],
      "execution_count": 16,
      "outputs": [
        {
          "output_type": "stream",
          "text": [
            "Enter two numbers: 4 5\n",
            "5\n"
          ],
          "name": "stdout"
        }
      ]
    },
    {
      "cell_type": "markdown",
      "metadata": {
        "id": "nP3le7tFNAUZ",
        "colab_type": "text"
      },
      "source": [
        "#\tWrite a program for finding surface areas of cylinder and cone (2*PI*r*r*h, 1/3*PI*r*r*h) using function."
      ]
    },
    {
      "cell_type": "code",
      "metadata": {
        "id": "O8eeYd7bNA7Q",
        "colab_type": "code",
        "colab": {
          "base_uri": "https://localhost:8080/",
          "height": 101
        },
        "outputId": "485421cd-f9bf-4b9a-b195-4ef63ce9afc3"
      },
      "source": [
        "import math \n",
        "pi = math.pi \n",
        "  \n",
        "# Function to calculate Volume of Cone \n",
        "def volume(r, h): \n",
        "    return (1 / 3) * pi * r * r * h \n",
        "  \n",
        "# Function To Calculate Surface Area of Cone \n",
        "def surfacearea(r, s): \n",
        "    return pi * r * s + pi * r * r \n",
        "  \n",
        "# Driver Code \n",
        "radius = int(input()) \n",
        "height = int(input())\n",
        "slat_height = int(input()) \n",
        "print( \"Volume Of Cone : \", volume(radius, height) ) \n",
        "print( \"Surface Area Of Cone : \", surfacearea(radius, slat_height) ) "
      ],
      "execution_count": 18,
      "outputs": [
        {
          "output_type": "stream",
          "text": [
            "5\n",
            "13\n",
            "12\n",
            "Volume Of Cone :  340.3392041388942\n",
            "Surface Area Of Cone :  267.0353755551324\n"
          ],
          "name": "stdout"
        }
      ]
    },
    {
      "cell_type": "markdown",
      "metadata": {
        "id": "e9jeWVINN40Q",
        "colab_type": "text"
      },
      "source": [
        ""
      ]
    },
    {
      "cell_type": "code",
      "metadata": {
        "id": "YtpRKC6lOAXv",
        "colab_type": "code",
        "colab": {
          "base_uri": "https://localhost:8080/",
          "height": 101
        },
        "outputId": "b3e9440b-e242-4e2c-d3bd-5b103981d613"
      },
      "source": [
        "m1=int(input(\"Enter 1st number\"))\n",
        "m2=int(input(\"Enter 2nd number\"))\n",
        "m3=int(input(\"Enter 3rd number\"))\n",
        "m4=int(input(\"Enter 4th number\"))\n",
        " \n",
        "large=m1\n",
        "small=m2\n",
        "if m2>large:\n",
        "\tlarge=m2\n",
        "if m3>large:\n",
        "\tlarge=m3\n",
        "if m4>large:\n",
        "\tlarge=m4\n",
        "print(\"largest number is =\",large)\n",
        " "
      ],
      "execution_count": 19,
      "outputs": [
        {
          "output_type": "stream",
          "text": [
            "Enter 1st number2\n",
            "Enter 2nd number5\n",
            "Enter 3rd number6\n",
            "Enter 4th number1\n",
            "largest number is = 6\n"
          ],
          "name": "stdout"
        }
      ]
    },
    {
      "cell_type": "markdown",
      "metadata": {
        "id": "8Ri6rsWegqsP",
        "colab_type": "text"
      },
      "source": [
        ""
      ]
    },
    {
      "cell_type": "code",
      "metadata": {
        "id": "Z299JLWZgrEL",
        "colab_type": "code",
        "colab": {
          "base_uri": "https://localhost:8080/",
          "height": 1000
        },
        "outputId": "d819a22b-5e47-4ad2-cfdc-f2fc88c7a2ab"
      },
      "source": [
        "loop = 1 \n",
        "choice = 0\n",
        "def odd_even(x):\n",
        "  if x%2==0:\n",
        "    return True\n",
        "  else:\n",
        "    return False\n",
        "\n",
        "def fact(x):\n",
        "  if(x==0):\n",
        "    return 1\n",
        "  else:\n",
        "    return x*fact(x-1)\n",
        "\n",
        "def OddUpto(x):\n",
        "  for num in range(1,x+1):\n",
        "    if num % 2 != 0: \n",
        "        print(num, end = \" \")\n",
        "  print(\" \") \n",
        "  print(\" \") \n",
        "\n",
        "def PrimeUpto(x):\n",
        "  for num in range(2,x+1):\n",
        "    i = 2\n",
        "    for i in range(2, num):\n",
        "        if(num % i == 0):\n",
        "            i = num\n",
        "            break;\n",
        "    if(i != num):\n",
        "        print(num, end=\" \")\n",
        "  print(\" \") \n",
        "  print(\" \") \n",
        "\n",
        "while loop == 1:\n",
        "  print(\"Menu:\") \n",
        "  print(\"\")\n",
        "  print(\"1) Odd or Even\")\n",
        "  print(\"2) Factorial\")\n",
        "  print(\"3) Odd number Upto N\")\n",
        "  print(\"4) Prime number Upto N \")\n",
        "  print(\"5) Quit\")\n",
        "  print(\"\")\n",
        "  try:\n",
        "    choice = int(input(\"Choose your option: \"))\n",
        "  except:\n",
        "    print('please enter a valid number for option')\n",
        "    print(\"\")\n",
        "    print(\"\")\n",
        "  if choice == 1:\n",
        "    x = int(input(\"Enter a value: \"))\n",
        "    if odd_even(x):\n",
        "      print(x,\" is even\")\n",
        "    else:\n",
        "      print(x,\" is odd\")\n",
        "\n",
        "  elif choice == 2:\n",
        "    x = int(input(\"Enter a value: \"))\n",
        "    print(\"Factorial of \",x,\" is \",fact(x))\n",
        "\n",
        "  elif choice == 3:\n",
        "    x = int(input(\"Enter a value: \"))\n",
        "    print(\"Odd numbers upto \",x,\" are:\")\n",
        "    OddUpto(x)\n",
        "\n",
        "  elif choice == 4:\n",
        "    x = int(input(\"Enter a value: \"))\n",
        "    print(\"Prime numbers upto \",x,\" are:\")\n",
        "    PrimeUpto(x)\n",
        "\n",
        "  elif choice == 5:\n",
        "    loop = 0\n",
        "\n",
        "  else:\n",
        "    print(\"please choice a valid option from 1 to 5\")\n",
        "    choice=0"
      ],
      "execution_count": 20,
      "outputs": [
        {
          "output_type": "stream",
          "text": [
            "Menu:\n",
            "\n",
            "1) Odd or Even\n",
            "2) Factorial\n",
            "3) Odd number Upto N\n",
            "4) Prime number Upto N \n",
            "5) Quit\n",
            "\n",
            "Choose your option: 1\n",
            "Enter a value: 3\n",
            "3  is odd\n",
            "Menu:\n",
            "\n",
            "1) Odd or Even\n",
            "2) Factorial\n",
            "3) Odd number Upto N\n",
            "4) Prime number Upto N \n",
            "5) Quit\n",
            "\n",
            "Choose your option: 2\n",
            "Enter a value: 44\n",
            "Factorial of  44  is  2658271574788448768043625811014615890319638528000000000\n",
            "Menu:\n",
            "\n",
            "1) Odd or Even\n",
            "2) Factorial\n",
            "3) Odd number Upto N\n",
            "4) Prime number Upto N \n",
            "5) Quit\n",
            "\n",
            "Choose your option: 3\n",
            "Enter a value: 6\n",
            "Odd numbers upto  6  are:\n",
            "1 3 5  \n",
            " \n",
            "Menu:\n",
            "\n",
            "1) Odd or Even\n",
            "2) Factorial\n",
            "3) Odd number Upto N\n",
            "4) Prime number Upto N \n",
            "5) Quit\n",
            "\n",
            "Choose your option: 4\n",
            "Enter a value: 2\n",
            "Prime numbers upto  2  are:\n",
            " \n",
            " \n",
            "Menu:\n",
            "\n",
            "1) Odd or Even\n",
            "2) Factorial\n",
            "3) Odd number Upto N\n",
            "4) Prime number Upto N \n",
            "5) Quit\n",
            "\n",
            "Choose your option: 4\n",
            "Enter a value: 10\n",
            "Prime numbers upto  10  are:\n",
            "3 5 7  \n",
            " \n",
            "Menu:\n",
            "\n",
            "1) Odd or Even\n",
            "2) Factorial\n",
            "3) Odd number Upto N\n",
            "4) Prime number Upto N \n",
            "5) Quit\n",
            "\n",
            "Choose your option: 5\n"
          ],
          "name": "stdout"
        }
      ]
    }
  ]
}