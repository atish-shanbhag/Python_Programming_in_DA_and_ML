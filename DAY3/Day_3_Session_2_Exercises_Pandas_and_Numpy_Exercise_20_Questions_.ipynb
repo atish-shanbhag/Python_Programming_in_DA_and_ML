{
  "nbformat": 4,
  "nbformat_minor": 0,
  "metadata": {
    "colab": {
      "name": "Day 3 Session 2 Exercises Pandas  and Numpy Exercise 20 Questions .ipynb",
      "provenance": [],
      "collapsed_sections": [],
      "toc_visible": true
    },
    "kernelspec": {
      "name": "python3",
      "display_name": "Python 3"
    }
  },
  "cells": [
    {
      "cell_type": "markdown",
      "metadata": {
        "id": "JHyw4ERFio9b",
        "colab_type": "text"
      },
      "source": [
        "#Write a Pandas program to create and display a one-dimensional array using series  containing  event numbers upto 10000\n",
        "#tip : use List Comprehension\n",
        "#ds = pd.Series([0,2, 4, 6, 8..... 10000]) \n",
        "\n"
      ]
    },
    {
      "cell_type": "code",
      "metadata": {
        "id": "8UuwZ9CMipeM",
        "colab_type": "code",
        "colab": {
          "base_uri": "https://localhost:8080/",
          "height": 218
        },
        "outputId": "1cb28560-7317-462c-e8ea-95cadeedab65"
      },
      "source": [
        "import pandas as pd\n",
        "ds = pd.Series([x for x in range(1000) if x%2==0])\n",
        "print(ds)"
      ],
      "execution_count": 1,
      "outputs": [
        {
          "output_type": "stream",
          "text": [
            "0        0\n",
            "1        2\n",
            "2        4\n",
            "3        6\n",
            "4        8\n",
            "      ... \n",
            "495    990\n",
            "496    992\n",
            "497    994\n",
            "498    996\n",
            "499    998\n",
            "Length: 500, dtype: int64\n"
          ],
          "name": "stdout"
        }
      ]
    },
    {
      "cell_type": "markdown",
      "metadata": {
        "id": "UdMSjmXEjdNS",
        "colab_type": "text"
      },
      "source": [
        "#Write a Pandas program to convert a Panda module Series of the numbers which are between 1000 and 2000 (both inclusive) and divisable by 5 to Python list and  after convertion print its type "
      ]
    },
    {
      "cell_type": "code",
      "metadata": {
        "id": "6EIZidVYjdeP",
        "colab_type": "code",
        "colab": {
          "base_uri": "https://localhost:8080/",
          "height": 218
        },
        "outputId": "d7dca8e3-25af-4495-8624-cdc4b23b454c"
      },
      "source": [
        "import pandas as pd\n",
        "ds = pd.Series([x for x in range(1000,2000) if x%5==0])\n",
        "print(ds)"
      ],
      "execution_count": 2,
      "outputs": [
        {
          "output_type": "stream",
          "text": [
            "0      1000\n",
            "1      1005\n",
            "2      1010\n",
            "3      1015\n",
            "4      1020\n",
            "       ... \n",
            "195    1975\n",
            "196    1980\n",
            "197    1985\n",
            "198    1990\n",
            "199    1995\n",
            "Length: 200, dtype: int64\n"
          ],
          "name": "stdout"
        }
      ]
    },
    {
      "cell_type": "markdown",
      "metadata": {
        "id": "4qPdW_alj6-W",
        "colab_type": "text"
      },
      "source": [
        "#Write a Pandas program to add, subtract, multiple and divide two Pandas Series and print their results using the Sample Series: [2, 4, 6, 8, ...100], [1, 3, 5, 7, 9...99]\n",
        "\n"
      ]
    },
    {
      "cell_type": "code",
      "metadata": {
        "id": "3QVHa2Y8j7Mt",
        "colab_type": "code",
        "colab": {
          "base_uri": "https://localhost:8080/",
          "height": 487
        },
        "outputId": "a56d6151-cb7a-4e8a-880e-7780ba16e81b"
      },
      "source": [
        "import pandas as pd\n",
        "ds1 = pd.Series([2, 4, 6, 8, 10])\n",
        "ds2 = pd.Series([1, 3, 5, 7, 9])\n",
        "ds = ds1 + ds2\n",
        "print(\"Add two Series:\")\n",
        "print(ds)\n",
        "print(\"Subtract two Series:\")\n",
        "ds = ds1 - ds2\n",
        "print(ds)\n",
        "print(\"Multiply two Series:\")\n",
        "ds = ds1 * ds2\n",
        "print(ds)\n",
        "print(\"Divide Series1 by Series2:\")\n",
        "ds = ds1 / ds2\n",
        "print(ds)\n"
      ],
      "execution_count": 3,
      "outputs": [
        {
          "output_type": "stream",
          "text": [
            "Add two Series:\n",
            "0     3\n",
            "1     7\n",
            "2    11\n",
            "3    15\n",
            "4    19\n",
            "dtype: int64\n",
            "Subtract two Series:\n",
            "0    1\n",
            "1    1\n",
            "2    1\n",
            "3    1\n",
            "4    1\n",
            "dtype: int64\n",
            "Multiply two Series:\n",
            "0     2\n",
            "1    12\n",
            "2    30\n",
            "3    56\n",
            "4    90\n",
            "dtype: int64\n",
            "Divide Series1 by Series2:\n",
            "0    2.000000\n",
            "1    1.333333\n",
            "2    1.200000\n",
            "3    1.142857\n",
            "4    1.111111\n",
            "dtype: float64\n"
          ],
          "name": "stdout"
        }
      ]
    },
    {
      "cell_type": "markdown",
      "metadata": {
        "id": "NteJ8jXMk8gJ",
        "colab_type": "text"
      },
      "source": [
        "# Write a Pandas program to compare (Equivalence, greater than, less than, not equal to )the elements of the two Pandas Series.\n",
        "#Sample Series: [All positive numbers divisable by 7 upto 1000], [All positive numbers divisable by 11 upto 1000]\n"
      ]
    },
    {
      "cell_type": "code",
      "metadata": {
        "id": "q2wLN6Nlk8v6",
        "colab_type": "code",
        "colab": {
          "base_uri": "https://localhost:8080/",
          "height": 622
        },
        "outputId": "d1164dac-217e-41f5-9537-f750264f2700"
      },
      "source": [
        "import pandas as pd\n",
        "ds1 = pd.Series([2, 4, 6, 8, 10])\n",
        "ds2 = pd.Series([1, 3, 5, 7, 10])\n",
        "print(\"Series1:\")\n",
        "print(ds1)\n",
        "print(\"Series2:\")\n",
        "print(ds2)\n",
        "print(\"Compare the elements of the said Series:\")\n",
        "print(\"Equals:\")\n",
        "print(ds1 == ds2)\n",
        "print(\"Greater than:\")\n",
        "print(ds1 > ds2)\n",
        "print(\"Less than:\")\n",
        "print(ds1 < ds2)"
      ],
      "execution_count": 4,
      "outputs": [
        {
          "output_type": "stream",
          "text": [
            "Series1:\n",
            "0     2\n",
            "1     4\n",
            "2     6\n",
            "3     8\n",
            "4    10\n",
            "dtype: int64\n",
            "Series2:\n",
            "0     1\n",
            "1     3\n",
            "2     5\n",
            "3     7\n",
            "4    10\n",
            "dtype: int64\n",
            "Compare the elements of the said Series:\n",
            "Equals:\n",
            "0    False\n",
            "1    False\n",
            "2    False\n",
            "3    False\n",
            "4     True\n",
            "dtype: bool\n",
            "Greater than:\n",
            "0     True\n",
            "1     True\n",
            "2     True\n",
            "3     True\n",
            "4    False\n",
            "dtype: bool\n",
            "Less than:\n",
            "0    False\n",
            "1    False\n",
            "2    False\n",
            "3    False\n",
            "4    False\n",
            "dtype: bool\n"
          ],
          "name": "stdout"
        }
      ]
    },
    {
      "cell_type": "markdown",
      "metadata": {
        "id": "amM7RflmlNQd",
        "colab_type": "text"
      },
      "source": [
        "#Write a Pandas program to convert a NumPy array to a Pandas series. \n",
        "#Sample NumPy array: d1 = [10, 20, 30, 40, 50... 1000]\n"
      ]
    },
    {
      "cell_type": "code",
      "metadata": {
        "id": "tkgMF9OQlNkg",
        "colab_type": "code",
        "colab": {
          "base_uri": "https://localhost:8080/",
          "height": 168
        },
        "outputId": "a8ea530d-4534-4f44-83bb-38e05d467e9b"
      },
      "source": [
        "import numpy as np\n",
        "import pandas as pd\n",
        "np_array = np.array([10, 20, 30, 40, 50])\n",
        "print(\"NumPy array:\")\n",
        "print(np_array)\n",
        "new_series = pd.Series(np_array)\n",
        "print(\"Converted Pandas series:\")\n",
        "print(new_series)"
      ],
      "execution_count": 5,
      "outputs": [
        {
          "output_type": "stream",
          "text": [
            "NumPy array:\n",
            "[10 20 30 40 50]\n",
            "Converted Pandas series:\n",
            "0    10\n",
            "1    20\n",
            "2    30\n",
            "3    40\n",
            "4    50\n",
            "dtype: int64\n"
          ],
          "name": "stdout"
        }
      ]
    },
    {
      "cell_type": "markdown",
      "metadata": {
        "id": "WCGxPaWAlete",
        "colab_type": "text"
      },
      "source": [
        "#Write a Pandas program to convert a given Series to an array.\n",
        "#Sample series is ['100', '200', ‘300’,’400’,’500’,'python', '300.12', '400',’is’,’great’,’language’]\n",
        " \n"
      ]
    },
    {
      "cell_type": "code",
      "metadata": {
        "id": "kTIv6NXnle7X",
        "colab_type": "code",
        "colab": {
          "base_uri": "https://localhost:8080/",
          "height": 284
        },
        "outputId": "de367d3b-ef06-499e-adbc-b0f9f3e722d6"
      },
      "source": [
        "import pandas as pd\n",
        "import numpy as np\n",
        "s1 = pd.Series(['100', '200', '300','400','500','python', '300.12', '400','is','great','language'])\n",
        "print(\"Original Data Series:\")\n",
        "print(s1)\n",
        "print(\"Series to an array\")\n",
        "a = np.array(s1.values.tolist())\n",
        "print (a)"
      ],
      "execution_count": null,
      "outputs": [
        {
          "output_type": "stream",
          "text": [
            "Original Data Series:\n",
            "0          100\n",
            "1          200\n",
            "2          300\n",
            "3          400\n",
            "4          500\n",
            "5       python\n",
            "6       300.12\n",
            "7          400\n",
            "8           is\n",
            "9        great\n",
            "10    language\n",
            "dtype: object\n",
            "Series to an array\n",
            "['100' '200' '300' '400' '500' 'python' '300.12' '400' 'is' 'great'\n",
            " 'language']\n"
          ],
          "name": "stdout"
        }
      ]
    },
    {
      "cell_type": "markdown",
      "metadata": {
        "id": "qQcnP7oBl9On",
        "colab_type": "text"
      },
      "source": [
        "#Write a Pandas program to sort a given Series.\n",
        "#Sample series is ['100', '200', ‘300’,’400’,’500’,'python', '300.12', '400',’is’,’great’,’language’]\n",
        "\n"
      ]
    },
    {
      "cell_type": "code",
      "metadata": {
        "id": "pCtK4_fll9eO",
        "colab_type": "code",
        "colab": {
          "base_uri": "https://localhost:8080/",
          "height": 284
        },
        "outputId": "0d201826-08b1-46e7-9c2d-607419bf89f4"
      },
      "source": [
        "import pandas as pd\n",
        "import numpy as np\n",
        "s1 = pd.Series(['100', '200', '300','400','500','python', '300.12', '400','is','great','language'])\n",
        "print(\"Original Data Series:\")\n",
        "print(s1)\n",
        "print(\"Series to an array\")\n",
        "a = np.array(s1.values.tolist())\n",
        "a.sort()\n",
        "print (a)"
      ],
      "execution_count": null,
      "outputs": [
        {
          "output_type": "stream",
          "text": [
            "Original Data Series:\n",
            "0          100\n",
            "1          200\n",
            "2          300\n",
            "3          400\n",
            "4          500\n",
            "5       python\n",
            "6       300.12\n",
            "7          400\n",
            "8           is\n",
            "9        great\n",
            "10    language\n",
            "dtype: object\n",
            "Series to an array\n",
            "['100' '200' '300' '300.12' '400' '400' '500' 'great' 'is' 'language'\n",
            " 'python']\n"
          ],
          "name": "stdout"
        }
      ]
    },
    {
      "cell_type": "markdown",
      "metadata": {
        "id": "m0b0GyvimSH5",
        "colab_type": "text"
      },
      "source": [
        "#Write a Pandas program to create a subsets of a given series based on value and condition.\n",
        "#Sample NumPy array: d1 = [10, 20, 30, 40, 50... 1000]\n",
        "# value and condtion :  Subset 1 :numbers divisable by 7  Subset 2 : numbers divisable by 5\n",
        "\n"
      ]
    },
    {
      "cell_type": "code",
      "metadata": {
        "id": "Guhor21NmSV0",
        "colab_type": "code",
        "colab": {
          "base_uri": "https://localhost:8080/",
          "height": 385
        },
        "outputId": "dd42808e-6b6c-4c58-c107-538838fb57de"
      },
      "source": [
        "import pandas as pd\n",
        "s = pd.Series([0, 1,2,3,4,5,6,7,8,9,10])\n",
        "print(\"Original Data Series:\")\n",
        "print(s)\n",
        "print(\"\\nSubset of the above Data Series:\")\n",
        "n = 6\n",
        "new_s = s[s < n]\n",
        "print(new_s)"
      ],
      "execution_count": null,
      "outputs": [
        {
          "output_type": "stream",
          "text": [
            "Original Data Series:\n",
            "0      0\n",
            "1      1\n",
            "2      2\n",
            "3      3\n",
            "4      4\n",
            "5      5\n",
            "6      6\n",
            "7      7\n",
            "8      8\n",
            "9      9\n",
            "10    10\n",
            "dtype: int64\n",
            "\n",
            "Subset of the above Data Series:\n",
            "0    0\n",
            "1    1\n",
            "2    2\n",
            "3    3\n",
            "4    4\n",
            "5    5\n",
            "dtype: int64\n"
          ],
          "name": "stdout"
        }
      ]
    },
    {
      "cell_type": "markdown",
      "metadata": {
        "id": "084fs_Y9mmWC",
        "colab_type": "text"
      },
      "source": [
        "#Write a Pandas program to create the mean and standard deviation, maximum and minimum of the data of a given Series of the prime numbers upto 1000"
      ]
    },
    {
      "cell_type": "code",
      "metadata": {
        "id": "XGMa7pEommlp",
        "colab_type": "code",
        "colab": {
          "base_uri": "https://localhost:8080/",
          "height": 301
        },
        "outputId": "9ae7280f-1c80-4344-e1f2-8fd4245a1c25"
      },
      "source": [
        "import pandas as pd\n",
        "s = pd.Series(data = [x for x in range(1000) if x%2==0])\n",
        "print(\"Original Data Series:\")\n",
        "print(s)\n",
        "print(\"Mean of the said Data Series:\")\n",
        "print(s.mean())\n",
        "print(\"Standard deviation of the said Data Series:\")\n",
        "print(s.std())"
      ],
      "execution_count": null,
      "outputs": [
        {
          "output_type": "stream",
          "text": [
            "Original Data Series:\n",
            "0        0\n",
            "1        2\n",
            "2        4\n",
            "3        6\n",
            "4        8\n",
            "      ... \n",
            "495    990\n",
            "496    992\n",
            "497    994\n",
            "498    996\n",
            "499    998\n",
            "Length: 500, dtype: int64\n",
            "Mean of the said Data Series:\n",
            "499.0\n",
            "Standard deviation of the said Data Series:\n",
            "288.9636655359978\n"
          ],
          "name": "stdout"
        }
      ]
    },
    {
      "cell_type": "markdown",
      "metadata": {
        "id": "rGGwNI_onEwl",
        "colab_type": "text"
      },
      "source": [
        "#Write a Pandas program to get the elements of an array values into column-wise.\n",
        "#Sample data: {‘X’:[All odd numbers but not divisable by 7 upto 1000], 'Y':[ All even numbers but not divisable by 5 upto 1000 ],'Z':[ All odd numbers but not divisable by 3 upto 1000]}\n"
      ]
    },
    {
      "cell_type": "code",
      "metadata": {
        "id": "4DKWk1omnE_9",
        "colab_type": "code",
        "colab": {
          "base_uri": "https://localhost:8080/",
          "height": 117
        },
        "outputId": "13dece86-fe0a-4c42-9593-9519ffa68455"
      },
      "source": [
        "import pandas as pd\n",
        "df = pd.DataFrame({'X':[78,85,96,80,86], 'Y':[84,94,89,83,86],'Z':[86,97,96,72,83]});\n",
        "print(df)"
      ],
      "execution_count": null,
      "outputs": [
        {
          "output_type": "stream",
          "text": [
            "    X   Y   Z\n",
            "0  78  84  86\n",
            "1  85  94  97\n",
            "2  96  89  96\n",
            "3  80  83  72\n",
            "4  86  86  83\n"
          ],
          "name": "stdout"
        }
      ]
    },
    {
      "cell_type": "markdown",
      "metadata": {
        "id": "NmoaK-rmoD_y",
        "colab_type": "text"
      },
      "source": [
        "#Write a Pandas program to display the first 10 rows of the DataFrame for any particular three fields."
      ]
    },
    {
      "cell_type": "code",
      "metadata": {
        "id": "hAPdwLgFoEU3",
        "colab_type": "code",
        "colab": {
          "base_uri": "https://localhost:8080/",
          "height": 100
        },
        "outputId": "019e8040-78a5-414d-dc13-39b25c2abc6e"
      },
      "source": [
        "import pandas as pd\n",
        "import numpy as np\n",
        "\n",
        "exam_data  = {'name': ['Anastasia', 'Dima', 'Katherine', 'James', 'Emily', 'Michael', 'Matthew', 'Laura', 'Kevin', 'Jonas'],\n",
        "        'score': [12.5, 9, 16.5, np.nan, 9, 20, 14.5, np.nan, 8, 19],\n",
        "        'attempts': [1, 3, 2, 3, 2, 3, 1, 1, 2, 1],\n",
        "        'qualify': ['yes', 'no', 'yes', 'no', 'no', 'yes', 'yes', 'no', 'no', 'yes']}\n",
        "labels = ['a', 'b', 'c', 'd', 'e', 'f', 'g', 'h', 'i', 'j']\n",
        "\n",
        "df = pd.DataFrame(exam_data , index=labels)\n",
        "print(\"First three rows of the data frame:\")\n",
        "print(df.iloc[:3])"
      ],
      "execution_count": null,
      "outputs": [
        {
          "output_type": "stream",
          "text": [
            "First three rows of the data frame:\n",
            "        name  score  attempts qualify\n",
            "a  Anastasia   12.5         1     yes\n",
            "b       Dima    9.0         3      no\n",
            "c  Katherine   16.5         2     yes\n"
          ],
          "name": "stdout"
        }
      ]
    },
    {
      "cell_type": "code",
      "metadata": {
        "id": "QnxszlCCqASr",
        "colab_type": "code",
        "colab": {
          "base_uri": "https://localhost:8080/",
          "height": 101
        },
        "outputId": "d4ba95f6-2da8-4323-929e-97b4d5dc0ebf"
      },
      "source": [
        "import pandas as pd\n",
        "xyz = pd.read_csv('movies_metadata.csv', error_bad_lines=False) \n",
        "print(xyz.head(1))"
      ],
      "execution_count": 11,
      "outputs": [
        {
          "output_type": "stream",
          "text": [
            "   adult  ... vote_count\n",
            "0  False  ...       5415\n",
            "\n",
            "[1 rows x 24 columns]\n"
          ],
          "name": "stdout"
        },
        {
          "output_type": "stream",
          "text": [
            "b'Skipping line 31: expected 24 fields, saw 25\\n'\n"
          ],
          "name": "stderr"
        }
      ]
    },
    {
      "cell_type": "markdown",
      "metadata": {
        "id": "whkZ8BvIqFSE",
        "colab_type": "text"
      },
      "source": [
        "#Write a Pandas program to get the details of the seventh movie of the DataFrame for any particular three fields #(movie_metadata.csv file)."
      ]
    },
    {
      "cell_type": "code",
      "metadata": {
        "id": "NODdSnHdqFmt",
        "colab_type": "code",
        "colab": {
          "base_uri": "https://localhost:8080/",
          "height": 470
        },
        "outputId": "92c34168-dac0-47ad-bef7-a3d19ea728b2"
      },
      "source": [
        "import pandas as pd\n",
        "df = pd.read_csv('movies_metadata.csv', error_bad_lines=False)\n",
        "seventh_movie = df.iloc[3]\n",
        "print(\"Details of the seventh movie:\")\n",
        "print(seventh_movie)"
      ],
      "execution_count": 13,
      "outputs": [
        {
          "output_type": "stream",
          "text": [
            "Details of the seventh movie:\n",
            "adult                                                                False\n",
            "belongs_to_collection                                                  NaN\n",
            "budget                                                            16000000\n",
            "genres                   [{'id': 35, 'name': 'Comedy'}, {'id': 18, 'nam...\n",
            "homepage                                                               NaN\n",
            "id                                                                   31357\n",
            "imdb_id                                                          tt0114885\n",
            "original_language                                                       en\n",
            "original_title                                           Waiting to Exhale\n",
            "overview                 Cheated on, mistreated and stepped on, the wom...\n",
            "popularity                                                         3.85949\n",
            "poster_path                               /16XOMpEaLWkrcPqSQqhTmeJuqQl.jpg\n",
            "production_companies     [{'name': 'Twentieth Century Fox Film Corporat...\n",
            "production_countries     [{'iso_3166_1': 'US', 'name': 'United States o...\n",
            "release_date                                                    1995-12-22\n",
            "revenue                                                           81452156\n",
            "runtime                                                                127\n",
            "spoken_languages                  [{'iso_639_1': 'en', 'name': 'English'}]\n",
            "status                                                            Released\n",
            "tagline                  Friends are the people who let you be yourself...\n",
            "title                                                    Waiting to Exhale\n",
            "video                                                                False\n",
            "vote_average                                                           6.1\n",
            "vote_count                                                              34\n",
            "Name: 3, dtype: object\n"
          ],
          "name": "stdout"
        },
        {
          "output_type": "stream",
          "text": [
            "b'Skipping line 31: expected 24 fields, saw 25\\n'\n"
          ],
          "name": "stderr"
        }
      ]
    },
    {
      "cell_type": "markdown",
      "metadata": {
        "id": "shEnzm7aqalo",
        "colab_type": "text"
      },
      "source": [
        "#Write a Pandas program to sort the DataFrame based on title_year from dataset of movie_metadata.csv for any particular three fields "
      ]
    },
    {
      "cell_type": "code",
      "metadata": {
        "id": "mYDsaxZvqazH",
        "colab_type": "code",
        "colab": {
          "base_uri": "https://localhost:8080/",
          "height": 890
        },
        "outputId": "abd7b030-af5c-45a8-ac47-00e7ba917708"
      },
      "source": [
        "import pandas as pd\n",
        "df = pd.read_csv('movies_metadata.csv', error_bad_lines=False)\n",
        "result = df[['title', 'genres']]\n",
        "print(\"Details of title and genres:\")\n",
        "print(result)"
      ],
      "execution_count": 15,
      "outputs": [
        {
          "output_type": "stream",
          "text": [
            "Details of title and genres:\n",
            "                             title                                             genres\n",
            "0                        Toy Story  [{'id': 16, 'name': 'Animation'}, {'id': 35, '...\n",
            "1                          Jumanji  [{'id': 12, 'name': 'Adventure'}, {'id': 14, '...\n",
            "2                 Grumpier Old Men  [{'id': 10749, 'name': 'Romance'}, {'id': 35, ...\n",
            "3                Waiting to Exhale  [{'id': 35, 'name': 'Comedy'}, {'id': 18, 'nam...\n",
            "4      Father of the Bride Part II                     [{'id': 35, 'name': 'Comedy'}]\n",
            "5                             Heat  [{'id': 28, 'name': 'Action'}, {'id': 80, 'nam...\n",
            "6                          Sabrina  [{'id': 35, 'name': 'Comedy'}, {'id': 10749, '...\n",
            "7                     Tom and Huck  [{'id': 28, 'name': 'Action'}, {'id': 12, 'nam...\n",
            "8                     Sudden Death  [{'id': 28, 'name': 'Action'}, {'id': 12, 'nam...\n",
            "9                        GoldenEye  [{'id': 12, 'name': 'Adventure'}, {'id': 28, '...\n",
            "10          The American President  [{'id': 35, 'name': 'Comedy'}, {'id': 18, 'nam...\n",
            "11     Dracula: Dead and Loving It  [{'id': 35, 'name': 'Comedy'}, {'id': 27, 'nam...\n",
            "12                           Balto  [{'id': 10751, 'name': 'Family'}, {'id': 16, '...\n",
            "13                           Nixon  [{'id': 36, 'name': 'History'}, {'id': 18, 'na...\n",
            "14                Cutthroat Island  [{'id': 28, 'name': 'Action'}, {'id': 12, 'nam...\n",
            "15                          Casino  [{'id': 18, 'name': 'Drama'}, {'id': 80, 'name...\n",
            "16           Sense and Sensibility  [{'id': 18, 'name': 'Drama'}, {'id': 10749, 'n...\n",
            "17                      Four Rooms  [{'id': 80, 'name': 'Crime'}, {'id': 35, 'name...\n",
            "18  Ace Ventura: When Nature Calls  [{'id': 80, 'name': 'Crime'}, {'id': 35, 'name...\n",
            "19                     Money Train  [{'id': 28, 'name': 'Action'}, {'id': 35, 'nam...\n",
            "20                      Get Shorty  [{'id': 35, 'name': 'Comedy'}, {'id': 53, 'nam...\n",
            "21                         Copycat  [{'id': 18, 'name': 'Drama'}, {'id': 53, 'name...\n",
            "22                       Assassins  [{'id': 28, 'name': 'Action'}, {'id': 12, 'nam...\n",
            "23                          Powder  [{'id': 18, 'name': 'Drama'}, {'id': 14, 'name...\n",
            "24               Leaving Las Vegas  [{'id': 18, 'name': 'Drama'}, {'id': 10749, 'n...\n",
            "25                         Othello                      [{'id': 18, 'name': 'Drama'}]\n",
            "26                    Now and Then  [{'id': 35, 'name': 'Comedy'}, {'id': 18, 'nam...\n",
            "27                      Persuasion  [{'id': 18, 'name': 'Drama'}, {'id': 10749, 'n...\n",
            "28       The City of Lost Children  [{'id': 14, 'name': 'Fantasy'}, {'id': 878, 'n...\n",
            "29                 Dangerous Minds  [{'id': 18, 'name': 'Drama'}, {'id': 80, 'name...\n",
            "30                  Twelve Monkeys  [{'id': 878, 'name': 'Science Fiction'}, {'id'...\n",
            "31                Wings of Courage  [{'id': 10749, 'name': 'Romance'}, {'id': 12, ...\n",
            "32                            Babe  [{'id': 14, 'name': 'Fantasy'}, {'id': 18, 'na...\n",
            "33                      Carrington  [{'id': 36, 'name': 'History'}, {'id': 18, 'na...\n",
            "34                Dead Man Walking                      [{'id': 18, 'name': 'Drama'}]\n",
            "35          Across the Sea of Time  [{'id': 12, 'name': 'Adventure'}, {'id': 36, '...\n",
            "36                    It Takes Two  [{'id': 35, 'name': 'Comedy'}, {'id': 10751, '...\n",
            "37                        Clueless  [{'id': 35, 'name': 'Comedy'}, {'id': 18, 'nam...\n",
            "38        Cry, the Beloved Country                      [{'id': 18, 'name': 'Drama'}]\n",
            "39                     Richard III  [{'id': 18, 'name': 'Drama'}, {'id': 10752, 'n...\n",
            "40                 Dead Presidents  [{'id': 28, 'name': 'Action'}, {'id': 80, 'nam...\n",
            "41                     Restoration  [{'id': 18, 'name': 'Drama'}, {'id': 10749, 'n...\n",
            "42                   Mortal Kombat  [{'id': 28, 'name': 'Action'}, {'id': 14, 'nam...\n",
            "43                      To Die For  [{'id': 14, 'name': 'Fantasy'}, {'id': 18, 'na...\n",
            "44   How To Make An American Quilt  [{'id': 18, 'name': 'Drama'}, {'id': 10749, 'n...\n",
            "45                           Se7en  [{'id': 80, 'name': 'Crime'}, {'id': 9648, 'na...\n",
            "46                      Pocahontas  [{'id': 12, 'name': 'Adventure'}, {'id': 16, '...\n",
            "47           When Night Is Falling  [{'id': 18, 'name': 'Drama'}, {'id': 10749, 'n...\n",
            "48              The Usual Suspects  [{'id': 18, 'name': 'Drama'}, {'id': 80, 'name...\n"
          ],
          "name": "stdout"
        },
        {
          "output_type": "stream",
          "text": [
            "b'Skipping line 31: expected 24 fields, saw 25\\n'\n"
          ],
          "name": "stderr"
        }
      ]
    },
    {
      "cell_type": "markdown",
      "metadata": {
        "id": "nUxDapcTrqwE",
        "colab_type": "text"
      },
      "source": [
        "#Write a Pandas program to sort the DataFrame based on country  and language from dataset of  movie_metadata.csv\n",
        "\n"
      ]
    },
    {
      "cell_type": "code",
      "metadata": {
        "id": "KbTNBjajru7-",
        "colab_type": "code",
        "colab": {
          "base_uri": "https://localhost:8080/",
          "height": 321
        },
        "outputId": "a263b189-1454-4c3d-99b9-ef0f6403985a"
      },
      "source": [
        "import pandas as pd\n",
        "df = pd.read_csv('movies_metadata.csv')\n",
        "# Create a smaller dataframe\n",
        "small_df = df[['title', 'release_date', 'budget', 'revenue', 'runtime']]\n",
        "result = small_df.sort_values('release_date')\n",
        "print(\"DataFrame based on country and language.\")\n",
        "print(result)"
      ],
      "execution_count": null,
      "outputs": [
        {
          "output_type": "stream",
          "text": [
            "DataFrame based on country and language.\n",
            "                                                title  ... runtime\n",
            "19730                                             NaN  ...     NaN\n",
            "29503                                             NaN  ...     NaN\n",
            "34940                                Passage of Venus  ...     1.0\n",
            "34937                      Sallie Gardner at a Gallop  ...     1.0\n",
            "41602                                 Buffalo Running  ...     1.0\n",
            "...                                               ...  ...     ...\n",
            "45148                                 Engineering Red  ...    76.0\n",
            "45203  All Superheroes Must Die 2: The Last Superhero  ...    74.0\n",
            "45338                  The Land Where the Blues Began  ...     0.0\n",
            "45410                                           Aprel  ...     NaN\n",
            "45461                                          Subdue  ...    90.0\n",
            "\n",
            "[45466 rows x 5 columns]\n"
          ],
          "name": "stdout"
        },
        {
          "output_type": "stream",
          "text": [
            "/usr/local/lib/python3.6/dist-packages/IPython/core/interactiveshell.py:2718: DtypeWarning: Columns (10) have mixed types.Specify dtype option on import or set low_memory=False.\n",
            "  interactivity=interactivity, compiler=compiler, result=result)\n"
          ],
          "name": "stderr"
        }
      ]
    },
    {
      "cell_type": "markdown",
      "metadata": {
        "id": "LH4CcjZKsD-j",
        "colab_type": "text"
      },
      "source": [
        "#Write a NumPy program to create a random 4x4 array and extract the 2nd and 3rd rows of the  array and store them into a variable"
      ]
    },
    {
      "cell_type": "code",
      "metadata": {
        "id": "UNCmW7sQsEKU",
        "colab_type": "code",
        "colab": {
          "base_uri": "https://localhost:8080/",
          "height": 100
        },
        "outputId": "4aba164f-8ebc-4814-b0f4-551c8278a643"
      },
      "source": [
        "import numpy as np\n",
        "x = np.random.random((4,4))\n",
        "print(\"Original Array:\")\n",
        "print(x) \n"
      ],
      "execution_count": null,
      "outputs": [
        {
          "output_type": "stream",
          "text": [
            "Original Array:\n",
            "[[0.01204517 0.35186679 0.36707914 0.43822489]\n",
            " [0.90011893 0.45353832 0.92001746 0.1158941 ]\n",
            " [0.26627537 0.0195814  0.82203005 0.22593367]\n",
            " [0.5268288  0.8923937  0.45358042 0.72770391]]\n"
          ],
          "name": "stdout"
        }
      ]
    },
    {
      "cell_type": "markdown",
      "metadata": {
        "id": "pn4HE1_dsH0D",
        "colab_type": "text"
      },
      "source": [
        "#Write a NumPy program to create a 10x10 array with random values and find the minimum and maximum values."
      ]
    },
    {
      "cell_type": "code",
      "metadata": {
        "id": "2GB-Ze9JsID1",
        "colab_type": "code",
        "colab": {
          "base_uri": "https://localhost:8080/",
          "height": 401
        },
        "outputId": "f9f14212-2542-465e-b28a-515d2fed2c90"
      },
      "source": [
        "import numpy as np\n",
        "x = np.random.random((10,10))\n",
        "print(\"Original Array:\")\n",
        "print(x) \n",
        "xmin, xmax = x.min(), x.max()\n",
        "print(\"Minimum and Maximum Values:\")\n",
        "print(xmin, xmax)"
      ],
      "execution_count": null,
      "outputs": [
        {
          "output_type": "stream",
          "text": [
            "Original Array:\n",
            "[[0.40744834 0.76725232 0.29901391 0.52678708 0.50050912 0.26806553\n",
            "  0.60441933 0.71362678 0.84354463 0.71855215]\n",
            " [0.23867435 0.16897204 0.86577115 0.5841707  0.83426608 0.35085185\n",
            "  0.34920257 0.9630319  0.29648193 0.94376889]\n",
            " [0.46109152 0.34094848 0.06756039 0.70675974 0.67537061 0.20796137\n",
            "  0.88637508 0.83620898 0.34100151 0.95813007]\n",
            " [0.77580644 0.22816935 0.92762463 0.35865119 0.97411752 0.96621547\n",
            "  0.60110388 0.86232567 0.73515401 0.54361125]\n",
            " [0.36984684 0.98268965 0.24000102 0.11591066 0.9911876  0.36262576\n",
            "  0.57167393 0.65072071 0.81512786 0.93296194]\n",
            " [0.70729899 0.33586498 0.33205016 0.74947205 0.26015726 0.31481229\n",
            "  0.18860129 0.03878801 0.34052664 0.3698773 ]\n",
            " [0.82865584 0.56043079 0.5901351  0.51445038 0.45064597 0.74564006\n",
            "  0.28866654 0.74823784 0.44024861 0.27594701]\n",
            " [0.36667635 0.91889486 0.79782812 0.39486533 0.85726505 0.12097559\n",
            "  0.21971706 0.1491802  0.60639133 0.50535389]\n",
            " [0.39604401 0.34712094 0.40811745 0.01176127 0.20350161 0.32497736\n",
            "  0.74648876 0.20441711 0.70576369 0.5578726 ]\n",
            " [0.8479119  0.5593926  0.34205714 0.65973995 0.72573185 0.60727403\n",
            "  0.44622705 0.90479505 0.16497758 0.97048782]]\n",
            "Minimum and Maximum Values:\n",
            "0.011761273557725271 0.9911875970210984\n"
          ],
          "name": "stdout"
        }
      ]
    },
    {
      "cell_type": "markdown",
      "metadata": {
        "id": "JD20gdBqtXw0",
        "colab_type": "text"
      },
      "source": [
        "#Write a NumPy program to generate 8 random integers between 100 and 300\n",
        "\n"
      ]
    },
    {
      "cell_type": "code",
      "metadata": {
        "id": "MoLfz9D0tYHV",
        "colab_type": "code",
        "colab": {
          "base_uri": "https://localhost:8080/",
          "height": 34
        },
        "outputId": "09674a87-d278-4a38-9731-b17b2f1b826e"
      },
      "source": [
        "import numpy as np\n",
        "x = np.random.randint(low=100, high=300, size=8)\n",
        "print(x)"
      ],
      "execution_count": 7,
      "outputs": [
        {
          "output_type": "stream",
          "text": [
            "[165 133 237 172 287 272 124 272]\n"
          ],
          "name": "stdout"
        }
      ]
    },
    {
      "cell_type": "markdown",
      "metadata": {
        "id": "_j-KGuiRtwAN",
        "colab_type": "text"
      },
      "source": [
        "#Write a NumPy program to create a random integer nos of size 20 and sort it."
      ]
    },
    {
      "cell_type": "code",
      "metadata": {
        "id": "UhapnZ4FtwaN",
        "colab_type": "code",
        "colab": {
          "base_uri": "https://localhost:8080/",
          "height": 185
        },
        "outputId": "89a7d61e-abc8-4762-a993-131d6b7d64d5"
      },
      "source": [
        "import numpy as np\n",
        "x = np.random.random(20)\n",
        "print(\"Original array:\")\n",
        "print(x)\n",
        "x.sort()\n",
        "print(\"Sorted array:\")\n",
        "print(x)"
      ],
      "execution_count": 8,
      "outputs": [
        {
          "output_type": "stream",
          "text": [
            "Original array:\n",
            "[0.26499284 0.95430138 0.07031304 0.66367679 0.48666235 0.23053668\n",
            " 0.43096014 0.12304681 0.77802344 0.74183282 0.38475381 0.06211997\n",
            " 0.35240043 0.31457479 0.66278726 0.60778773 0.64402824 0.34669701\n",
            " 0.88713872 0.49990462]\n",
            "Sorted array:\n",
            "[0.06211997 0.07031304 0.12304681 0.23053668 0.26499284 0.31457479\n",
            " 0.34669701 0.35240043 0.38475381 0.43096014 0.48666235 0.49990462\n",
            " 0.60778773 0.64402824 0.66278726 0.66367679 0.74183282 0.77802344\n",
            " 0.88713872 0.95430138]\n"
          ],
          "name": "stdout"
        }
      ]
    }
  ]
}